{
 "cells": [
  {
   "cell_type": "markdown",
   "id": "framed-scenario",
   "metadata": {},
   "source": [
    "## Objective - To predict whether a customer will subscribe for a term deposit"
   ]
  },
  {
   "cell_type": "code",
   "execution_count": 83,
   "id": "random-debut",
   "metadata": {},
   "outputs": [],
   "source": [
    "import pandas as pd\n",
    "import numpy as np\n",
    "import seaborn as sns\n",
    "import scipy.stats\n",
    "import sklearn\n",
    "import xgboost\n",
    "import lightgbm\n",
    "import matplotlib.pyplot as plt\n",
    "from sklearn.svm import SVC\n",
    "from sklearn.model_selection import train_test_split, cross_val_score, GridSearchCV, StratifiedKFold\n",
    "from imblearn.over_sampling import RandomOverSampler, SMOTE\n",
    "from imblearn.under_sampling import RandomUnderSampler\n",
    "from lazypredict.Supervised import LazyClassifier\n",
    "from sklearn.linear_model import LogisticRegression\n",
    "from sklearn.metrics import plot_confusion_matrix, classification_report, f1_score, roc_auc_score, roc_curve, accuracy_score, precision_score, recall_score \n",
    "from sklearn.neighbors import KNeighborsClassifier\n",
    "from xgboost import XGBClassifier\n",
    "from lightgbm.sklearn import LGBMClassifier\n",
    "from sklearn.ensemble import RandomForestClassifier\n",
    "from sklearn.decomposition import PCA\n",
    "from sklearn.preprocessing import MinMaxScaler\n",
    "from sklearn.feature_selection import chi2, RFECV\n",
    "from scipy.stats import chi2_contingency \n",
    "\n"
   ]
  },
  {
   "cell_type": "markdown",
   "id": "applicable-palestinian",
   "metadata": {},
   "source": [
    "## Loading Dataset"
   ]
  },
  {
   "cell_type": "code",
   "execution_count": 2,
   "id": "lasting-japanese",
   "metadata": {},
   "outputs": [],
   "source": [
    "data_url = (\"/Users/vidyakumar/Desktop/python/apziva/term-deposit-marketing-2020.csv\")"
   ]
  },
  {
   "cell_type": "code",
   "execution_count": 3,
   "id": "expensive-rebound",
   "metadata": {},
   "outputs": [
    {
     "data": {
      "text/html": [
       "<div>\n",
       "<style scoped>\n",
       "    .dataframe tbody tr th:only-of-type {\n",
       "        vertical-align: middle;\n",
       "    }\n",
       "\n",
       "    .dataframe tbody tr th {\n",
       "        vertical-align: top;\n",
       "    }\n",
       "\n",
       "    .dataframe thead th {\n",
       "        text-align: right;\n",
       "    }\n",
       "</style>\n",
       "<table border=\"1\" class=\"dataframe\">\n",
       "  <thead>\n",
       "    <tr style=\"text-align: right;\">\n",
       "      <th></th>\n",
       "      <th>age</th>\n",
       "      <th>job</th>\n",
       "      <th>marital</th>\n",
       "      <th>education</th>\n",
       "      <th>default</th>\n",
       "      <th>balance</th>\n",
       "      <th>housing</th>\n",
       "      <th>loan</th>\n",
       "      <th>contact</th>\n",
       "      <th>day</th>\n",
       "      <th>month</th>\n",
       "      <th>duration</th>\n",
       "      <th>campaign</th>\n",
       "      <th>y</th>\n",
       "    </tr>\n",
       "  </thead>\n",
       "  <tbody>\n",
       "    <tr>\n",
       "      <th>0</th>\n",
       "      <td>58</td>\n",
       "      <td>management</td>\n",
       "      <td>married</td>\n",
       "      <td>tertiary</td>\n",
       "      <td>no</td>\n",
       "      <td>2143</td>\n",
       "      <td>yes</td>\n",
       "      <td>no</td>\n",
       "      <td>unknown</td>\n",
       "      <td>5</td>\n",
       "      <td>may</td>\n",
       "      <td>261</td>\n",
       "      <td>1</td>\n",
       "      <td>no</td>\n",
       "    </tr>\n",
       "    <tr>\n",
       "      <th>1</th>\n",
       "      <td>44</td>\n",
       "      <td>technician</td>\n",
       "      <td>single</td>\n",
       "      <td>secondary</td>\n",
       "      <td>no</td>\n",
       "      <td>29</td>\n",
       "      <td>yes</td>\n",
       "      <td>no</td>\n",
       "      <td>unknown</td>\n",
       "      <td>5</td>\n",
       "      <td>may</td>\n",
       "      <td>151</td>\n",
       "      <td>1</td>\n",
       "      <td>no</td>\n",
       "    </tr>\n",
       "    <tr>\n",
       "      <th>2</th>\n",
       "      <td>33</td>\n",
       "      <td>entrepreneur</td>\n",
       "      <td>married</td>\n",
       "      <td>secondary</td>\n",
       "      <td>no</td>\n",
       "      <td>2</td>\n",
       "      <td>yes</td>\n",
       "      <td>yes</td>\n",
       "      <td>unknown</td>\n",
       "      <td>5</td>\n",
       "      <td>may</td>\n",
       "      <td>76</td>\n",
       "      <td>1</td>\n",
       "      <td>no</td>\n",
       "    </tr>\n",
       "    <tr>\n",
       "      <th>3</th>\n",
       "      <td>47</td>\n",
       "      <td>blue-collar</td>\n",
       "      <td>married</td>\n",
       "      <td>unknown</td>\n",
       "      <td>no</td>\n",
       "      <td>1506</td>\n",
       "      <td>yes</td>\n",
       "      <td>no</td>\n",
       "      <td>unknown</td>\n",
       "      <td>5</td>\n",
       "      <td>may</td>\n",
       "      <td>92</td>\n",
       "      <td>1</td>\n",
       "      <td>no</td>\n",
       "    </tr>\n",
       "    <tr>\n",
       "      <th>4</th>\n",
       "      <td>33</td>\n",
       "      <td>unknown</td>\n",
       "      <td>single</td>\n",
       "      <td>unknown</td>\n",
       "      <td>no</td>\n",
       "      <td>1</td>\n",
       "      <td>no</td>\n",
       "      <td>no</td>\n",
       "      <td>unknown</td>\n",
       "      <td>5</td>\n",
       "      <td>may</td>\n",
       "      <td>198</td>\n",
       "      <td>1</td>\n",
       "      <td>no</td>\n",
       "    </tr>\n",
       "  </tbody>\n",
       "</table>\n",
       "</div>"
      ],
      "text/plain": [
       "   age           job  marital  education default  balance housing loan  \\\n",
       "0   58    management  married   tertiary      no     2143     yes   no   \n",
       "1   44    technician   single  secondary      no       29     yes   no   \n",
       "2   33  entrepreneur  married  secondary      no        2     yes  yes   \n",
       "3   47   blue-collar  married    unknown      no     1506     yes   no   \n",
       "4   33       unknown   single    unknown      no        1      no   no   \n",
       "\n",
       "   contact  day month  duration  campaign   y  \n",
       "0  unknown    5   may       261         1  no  \n",
       "1  unknown    5   may       151         1  no  \n",
       "2  unknown    5   may        76         1  no  \n",
       "3  unknown    5   may        92         1  no  \n",
       "4  unknown    5   may       198         1  no  "
      ]
     },
     "execution_count": 3,
     "metadata": {},
     "output_type": "execute_result"
    }
   ],
   "source": [
    "def load_data():\n",
    "    data = pd.read_csv(data_url)\n",
    "    return data\n",
    "\n",
    "data = load_data()\n",
    "\n",
    "data.head()"
   ]
  },
  {
   "cell_type": "code",
   "execution_count": 4,
   "id": "phantom-eclipse",
   "metadata": {},
   "outputs": [
    {
     "name": "stdout",
     "output_type": "stream",
     "text": [
      "<class 'pandas.core.frame.DataFrame'>\n",
      "RangeIndex: 40000 entries, 0 to 39999\n",
      "Data columns (total 14 columns):\n",
      " #   Column     Non-Null Count  Dtype \n",
      "---  ------     --------------  ----- \n",
      " 0   age        40000 non-null  int64 \n",
      " 1   job        40000 non-null  object\n",
      " 2   marital    40000 non-null  object\n",
      " 3   education  40000 non-null  object\n",
      " 4   default    40000 non-null  object\n",
      " 5   balance    40000 non-null  int64 \n",
      " 6   housing    40000 non-null  object\n",
      " 7   loan       40000 non-null  object\n",
      " 8   contact    40000 non-null  object\n",
      " 9   day        40000 non-null  int64 \n",
      " 10  month      40000 non-null  object\n",
      " 11  duration   40000 non-null  int64 \n",
      " 12  campaign   40000 non-null  int64 \n",
      " 13  y          40000 non-null  object\n",
      "dtypes: int64(5), object(9)\n",
      "memory usage: 4.3+ MB\n"
     ]
    }
   ],
   "source": [
    "data.info()"
   ]
  },
  {
   "cell_type": "markdown",
   "id": "oriental-mattress",
   "metadata": {},
   "source": [
    "#### Total rows - 40,000. There are no missing values, hence imputation is not required."
   ]
  },
  {
   "cell_type": "markdown",
   "id": "standing-disclaimer",
   "metadata": {},
   "source": [
    "## Exploratory Data Analysis"
   ]
  },
  {
   "cell_type": "code",
   "execution_count": 5,
   "id": "necessary-information",
   "metadata": {},
   "outputs": [
    {
     "data": {
      "text/html": [
       "<div>\n",
       "<style scoped>\n",
       "    .dataframe tbody tr th:only-of-type {\n",
       "        vertical-align: middle;\n",
       "    }\n",
       "\n",
       "    .dataframe tbody tr th {\n",
       "        vertical-align: top;\n",
       "    }\n",
       "\n",
       "    .dataframe thead th {\n",
       "        text-align: right;\n",
       "    }\n",
       "</style>\n",
       "<table border=\"1\" class=\"dataframe\">\n",
       "  <thead>\n",
       "    <tr style=\"text-align: right;\">\n",
       "      <th></th>\n",
       "      <th>age</th>\n",
       "      <th>job</th>\n",
       "      <th>marital</th>\n",
       "      <th>education</th>\n",
       "      <th>default</th>\n",
       "      <th>balance</th>\n",
       "      <th>housing</th>\n",
       "      <th>loan</th>\n",
       "      <th>contact</th>\n",
       "      <th>day</th>\n",
       "      <th>month</th>\n",
       "      <th>duration</th>\n",
       "      <th>campaign</th>\n",
       "      <th>y</th>\n",
       "      <th>age_categ</th>\n",
       "    </tr>\n",
       "  </thead>\n",
       "  <tbody>\n",
       "    <tr>\n",
       "      <th>39995</th>\n",
       "      <td>53</td>\n",
       "      <td>technician</td>\n",
       "      <td>married</td>\n",
       "      <td>tertiary</td>\n",
       "      <td>no</td>\n",
       "      <td>395</td>\n",
       "      <td>no</td>\n",
       "      <td>no</td>\n",
       "      <td>cellular</td>\n",
       "      <td>3</td>\n",
       "      <td>jun</td>\n",
       "      <td>107</td>\n",
       "      <td>1</td>\n",
       "      <td>no</td>\n",
       "      <td>age_50_57</td>\n",
       "    </tr>\n",
       "    <tr>\n",
       "      <th>39996</th>\n",
       "      <td>30</td>\n",
       "      <td>management</td>\n",
       "      <td>single</td>\n",
       "      <td>tertiary</td>\n",
       "      <td>no</td>\n",
       "      <td>3340</td>\n",
       "      <td>no</td>\n",
       "      <td>no</td>\n",
       "      <td>cellular</td>\n",
       "      <td>3</td>\n",
       "      <td>jun</td>\n",
       "      <td>238</td>\n",
       "      <td>3</td>\n",
       "      <td>yes</td>\n",
       "      <td>age_26_33</td>\n",
       "    </tr>\n",
       "    <tr>\n",
       "      <th>39997</th>\n",
       "      <td>54</td>\n",
       "      <td>admin</td>\n",
       "      <td>divorced</td>\n",
       "      <td>secondary</td>\n",
       "      <td>no</td>\n",
       "      <td>200</td>\n",
       "      <td>no</td>\n",
       "      <td>no</td>\n",
       "      <td>cellular</td>\n",
       "      <td>3</td>\n",
       "      <td>jun</td>\n",
       "      <td>170</td>\n",
       "      <td>1</td>\n",
       "      <td>yes</td>\n",
       "      <td>age_50_57</td>\n",
       "    </tr>\n",
       "    <tr>\n",
       "      <th>39998</th>\n",
       "      <td>34</td>\n",
       "      <td>management</td>\n",
       "      <td>married</td>\n",
       "      <td>tertiary</td>\n",
       "      <td>no</td>\n",
       "      <td>1047</td>\n",
       "      <td>no</td>\n",
       "      <td>no</td>\n",
       "      <td>cellular</td>\n",
       "      <td>3</td>\n",
       "      <td>jun</td>\n",
       "      <td>342</td>\n",
       "      <td>1</td>\n",
       "      <td>no</td>\n",
       "      <td>age_34_41</td>\n",
       "    </tr>\n",
       "    <tr>\n",
       "      <th>39999</th>\n",
       "      <td>38</td>\n",
       "      <td>technician</td>\n",
       "      <td>married</td>\n",
       "      <td>secondary</td>\n",
       "      <td>no</td>\n",
       "      <td>1442</td>\n",
       "      <td>yes</td>\n",
       "      <td>no</td>\n",
       "      <td>cellular</td>\n",
       "      <td>3</td>\n",
       "      <td>jun</td>\n",
       "      <td>113</td>\n",
       "      <td>1</td>\n",
       "      <td>no</td>\n",
       "      <td>age_34_41</td>\n",
       "    </tr>\n",
       "  </tbody>\n",
       "</table>\n",
       "</div>"
      ],
      "text/plain": [
       "       age         job   marital  education default  balance housing loan  \\\n",
       "39995   53  technician   married   tertiary      no      395      no   no   \n",
       "39996   30  management    single   tertiary      no     3340      no   no   \n",
       "39997   54       admin  divorced  secondary      no      200      no   no   \n",
       "39998   34  management   married   tertiary      no     1047      no   no   \n",
       "39999   38  technician   married  secondary      no     1442     yes   no   \n",
       "\n",
       "        contact  day month  duration  campaign    y  age_categ  \n",
       "39995  cellular    3   jun       107         1   no  age_50_57  \n",
       "39996  cellular    3   jun       238         3  yes  age_26_33  \n",
       "39997  cellular    3   jun       170         1  yes  age_50_57  \n",
       "39998  cellular    3   jun       342         1   no  age_34_41  \n",
       "39999  cellular    3   jun       113         1   no  age_34_41  "
      ]
     },
     "execution_count": 5,
     "metadata": {},
     "output_type": "execute_result"
    }
   ],
   "source": [
    "#creating age groups for visualization\n",
    "cut_labels = ['age_18_25', 'age_26_33', 'age_34_41', 'age_42_49','age_50_57', 'age_58_65', 'age_66_73', 'age_74_89','age_90&abv']\n",
    "cut_bins = [18, 25, 33, 41, 49, 57, 65, 73, 89, 100]\n",
    "data['age_categ'] = pd.cut(data['age'], bins=cut_bins, labels=cut_labels)\n",
    "\n",
    "data.tail(5)"
   ]
  },
  {
   "cell_type": "code",
   "execution_count": 6,
   "id": "aging-intensity",
   "metadata": {},
   "outputs": [
    {
     "data": {
      "text/html": [
       "<div>\n",
       "<style scoped>\n",
       "    .dataframe tbody tr th:only-of-type {\n",
       "        vertical-align: middle;\n",
       "    }\n",
       "\n",
       "    .dataframe tbody tr th {\n",
       "        vertical-align: top;\n",
       "    }\n",
       "\n",
       "    .dataframe thead th {\n",
       "        text-align: right;\n",
       "    }\n",
       "</style>\n",
       "<table border=\"1\" class=\"dataframe\">\n",
       "  <thead>\n",
       "    <tr style=\"text-align: right;\">\n",
       "      <th></th>\n",
       "      <th>age</th>\n",
       "      <th>job</th>\n",
       "      <th>marital</th>\n",
       "      <th>education</th>\n",
       "      <th>default</th>\n",
       "      <th>balance</th>\n",
       "      <th>housing</th>\n",
       "      <th>loan</th>\n",
       "      <th>contact</th>\n",
       "      <th>day</th>\n",
       "      <th>month</th>\n",
       "      <th>duration</th>\n",
       "      <th>campaign</th>\n",
       "      <th>y</th>\n",
       "      <th>age_categ</th>\n",
       "      <th>camp_categ</th>\n",
       "    </tr>\n",
       "  </thead>\n",
       "  <tbody>\n",
       "    <tr>\n",
       "      <th>39995</th>\n",
       "      <td>53</td>\n",
       "      <td>technician</td>\n",
       "      <td>married</td>\n",
       "      <td>tertiary</td>\n",
       "      <td>no</td>\n",
       "      <td>395</td>\n",
       "      <td>no</td>\n",
       "      <td>no</td>\n",
       "      <td>cellular</td>\n",
       "      <td>3</td>\n",
       "      <td>jun</td>\n",
       "      <td>107</td>\n",
       "      <td>1</td>\n",
       "      <td>no</td>\n",
       "      <td>age_50_57</td>\n",
       "      <td>camp_1_5</td>\n",
       "    </tr>\n",
       "    <tr>\n",
       "      <th>39996</th>\n",
       "      <td>30</td>\n",
       "      <td>management</td>\n",
       "      <td>single</td>\n",
       "      <td>tertiary</td>\n",
       "      <td>no</td>\n",
       "      <td>3340</td>\n",
       "      <td>no</td>\n",
       "      <td>no</td>\n",
       "      <td>cellular</td>\n",
       "      <td>3</td>\n",
       "      <td>jun</td>\n",
       "      <td>238</td>\n",
       "      <td>3</td>\n",
       "      <td>yes</td>\n",
       "      <td>age_26_33</td>\n",
       "      <td>camp_1_5</td>\n",
       "    </tr>\n",
       "    <tr>\n",
       "      <th>39997</th>\n",
       "      <td>54</td>\n",
       "      <td>admin</td>\n",
       "      <td>divorced</td>\n",
       "      <td>secondary</td>\n",
       "      <td>no</td>\n",
       "      <td>200</td>\n",
       "      <td>no</td>\n",
       "      <td>no</td>\n",
       "      <td>cellular</td>\n",
       "      <td>3</td>\n",
       "      <td>jun</td>\n",
       "      <td>170</td>\n",
       "      <td>1</td>\n",
       "      <td>yes</td>\n",
       "      <td>age_50_57</td>\n",
       "      <td>camp_1_5</td>\n",
       "    </tr>\n",
       "    <tr>\n",
       "      <th>39998</th>\n",
       "      <td>34</td>\n",
       "      <td>management</td>\n",
       "      <td>married</td>\n",
       "      <td>tertiary</td>\n",
       "      <td>no</td>\n",
       "      <td>1047</td>\n",
       "      <td>no</td>\n",
       "      <td>no</td>\n",
       "      <td>cellular</td>\n",
       "      <td>3</td>\n",
       "      <td>jun</td>\n",
       "      <td>342</td>\n",
       "      <td>1</td>\n",
       "      <td>no</td>\n",
       "      <td>age_34_41</td>\n",
       "      <td>camp_1_5</td>\n",
       "    </tr>\n",
       "    <tr>\n",
       "      <th>39999</th>\n",
       "      <td>38</td>\n",
       "      <td>technician</td>\n",
       "      <td>married</td>\n",
       "      <td>secondary</td>\n",
       "      <td>no</td>\n",
       "      <td>1442</td>\n",
       "      <td>yes</td>\n",
       "      <td>no</td>\n",
       "      <td>cellular</td>\n",
       "      <td>3</td>\n",
       "      <td>jun</td>\n",
       "      <td>113</td>\n",
       "      <td>1</td>\n",
       "      <td>no</td>\n",
       "      <td>age_34_41</td>\n",
       "      <td>camp_1_5</td>\n",
       "    </tr>\n",
       "  </tbody>\n",
       "</table>\n",
       "</div>"
      ],
      "text/plain": [
       "       age         job   marital  education default  balance housing loan  \\\n",
       "39995   53  technician   married   tertiary      no      395      no   no   \n",
       "39996   30  management    single   tertiary      no     3340      no   no   \n",
       "39997   54       admin  divorced  secondary      no      200      no   no   \n",
       "39998   34  management   married   tertiary      no     1047      no   no   \n",
       "39999   38  technician   married  secondary      no     1442     yes   no   \n",
       "\n",
       "        contact  day month  duration  campaign    y  age_categ camp_categ  \n",
       "39995  cellular    3   jun       107         1   no  age_50_57   camp_1_5  \n",
       "39996  cellular    3   jun       238         3  yes  age_26_33   camp_1_5  \n",
       "39997  cellular    3   jun       170         1  yes  age_50_57   camp_1_5  \n",
       "39998  cellular    3   jun       342         1   no  age_34_41   camp_1_5  \n",
       "39999  cellular    3   jun       113         1   no  age_34_41   camp_1_5  "
      ]
     },
     "execution_count": 6,
     "metadata": {},
     "output_type": "execute_result"
    }
   ],
   "source": [
    "#creating campaign groups for visualization\n",
    "cut_labels1 = ['camp_1_5', 'camp_6_10', 'camp_11_15', 'camp_16_30','camp_31_50', 'camp_51_65']\n",
    "cut_bins1 = [0, 5, 10, 15, 30, 50, 65]\n",
    "data['camp_categ'] = pd.cut(data['campaign'], bins=cut_bins1, labels=cut_labels1)\n",
    "\n",
    "data.tail(5)"
   ]
  },
  {
   "cell_type": "markdown",
   "id": "metropolitan-thousand",
   "metadata": {},
   "source": [
    "#### Dummy variables - Convert categorical data into numeric"
   ]
  },
  {
   "cell_type": "code",
   "execution_count": 7,
   "id": "regional-invasion",
   "metadata": {},
   "outputs": [],
   "source": [
    "data_job = pd.get_dummies(data['job'], prefix = 'job', prefix_sep = '_', drop_first = True)\n",
    "data_marital = pd.get_dummies(data['marital'], prefix = 'marital', prefix_sep = '_', drop_first = True)\n",
    "data_education = pd.get_dummies(data['education'], prefix = 'education', prefix_sep = '_', drop_first = True)\n",
    "data_default = pd.get_dummies(data['default'], prefix = 'default', prefix_sep = '_', drop_first = True)\n",
    "data_housing = pd.get_dummies(data['housing'], prefix = 'housing', prefix_sep = '_', drop_first = True)\n",
    "data_loan = pd.get_dummies(data['loan'], prefix = 'loan', prefix_sep = '_', drop_first = True)\n",
    "data_contact = pd.get_dummies(data['contact'], prefix = 'contact', prefix_sep = '_', drop_first = True)\n",
    "data_month = pd.get_dummies(data['month'], prefix = 'month', prefix_sep = '_', drop_first = True)\n",
    "data_y = pd.get_dummies(data['y'], prefix = 'y', prefix_sep = '_', drop_first = True)"
   ]
  },
  {
   "cell_type": "code",
   "execution_count": 8,
   "id": "mexican-marsh",
   "metadata": {},
   "outputs": [],
   "source": [
    "# Concat original data frame and dummy columns\n",
    "data_dc = data.drop(columns = ['job', 'marital', 'education', 'default', 'housing', 'loan', 'contact', 'month', 'y','age_categ','camp_categ'])\n",
    "data_dc = pd.concat([data_dc, data_job, data_marital, data_education, data_default, data_housing, data_loan, data_contact, data_month, data_y], axis = 1)"
   ]
  },
  {
   "cell_type": "code",
   "execution_count": 9,
   "id": "competitive-bulletin",
   "metadata": {},
   "outputs": [
    {
     "data": {
      "text/html": [
       "<div>\n",
       "<style scoped>\n",
       "    .dataframe tbody tr th:only-of-type {\n",
       "        vertical-align: middle;\n",
       "    }\n",
       "\n",
       "    .dataframe tbody tr th {\n",
       "        vertical-align: top;\n",
       "    }\n",
       "\n",
       "    .dataframe thead th {\n",
       "        text-align: right;\n",
       "    }\n",
       "</style>\n",
       "<table border=\"1\" class=\"dataframe\">\n",
       "  <thead>\n",
       "    <tr style=\"text-align: right;\">\n",
       "      <th></th>\n",
       "      <th>age</th>\n",
       "      <th>balance</th>\n",
       "      <th>day</th>\n",
       "      <th>duration</th>\n",
       "      <th>campaign</th>\n",
       "      <th>job_blue-collar</th>\n",
       "      <th>job_entrepreneur</th>\n",
       "      <th>job_housemaid</th>\n",
       "      <th>job_management</th>\n",
       "      <th>job_retired</th>\n",
       "      <th>...</th>\n",
       "      <th>month_dec</th>\n",
       "      <th>month_feb</th>\n",
       "      <th>month_jan</th>\n",
       "      <th>month_jul</th>\n",
       "      <th>month_jun</th>\n",
       "      <th>month_mar</th>\n",
       "      <th>month_may</th>\n",
       "      <th>month_nov</th>\n",
       "      <th>month_oct</th>\n",
       "      <th>y_yes</th>\n",
       "    </tr>\n",
       "  </thead>\n",
       "  <tbody>\n",
       "    <tr>\n",
       "      <th>count</th>\n",
       "      <td>40000.00</td>\n",
       "      <td>40000.00</td>\n",
       "      <td>40000.00</td>\n",
       "      <td>40000.00</td>\n",
       "      <td>40000.00</td>\n",
       "      <td>40000.00</td>\n",
       "      <td>40000.00</td>\n",
       "      <td>40000.00</td>\n",
       "      <td>40000.00</td>\n",
       "      <td>40000.00</td>\n",
       "      <td>...</td>\n",
       "      <td>40000.00</td>\n",
       "      <td>40000.00</td>\n",
       "      <td>40000.00</td>\n",
       "      <td>40000.00</td>\n",
       "      <td>40000.00</td>\n",
       "      <td>40000.00</td>\n",
       "      <td>40000.00</td>\n",
       "      <td>40000.00</td>\n",
       "      <td>40000.00</td>\n",
       "      <td>40000.00</td>\n",
       "    </tr>\n",
       "    <tr>\n",
       "      <th>mean</th>\n",
       "      <td>40.54</td>\n",
       "      <td>1274.28</td>\n",
       "      <td>16.02</td>\n",
       "      <td>254.82</td>\n",
       "      <td>2.88</td>\n",
       "      <td>0.23</td>\n",
       "      <td>0.04</td>\n",
       "      <td>0.03</td>\n",
       "      <td>0.20</td>\n",
       "      <td>0.04</td>\n",
       "      <td>...</td>\n",
       "      <td>0.00</td>\n",
       "      <td>0.06</td>\n",
       "      <td>0.03</td>\n",
       "      <td>0.16</td>\n",
       "      <td>0.12</td>\n",
       "      <td>0.01</td>\n",
       "      <td>0.34</td>\n",
       "      <td>0.09</td>\n",
       "      <td>0.00</td>\n",
       "      <td>0.07</td>\n",
       "    </tr>\n",
       "    <tr>\n",
       "      <th>std</th>\n",
       "      <td>9.64</td>\n",
       "      <td>2903.77</td>\n",
       "      <td>8.28</td>\n",
       "      <td>259.37</td>\n",
       "      <td>3.24</td>\n",
       "      <td>0.42</td>\n",
       "      <td>0.18</td>\n",
       "      <td>0.16</td>\n",
       "      <td>0.40</td>\n",
       "      <td>0.19</td>\n",
       "      <td>...</td>\n",
       "      <td>0.02</td>\n",
       "      <td>0.23</td>\n",
       "      <td>0.17</td>\n",
       "      <td>0.37</td>\n",
       "      <td>0.32</td>\n",
       "      <td>0.08</td>\n",
       "      <td>0.47</td>\n",
       "      <td>0.29</td>\n",
       "      <td>0.04</td>\n",
       "      <td>0.26</td>\n",
       "    </tr>\n",
       "    <tr>\n",
       "      <th>min</th>\n",
       "      <td>19.00</td>\n",
       "      <td>-8019.00</td>\n",
       "      <td>1.00</td>\n",
       "      <td>0.00</td>\n",
       "      <td>1.00</td>\n",
       "      <td>0.00</td>\n",
       "      <td>0.00</td>\n",
       "      <td>0.00</td>\n",
       "      <td>0.00</td>\n",
       "      <td>0.00</td>\n",
       "      <td>...</td>\n",
       "      <td>0.00</td>\n",
       "      <td>0.00</td>\n",
       "      <td>0.00</td>\n",
       "      <td>0.00</td>\n",
       "      <td>0.00</td>\n",
       "      <td>0.00</td>\n",
       "      <td>0.00</td>\n",
       "      <td>0.00</td>\n",
       "      <td>0.00</td>\n",
       "      <td>0.00</td>\n",
       "    </tr>\n",
       "    <tr>\n",
       "      <th>25%</th>\n",
       "      <td>33.00</td>\n",
       "      <td>54.00</td>\n",
       "      <td>8.00</td>\n",
       "      <td>100.00</td>\n",
       "      <td>1.00</td>\n",
       "      <td>0.00</td>\n",
       "      <td>0.00</td>\n",
       "      <td>0.00</td>\n",
       "      <td>0.00</td>\n",
       "      <td>0.00</td>\n",
       "      <td>...</td>\n",
       "      <td>0.00</td>\n",
       "      <td>0.00</td>\n",
       "      <td>0.00</td>\n",
       "      <td>0.00</td>\n",
       "      <td>0.00</td>\n",
       "      <td>0.00</td>\n",
       "      <td>0.00</td>\n",
       "      <td>0.00</td>\n",
       "      <td>0.00</td>\n",
       "      <td>0.00</td>\n",
       "    </tr>\n",
       "    <tr>\n",
       "      <th>50%</th>\n",
       "      <td>39.00</td>\n",
       "      <td>407.00</td>\n",
       "      <td>17.00</td>\n",
       "      <td>175.00</td>\n",
       "      <td>2.00</td>\n",
       "      <td>0.00</td>\n",
       "      <td>0.00</td>\n",
       "      <td>0.00</td>\n",
       "      <td>0.00</td>\n",
       "      <td>0.00</td>\n",
       "      <td>...</td>\n",
       "      <td>0.00</td>\n",
       "      <td>0.00</td>\n",
       "      <td>0.00</td>\n",
       "      <td>0.00</td>\n",
       "      <td>0.00</td>\n",
       "      <td>0.00</td>\n",
       "      <td>0.00</td>\n",
       "      <td>0.00</td>\n",
       "      <td>0.00</td>\n",
       "      <td>0.00</td>\n",
       "    </tr>\n",
       "    <tr>\n",
       "      <th>75%</th>\n",
       "      <td>48.00</td>\n",
       "      <td>1319.00</td>\n",
       "      <td>21.00</td>\n",
       "      <td>313.00</td>\n",
       "      <td>3.00</td>\n",
       "      <td>0.00</td>\n",
       "      <td>0.00</td>\n",
       "      <td>0.00</td>\n",
       "      <td>0.00</td>\n",
       "      <td>0.00</td>\n",
       "      <td>...</td>\n",
       "      <td>0.00</td>\n",
       "      <td>0.00</td>\n",
       "      <td>0.00</td>\n",
       "      <td>0.00</td>\n",
       "      <td>0.00</td>\n",
       "      <td>0.00</td>\n",
       "      <td>1.00</td>\n",
       "      <td>0.00</td>\n",
       "      <td>0.00</td>\n",
       "      <td>0.00</td>\n",
       "    </tr>\n",
       "    <tr>\n",
       "      <th>max</th>\n",
       "      <td>95.00</td>\n",
       "      <td>102127.00</td>\n",
       "      <td>31.00</td>\n",
       "      <td>4918.00</td>\n",
       "      <td>63.00</td>\n",
       "      <td>1.00</td>\n",
       "      <td>1.00</td>\n",
       "      <td>1.00</td>\n",
       "      <td>1.00</td>\n",
       "      <td>1.00</td>\n",
       "      <td>...</td>\n",
       "      <td>1.00</td>\n",
       "      <td>1.00</td>\n",
       "      <td>1.00</td>\n",
       "      <td>1.00</td>\n",
       "      <td>1.00</td>\n",
       "      <td>1.00</td>\n",
       "      <td>1.00</td>\n",
       "      <td>1.00</td>\n",
       "      <td>1.00</td>\n",
       "      <td>1.00</td>\n",
       "    </tr>\n",
       "  </tbody>\n",
       "</table>\n",
       "<p>8 rows × 37 columns</p>\n",
       "</div>"
      ],
      "text/plain": [
       "           age   balance      day  duration  campaign  job_blue-collar  \\\n",
       "count 40000.00  40000.00 40000.00  40000.00  40000.00         40000.00   \n",
       "mean     40.54   1274.28    16.02    254.82      2.88             0.23   \n",
       "std       9.64   2903.77     8.28    259.37      3.24             0.42   \n",
       "min      19.00  -8019.00     1.00      0.00      1.00             0.00   \n",
       "25%      33.00     54.00     8.00    100.00      1.00             0.00   \n",
       "50%      39.00    407.00    17.00    175.00      2.00             0.00   \n",
       "75%      48.00   1319.00    21.00    313.00      3.00             0.00   \n",
       "max      95.00 102127.00    31.00   4918.00     63.00             1.00   \n",
       "\n",
       "       job_entrepreneur  job_housemaid  job_management  job_retired  ...  \\\n",
       "count          40000.00       40000.00        40000.00     40000.00  ...   \n",
       "mean               0.04           0.03            0.20         0.04  ...   \n",
       "std                0.18           0.16            0.40         0.19  ...   \n",
       "min                0.00           0.00            0.00         0.00  ...   \n",
       "25%                0.00           0.00            0.00         0.00  ...   \n",
       "50%                0.00           0.00            0.00         0.00  ...   \n",
       "75%                0.00           0.00            0.00         0.00  ...   \n",
       "max                1.00           1.00            1.00         1.00  ...   \n",
       "\n",
       "       month_dec  month_feb  month_jan  month_jul  month_jun  month_mar  \\\n",
       "count   40000.00   40000.00   40000.00   40000.00   40000.00   40000.00   \n",
       "mean        0.00       0.06       0.03       0.16       0.12       0.01   \n",
       "std         0.02       0.23       0.17       0.37       0.32       0.08   \n",
       "min         0.00       0.00       0.00       0.00       0.00       0.00   \n",
       "25%         0.00       0.00       0.00       0.00       0.00       0.00   \n",
       "50%         0.00       0.00       0.00       0.00       0.00       0.00   \n",
       "75%         0.00       0.00       0.00       0.00       0.00       0.00   \n",
       "max         1.00       1.00       1.00       1.00       1.00       1.00   \n",
       "\n",
       "       month_may  month_nov  month_oct    y_yes  \n",
       "count   40000.00   40000.00   40000.00 40000.00  \n",
       "mean        0.34       0.09       0.00     0.07  \n",
       "std         0.47       0.29       0.04     0.26  \n",
       "min         0.00       0.00       0.00     0.00  \n",
       "25%         0.00       0.00       0.00     0.00  \n",
       "50%         0.00       0.00       0.00     0.00  \n",
       "75%         1.00       0.00       0.00     0.00  \n",
       "max         1.00       1.00       1.00     1.00  \n",
       "\n",
       "[8 rows x 37 columns]"
      ]
     },
     "execution_count": 9,
     "metadata": {},
     "output_type": "execute_result"
    }
   ],
   "source": [
    "data_dc.describe()"
   ]
  },
  {
   "cell_type": "markdown",
   "id": "labeled-miller",
   "metadata": {},
   "source": [
    "#### Creating various plots for visualization"
   ]
  },
  {
   "cell_type": "code",
   "execution_count": 10,
   "id": "automotive-albert",
   "metadata": {},
   "outputs": [
    {
     "data": {
      "image/png": "[encoded data removed]",
      "text/plain": [
       "<Figure size 432x288 with 1 Axes>"
      ]
     },
     "metadata": {},
     "output_type": "display_data"
    }
   ],
   "source": [
    "#age and deposit\n",
    "sns.set_style('whitegrid')\n",
    "ax= sns.boxplot(x='y_yes',y='age', data=data_dc)\n",
    "ax = sns.stripplot(x='y_yes',y='age', data=data_dc)"
   ]
  },
  {
   "cell_type": "code",
   "execution_count": 11,
   "id": "super-works",
   "metadata": {},
   "outputs": [
    {
     "data": {
      "text/plain": [
       "[Text(0, 0, 'management'),\n",
       " Text(1, 0, 'technician'),\n",
       " Text(2, 0, 'entrepreneur'),\n",
       " Text(3, 0, 'blue-collar'),\n",
       " Text(4, 0, 'unknown'),\n",
       " Text(5, 0, 'retired'),\n",
       " Text(6, 0, 'admin'),\n",
       " Text(7, 0, 'services'),\n",
       " Text(8, 0, 'self-employed'),\n",
       " Text(9, 0, 'unemployed'),\n",
       " Text(10, 0, 'housemaid'),\n",
       " Text(11, 0, 'student')]"
      ]
     },
     "execution_count": 11,
     "metadata": {},
     "output_type": "execute_result"
    },
    {
     "data": {
      "image/png": "[encoded data removed]",
      "text/plain": [
       "<Figure size 432x288 with 1 Axes>"
      ]
     },
     "metadata": {},
     "output_type": "display_data"
    }
   ],
   "source": [
    "#job and deposit\n",
    "sns.set_style('whitegrid')\n",
    "ax= sns.boxplot(x='job',y='balance',hue=\"y\",data=data)\n",
    "ax.set_xticklabels(ax.get_xticklabels(),rotation=30)"
   ]
  },
  {
   "cell_type": "code",
   "execution_count": 12,
   "id": "attempted-tracker",
   "metadata": {},
   "outputs": [
    {
     "data": {
      "text/plain": [
       "<AxesSubplot:title={'center':'Job and Deposit'}>"
      ]
     },
     "execution_count": 12,
     "metadata": {},
     "output_type": "execute_result"
    },
    {
     "data": {
      "image/png": "[encoded data removed]",
      "text/plain": [
       "<Figure size 432x288 with 1 Axes>"
      ]
     },
     "metadata": {},
     "output_type": "display_data"
    }
   ],
   "source": [
    "#job and deposit\n",
    "job_df = pd.DataFrame()\n",
    "\n",
    "job_df['yes'] = data[data['y'] == 'yes']['job'].value_counts()\n",
    "job_df['no'] = data[data['y'] == 'no']['job'].value_counts()\n",
    "\n",
    "job_df.plot.bar(title = 'Job and Deposit')"
   ]
  },
  {
   "cell_type": "markdown",
   "id": "treated-elevation",
   "metadata": {},
   "source": [
    "#### Customers with 'blue-collar' jobs are less likely to subscribe for term deposit; which is also proven by their negative balance shown on the boxplot above"
   ]
  },
  {
   "cell_type": "code",
   "execution_count": 13,
   "id": "smaller-latvia",
   "metadata": {},
   "outputs": [
    {
     "data": {
      "image/png": "[encoded data removed]",
      "text/plain": [
       "<Figure size 1174.12x432 with 6 Axes>"
      ]
     },
     "metadata": {},
     "output_type": "display_data"
    }
   ],
   "source": [
    "#campaign and deposit\n",
    "grid = sns.FacetGrid(data, col = \"camp_categ\", hue = \"camp_categ\", col_wrap=5)\n",
    "grid.map(sns.scatterplot, \"y\", \"age\")\n",
    "\n",
    "grid.add_legend()\n",
    "\n",
    "plt.show()\n"
   ]
  },
  {
   "cell_type": "markdown",
   "id": "pretty-enlargement",
   "metadata": {},
   "source": [
    "#### People who subscribed for term deposit tend to have fewer number of contacts during this campaign"
   ]
  },
  {
   "cell_type": "code",
   "execution_count": 14,
   "id": "random-niger",
   "metadata": {},
   "outputs": [
    {
     "data": {
      "image/png": "[encoded data removed]",
      "text/plain": [
       "<Figure size 432x288 with 1 Axes>"
      ]
     },
     "metadata": {},
     "output_type": "display_data"
    }
   ],
   "source": [
    "#balance and education\n",
    "sns.set_style('whitegrid')\n",
    "ax= sns.boxplot(x='education',y='balance', data=data)\n"
   ]
  },
  {
   "cell_type": "code",
   "execution_count": 15,
   "id": "shared-schema",
   "metadata": {},
   "outputs": [
    {
     "data": {
      "text/html": [
       "<div>\n",
       "<style scoped>\n",
       "    .dataframe tbody tr th:only-of-type {\n",
       "        vertical-align: middle;\n",
       "    }\n",
       "\n",
       "    .dataframe tbody tr th {\n",
       "        vertical-align: top;\n",
       "    }\n",
       "\n",
       "    .dataframe thead th {\n",
       "        text-align: right;\n",
       "    }\n",
       "</style>\n",
       "<table border=\"1\" class=\"dataframe\">\n",
       "  <thead>\n",
       "    <tr style=\"text-align: right;\">\n",
       "      <th></th>\n",
       "      <th>balance</th>\n",
       "    </tr>\n",
       "    <tr>\n",
       "      <th>education</th>\n",
       "      <th></th>\n",
       "    </tr>\n",
       "  </thead>\n",
       "  <tbody>\n",
       "    <tr>\n",
       "      <th>primary</th>\n",
       "      <td>1107</td>\n",
       "    </tr>\n",
       "    <tr>\n",
       "      <th>secondary</th>\n",
       "      <td>3879</td>\n",
       "    </tr>\n",
       "    <tr>\n",
       "      <th>tertiary</th>\n",
       "      <td>1704</td>\n",
       "    </tr>\n",
       "    <tr>\n",
       "      <th>unknown</th>\n",
       "      <td>250</td>\n",
       "    </tr>\n",
       "  </tbody>\n",
       "</table>\n",
       "</div>"
      ],
      "text/plain": [
       "           balance\n",
       "education         \n",
       "primary       1107\n",
       "secondary     3879\n",
       "tertiary      1704\n",
       "unknown        250"
      ]
     },
     "execution_count": 15,
     "metadata": {},
     "output_type": "execute_result"
    }
   ],
   "source": [
    "#balance and education\n",
    "df = data[['education', 'balance']]\n",
    "rslt_df = df[df['balance'] <= 0] \n",
    "rslt_df.groupby(['education']).count()"
   ]
  },
  {
   "cell_type": "code",
   "execution_count": 16,
   "id": "complex-newark",
   "metadata": {},
   "outputs": [
    {
     "data": {
      "text/html": [
       "<div>\n",
       "<style scoped>\n",
       "    .dataframe tbody tr th:only-of-type {\n",
       "        vertical-align: middle;\n",
       "    }\n",
       "\n",
       "    .dataframe tbody tr th {\n",
       "        vertical-align: top;\n",
       "    }\n",
       "\n",
       "    .dataframe thead th {\n",
       "        text-align: right;\n",
       "    }\n",
       "</style>\n",
       "<table border=\"1\" class=\"dataframe\">\n",
       "  <thead>\n",
       "    <tr style=\"text-align: right;\">\n",
       "      <th></th>\n",
       "      <th>balance</th>\n",
       "    </tr>\n",
       "    <tr>\n",
       "      <th>education</th>\n",
       "      <th></th>\n",
       "    </tr>\n",
       "  </thead>\n",
       "  <tbody>\n",
       "    <tr>\n",
       "      <th>primary</th>\n",
       "      <td>6270</td>\n",
       "    </tr>\n",
       "    <tr>\n",
       "      <th>secondary</th>\n",
       "      <td>20993</td>\n",
       "    </tr>\n",
       "    <tr>\n",
       "      <th>tertiary</th>\n",
       "      <td>11206</td>\n",
       "    </tr>\n",
       "    <tr>\n",
       "      <th>unknown</th>\n",
       "      <td>1531</td>\n",
       "    </tr>\n",
       "  </tbody>\n",
       "</table>\n",
       "</div>"
      ],
      "text/plain": [
       "           balance\n",
       "education         \n",
       "primary       6270\n",
       "secondary    20993\n",
       "tertiary     11206\n",
       "unknown       1531"
      ]
     },
     "execution_count": 16,
     "metadata": {},
     "output_type": "execute_result"
    }
   ],
   "source": [
    "df.groupby(['education']).count()"
   ]
  },
  {
   "cell_type": "markdown",
   "id": "electronic-thomas",
   "metadata": {},
   "source": [
    "#### People with Secondary education tend to have negative balance - 18.5% of secondary educated population have negative balance, followed by primary educated population - 17.7% have negative balance"
   ]
  },
  {
   "cell_type": "code",
   "execution_count": 17,
   "id": "differential-kansas",
   "metadata": {},
   "outputs": [
    {
     "name": "stdout",
     "output_type": "stream",
     "text": [
      "           yes     no\n",
      "married   1478  22908\n",
      "single    1027   9862\n",
      "divorced   391   4334\n"
     ]
    },
    {
     "data": {
      "text/plain": [
       "<AxesSubplot:title={'center':'Marital and Deposit'}>"
      ]
     },
     "execution_count": 17,
     "metadata": {},
     "output_type": "execute_result"
    },
    {
     "data": {
      "image/png": "[encoded data removed]",
      "text/plain": [
       "<Figure size 432x288 with 1 Axes>"
      ]
     },
     "metadata": {},
     "output_type": "display_data"
    }
   ],
   "source": [
    "#marital status and deposit\n",
    "mar_df = pd.DataFrame()\n",
    "\n",
    "mar_df['yes'] = data[data['y'] == 'yes']['marital'].value_counts()\n",
    "mar_df['no'] = data[data['y'] == 'no']['marital'].value_counts()\n",
    "print(mar_df)\n",
    "\n",
    "mar_df.plot.bar(title = 'Marital and Deposit')"
   ]
  },
  {
   "cell_type": "markdown",
   "id": "actual-scratch",
   "metadata": {},
   "source": [
    "#### Married customers are less likely to subscribe for the term deposit"
   ]
  },
  {
   "cell_type": "code",
   "execution_count": 18,
   "id": "signal-wagner",
   "metadata": {},
   "outputs": [
    {
     "data": {
      "text/html": [
       "<div>\n",
       "<style scoped>\n",
       "    .dataframe tbody tr th:only-of-type {\n",
       "        vertical-align: middle;\n",
       "    }\n",
       "\n",
       "    .dataframe tbody tr th {\n",
       "        vertical-align: top;\n",
       "    }\n",
       "\n",
       "    .dataframe thead th {\n",
       "        text-align: right;\n",
       "    }\n",
       "</style>\n",
       "<table border=\"1\" class=\"dataframe\">\n",
       "  <thead>\n",
       "    <tr style=\"text-align: right;\">\n",
       "      <th></th>\n",
       "      <th>duration</th>\n",
       "    </tr>\n",
       "    <tr>\n",
       "      <th>month</th>\n",
       "      <th></th>\n",
       "    </tr>\n",
       "  </thead>\n",
       "  <tbody>\n",
       "    <tr>\n",
       "      <th>apr</th>\n",
       "      <td>804955</td>\n",
       "    </tr>\n",
       "    <tr>\n",
       "      <th>aug</th>\n",
       "      <td>1184332</td>\n",
       "    </tr>\n",
       "    <tr>\n",
       "      <th>dec</th>\n",
       "      <td>1777</td>\n",
       "    </tr>\n",
       "    <tr>\n",
       "      <th>feb</th>\n",
       "      <td>553239</td>\n",
       "    </tr>\n",
       "    <tr>\n",
       "      <th>jan</th>\n",
       "      <td>316900</td>\n",
       "    </tr>\n",
       "    <tr>\n",
       "      <th>jul</th>\n",
       "      <td>1693511</td>\n",
       "    </tr>\n",
       "    <tr>\n",
       "      <th>jun</th>\n",
       "      <td>1135382</td>\n",
       "    </tr>\n",
       "    <tr>\n",
       "      <th>mar</th>\n",
       "      <td>57184</td>\n",
       "    </tr>\n",
       "    <tr>\n",
       "      <th>may</th>\n",
       "      <td>3517672</td>\n",
       "    </tr>\n",
       "    <tr>\n",
       "      <th>nov</th>\n",
       "      <td>902384</td>\n",
       "    </tr>\n",
       "    <tr>\n",
       "      <th>oct</th>\n",
       "      <td>25636</td>\n",
       "    </tr>\n",
       "  </tbody>\n",
       "</table>\n",
       "</div>"
      ],
      "text/plain": [
       "       duration\n",
       "month          \n",
       "apr      804955\n",
       "aug     1184332\n",
       "dec        1777\n",
       "feb      553239\n",
       "jan      316900\n",
       "jul     1693511\n",
       "jun     1135382\n",
       "mar       57184\n",
       "may     3517672\n",
       "nov      902384\n",
       "oct       25636"
      ]
     },
     "execution_count": 18,
     "metadata": {},
     "output_type": "execute_result"
    }
   ],
   "source": [
    "#Month and total call duration\n",
    "df_tot = data[['month', 'duration']]\n",
    "df_tot = df_tot.groupby(['month']).sum()\n",
    "df_tot"
   ]
  },
  {
   "cell_type": "code",
   "execution_count": 19,
   "id": "dental-buddy",
   "metadata": {},
   "outputs": [
    {
     "data": {
      "text/html": [
       "<div>\n",
       "<style scoped>\n",
       "    .dataframe tbody tr th:only-of-type {\n",
       "        vertical-align: middle;\n",
       "    }\n",
       "\n",
       "    .dataframe tbody tr th {\n",
       "        vertical-align: top;\n",
       "    }\n",
       "\n",
       "    .dataframe thead th {\n",
       "        text-align: right;\n",
       "    }\n",
       "</style>\n",
       "<table border=\"1\" class=\"dataframe\">\n",
       "  <thead>\n",
       "    <tr style=\"text-align: right;\">\n",
       "      <th></th>\n",
       "      <th></th>\n",
       "      <th>duration</th>\n",
       "    </tr>\n",
       "    <tr>\n",
       "      <th>month</th>\n",
       "      <th>y</th>\n",
       "      <th></th>\n",
       "    </tr>\n",
       "  </thead>\n",
       "  <tbody>\n",
       "    <tr>\n",
       "      <th rowspan=\"2\" valign=\"top\">apr</th>\n",
       "      <th>no</th>\n",
       "      <td>257.75</td>\n",
       "    </tr>\n",
       "    <tr>\n",
       "      <th>yes</th>\n",
       "      <td>489.21</td>\n",
       "    </tr>\n",
       "    <tr>\n",
       "      <th rowspan=\"2\" valign=\"top\">aug</th>\n",
       "      <th>no</th>\n",
       "      <td>193.00</td>\n",
       "    </tr>\n",
       "    <tr>\n",
       "      <th>yes</th>\n",
       "      <td>810.45</td>\n",
       "    </tr>\n",
       "    <tr>\n",
       "      <th rowspan=\"2\" valign=\"top\">dec</th>\n",
       "      <th>no</th>\n",
       "      <td>138.17</td>\n",
       "    </tr>\n",
       "    <tr>\n",
       "      <th>yes</th>\n",
       "      <td>119.00</td>\n",
       "    </tr>\n",
       "    <tr>\n",
       "      <th rowspan=\"2\" valign=\"top\">feb</th>\n",
       "      <th>no</th>\n",
       "      <td>208.36</td>\n",
       "    </tr>\n",
       "    <tr>\n",
       "      <th>yes</th>\n",
       "      <td>501.90</td>\n",
       "    </tr>\n",
       "    <tr>\n",
       "      <th rowspan=\"2\" valign=\"top\">jan</th>\n",
       "      <th>no</th>\n",
       "      <td>243.42</td>\n",
       "    </tr>\n",
       "    <tr>\n",
       "      <th>yes</th>\n",
       "      <td>1049.63</td>\n",
       "    </tr>\n",
       "    <tr>\n",
       "      <th rowspan=\"2\" valign=\"top\">jul</th>\n",
       "      <th>no</th>\n",
       "      <td>226.49</td>\n",
       "    </tr>\n",
       "    <tr>\n",
       "      <th>yes</th>\n",
       "      <td>873.59</td>\n",
       "    </tr>\n",
       "    <tr>\n",
       "      <th rowspan=\"2\" valign=\"top\">jun</th>\n",
       "      <th>no</th>\n",
       "      <td>206.93</td>\n",
       "    </tr>\n",
       "    <tr>\n",
       "      <th>yes</th>\n",
       "      <td>736.84</td>\n",
       "    </tr>\n",
       "    <tr>\n",
       "      <th rowspan=\"2\" valign=\"top\">mar</th>\n",
       "      <th>no</th>\n",
       "      <td>150.26</td>\n",
       "    </tr>\n",
       "    <tr>\n",
       "      <th>yes</th>\n",
       "      <td>297.60</td>\n",
       "    </tr>\n",
       "    <tr>\n",
       "      <th rowspan=\"2\" valign=\"top\">may</th>\n",
       "      <th>no</th>\n",
       "      <td>230.09</td>\n",
       "    </tr>\n",
       "    <tr>\n",
       "      <th>yes</th>\n",
       "      <td>740.88</td>\n",
       "    </tr>\n",
       "    <tr>\n",
       "      <th rowspan=\"2\" valign=\"top\">nov</th>\n",
       "      <th>no</th>\n",
       "      <td>218.71</td>\n",
       "    </tr>\n",
       "    <tr>\n",
       "      <th>yes</th>\n",
       "      <td>743.49</td>\n",
       "    </tr>\n",
       "    <tr>\n",
       "      <th rowspan=\"2\" valign=\"top\">oct</th>\n",
       "      <th>no</th>\n",
       "      <td>281.19</td>\n",
       "    </tr>\n",
       "    <tr>\n",
       "      <th>yes</th>\n",
       "      <td>345.29</td>\n",
       "    </tr>\n",
       "  </tbody>\n",
       "</table>\n",
       "</div>"
      ],
      "text/plain": [
       "           duration\n",
       "month y            \n",
       "apr   no     257.75\n",
       "      yes    489.21\n",
       "aug   no     193.00\n",
       "      yes    810.45\n",
       "dec   no     138.17\n",
       "      yes    119.00\n",
       "feb   no     208.36\n",
       "      yes    501.90\n",
       "jan   no     243.42\n",
       "      yes   1049.63\n",
       "jul   no     226.49\n",
       "      yes    873.59\n",
       "jun   no     206.93\n",
       "      yes    736.84\n",
       "mar   no     150.26\n",
       "      yes    297.60\n",
       "may   no     230.09\n",
       "      yes    740.88\n",
       "nov   no     218.71\n",
       "      yes    743.49\n",
       "oct   no     281.19\n",
       "      yes    345.29"
      ]
     },
     "execution_count": 19,
     "metadata": {},
     "output_type": "execute_result"
    }
   ],
   "source": [
    "#Month and avg call duration\n",
    "df1 = data[['month', 'duration','y']]\n",
    "df_mth=df1.groupby(['month','y']).mean()\n",
    "df_mth\n"
   ]
  },
  {
   "cell_type": "code",
   "execution_count": 20,
   "id": "ethical-surrey",
   "metadata": {},
   "outputs": [
    {
     "data": {
      "image/png": "[encoded data removed]",
      "text/plain": [
       "<Figure size 432x288 with 1 Axes>"
      ]
     },
     "metadata": {},
     "output_type": "display_data"
    }
   ],
   "source": [
    "#Month and avg call duration\n",
    "df_mth.reset_index(inplace=True)\n",
    "sns.barplot(x='month',y='duration',hue='y',data = df_mth)\n",
    "plt.show()"
   ]
  },
  {
   "cell_type": "markdown",
   "id": "wrong-surprise",
   "metadata": {},
   "source": [
    "#### 1. Most of the calls are in the summer months with peak in the month of May\n",
    "#### 2. Maximum avg duration of calls to get customers to subscribe for term deposit - January"
   ]
  },
  {
   "cell_type": "code",
   "execution_count": 21,
   "id": "nonprofit-lindsay",
   "metadata": {},
   "outputs": [
    {
     "data": {
      "text/plain": [
       "[Text(0, 0, 'yes'), Text(1, 0, 'no')]"
      ]
     },
     "execution_count": 21,
     "metadata": {},
     "output_type": "execute_result"
    },
    {
     "data": {
      "image/png": "[encoded data removed]",
      "text/plain": [
       "<Figure size 432x288 with 1 Axes>"
      ]
     },
     "metadata": {},
     "output_type": "display_data"
    }
   ],
   "source": [
    "#housing and deposit\n",
    "sns.set_style('whitegrid')\n",
    "ax= sns.boxplot(x='housing',y='age',hue=\"y\",data=data)\n",
    "ax.set_xticklabels(ax.get_xticklabels(),rotation=30)"
   ]
  },
  {
   "cell_type": "markdown",
   "id": "medium-linux",
   "metadata": {},
   "source": [
    "#### Chi-Sq tests to understand various relationships of the data"
   ]
  },
  {
   "cell_type": "code",
   "execution_count": 22,
   "id": "coordinated-shower",
   "metadata": {},
   "outputs": [
    {
     "data": {
      "text/html": [
       "<div>\n",
       "<style scoped>\n",
       "    .dataframe tbody tr th:only-of-type {\n",
       "        vertical-align: middle;\n",
       "    }\n",
       "\n",
       "    .dataframe tbody tr th {\n",
       "        vertical-align: top;\n",
       "    }\n",
       "\n",
       "    .dataframe thead th {\n",
       "        text-align: right;\n",
       "    }\n",
       "</style>\n",
       "<table border=\"1\" class=\"dataframe\">\n",
       "  <thead>\n",
       "    <tr style=\"text-align: right;\">\n",
       "      <th>y</th>\n",
       "      <th>no</th>\n",
       "      <th>yes</th>\n",
       "    </tr>\n",
       "    <tr>\n",
       "      <th>housing</th>\n",
       "      <th></th>\n",
       "      <th></th>\n",
       "    </tr>\n",
       "  </thead>\n",
       "  <tbody>\n",
       "    <tr>\n",
       "      <th>no</th>\n",
       "      <td>14537</td>\n",
       "      <td>1432</td>\n",
       "    </tr>\n",
       "    <tr>\n",
       "      <th>yes</th>\n",
       "      <td>22567</td>\n",
       "      <td>1464</td>\n",
       "    </tr>\n",
       "  </tbody>\n",
       "</table>\n",
       "</div>"
      ],
      "text/plain": [
       "y           no   yes\n",
       "housing             \n",
       "no       14537  1432\n",
       "yes      22567  1464"
      ]
     },
     "execution_count": 22,
     "metadata": {},
     "output_type": "execute_result"
    }
   ],
   "source": [
    "#housing and deposit\n",
    "crosstab1 = pd.crosstab(data['housing'], data['y'])\n",
    "crosstab1"
   ]
  },
  {
   "cell_type": "code",
   "execution_count": 23,
   "id": "western-swaziland",
   "metadata": {},
   "outputs": [
    {
     "name": "stdout",
     "output_type": "stream",
     "text": [
      "y         no  yes\n",
      "housing          \n",
      "no      0.39 0.49\n",
      "yes     0.61 0.51\n"
     ]
    }
   ],
   "source": [
    "# column percentages\n",
    "colsum1=crosstab1.sum(axis=0)\n",
    "colpct1=crosstab1/colsum1\n",
    "print(colpct1)"
   ]
  },
  {
   "cell_type": "code",
   "execution_count": 24,
   "id": "satisfactory-confusion",
   "metadata": {},
   "outputs": [
    {
     "name": "stdout",
     "output_type": "stream",
     "text": [
      "chi-square value, p value, expected counts\n",
      "(117.66942117763818, 2.048342664339848e-27, 1, array([[14812.8444,  1156.1556],\n",
      "       [22291.1556,  1739.8444]]))\n"
     ]
    }
   ],
   "source": [
    "# chi-square\n",
    "print ('chi-square value, p value, expected counts')\n",
    "cs1= scipy.stats.chi2_contingency(crosstab1)\n",
    "print(cs1)"
   ]
  },
  {
   "cell_type": "code",
   "execution_count": 25,
   "id": "spoken-minister",
   "metadata": {},
   "outputs": [
    {
     "data": {
      "text/html": [
       "<div>\n",
       "<style scoped>\n",
       "    .dataframe tbody tr th:only-of-type {\n",
       "        vertical-align: middle;\n",
       "    }\n",
       "\n",
       "    .dataframe tbody tr th {\n",
       "        vertical-align: top;\n",
       "    }\n",
       "\n",
       "    .dataframe thead th {\n",
       "        text-align: right;\n",
       "    }\n",
       "</style>\n",
       "<table border=\"1\" class=\"dataframe\">\n",
       "  <thead>\n",
       "    <tr style=\"text-align: right;\">\n",
       "      <th>y</th>\n",
       "      <th>no</th>\n",
       "      <th>yes</th>\n",
       "    </tr>\n",
       "    <tr>\n",
       "      <th>loan</th>\n",
       "      <th></th>\n",
       "      <th></th>\n",
       "    </tr>\n",
       "  </thead>\n",
       "  <tbody>\n",
       "    <tr>\n",
       "      <th>no</th>\n",
       "      <td>30554</td>\n",
       "      <td>2516</td>\n",
       "    </tr>\n",
       "    <tr>\n",
       "      <th>yes</th>\n",
       "      <td>6550</td>\n",
       "      <td>380</td>\n",
       "    </tr>\n",
       "  </tbody>\n",
       "</table>\n",
       "</div>"
      ],
      "text/plain": [
       "y        no   yes\n",
       "loan             \n",
       "no    30554  2516\n",
       "yes    6550   380"
      ]
     },
     "execution_count": 25,
     "metadata": {},
     "output_type": "execute_result"
    }
   ],
   "source": [
    "#loan and deposit\n",
    "crosstab = pd.crosstab(data['loan'], data['y'])\n",
    "crosstab"
   ]
  },
  {
   "cell_type": "code",
   "execution_count": 26,
   "id": "primary-communications",
   "metadata": {},
   "outputs": [
    {
     "name": "stdout",
     "output_type": "stream",
     "text": [
      "y      no  yes\n",
      "loan          \n",
      "no   0.82 0.87\n",
      "yes  0.18 0.13\n"
     ]
    }
   ],
   "source": [
    "# column percentages\n",
    "colsum=crosstab.sum(axis=0)\n",
    "colpct=crosstab/colsum\n",
    "print(colpct)"
   ]
  },
  {
   "cell_type": "code",
   "execution_count": 27,
   "id": "wrong-republican",
   "metadata": {},
   "outputs": [
    {
     "name": "stdout",
     "output_type": "stream",
     "text": [
      "chi-square value, p value, expected counts\n",
      "(38.19687165861611, 6.395487199647575e-10, 1, array([[30675.732,  2394.268],\n",
      "       [ 6428.268,   501.732]]))\n"
     ]
    }
   ],
   "source": [
    "# chi-square\n",
    "print ('chi-square value, p value, expected counts')\n",
    "cs= scipy.stats.chi2_contingency(crosstab)\n",
    "print(cs)"
   ]
  },
  {
   "cell_type": "markdown",
   "id": "exposed-brick",
   "metadata": {},
   "source": [
    "#### Both loan and housing are statistically significant variables in predicting subscription of term deposit"
   ]
  },
  {
   "cell_type": "markdown",
   "id": "cardiac-dynamics",
   "metadata": {},
   "source": [
    "## Data Manipulation"
   ]
  },
  {
   "cell_type": "markdown",
   "id": "arranged-conservation",
   "metadata": {},
   "source": [
    "#### Scaling data"
   ]
  },
  {
   "cell_type": "code",
   "execution_count": 28,
   "id": "positive-measure",
   "metadata": {},
   "outputs": [
    {
     "data": {
      "text/plain": [
       "count   40000.00\n",
       "mean        6.42\n",
       "std         0.63\n",
       "min         5.00\n",
       "25%         5.92\n",
       "50%         6.32\n",
       "75%         6.91\n",
       "max        10.00\n",
       "Name: scaled_age, dtype: float64"
      ]
     },
     "execution_count": 28,
     "metadata": {},
     "output_type": "execute_result"
    }
   ],
   "source": [
    "#scaling age\n",
    "from sklearn.preprocessing import MinMaxScaler \n",
    "minmaxscaler = MinMaxScaler(feature_range=(5, 10)) \n",
    "minmaxscaler.fit(data_dc[['age']]) \n",
    "data_dc['scaled_age'] = minmaxscaler.transform(data_dc[['age']]) \n",
    "data_dc['scaled_age'].describe()"
   ]
  },
  {
   "cell_type": "code",
   "execution_count": 29,
   "id": "possible-respondent",
   "metadata": {},
   "outputs": [
    {
     "data": {
      "text/plain": [
       "count   40000.00\n",
       "mean        0.01\n",
       "std         0.03\n",
       "min        -0.08\n",
       "25%         0.00\n",
       "50%         0.00\n",
       "75%         0.01\n",
       "max         1.00\n",
       "Name: scaled_balance, dtype: float64"
      ]
     },
     "execution_count": 29,
     "metadata": {},
     "output_type": "execute_result"
    }
   ],
   "source": [
    "#scaling balance column\n",
    "from sklearn.preprocessing import MaxAbsScaler\n",
    "scaler = MaxAbsScaler()\n",
    "\n",
    "data_dc['scaled_balance'] = scaler.fit_transform(data_dc[['balance']])\n",
    "data_dc['scaled_balance'].describe()\n"
   ]
  },
  {
   "cell_type": "code",
   "execution_count": 30,
   "id": "altered-basement",
   "metadata": {},
   "outputs": [
    {
     "data": {
      "text/html": [
       "<div>\n",
       "<style scoped>\n",
       "    .dataframe tbody tr th:only-of-type {\n",
       "        vertical-align: middle;\n",
       "    }\n",
       "\n",
       "    .dataframe tbody tr th {\n",
       "        vertical-align: top;\n",
       "    }\n",
       "\n",
       "    .dataframe thead th {\n",
       "        text-align: right;\n",
       "    }\n",
       "</style>\n",
       "<table border=\"1\" class=\"dataframe\">\n",
       "  <thead>\n",
       "    <tr style=\"text-align: right;\">\n",
       "      <th></th>\n",
       "      <th>age</th>\n",
       "      <th>balance</th>\n",
       "      <th>day</th>\n",
       "      <th>duration</th>\n",
       "      <th>campaign</th>\n",
       "      <th>job_blue-collar</th>\n",
       "      <th>job_entrepreneur</th>\n",
       "      <th>job_housemaid</th>\n",
       "      <th>job_management</th>\n",
       "      <th>job_retired</th>\n",
       "      <th>...</th>\n",
       "      <th>month_jul</th>\n",
       "      <th>month_jun</th>\n",
       "      <th>month_mar</th>\n",
       "      <th>month_may</th>\n",
       "      <th>month_nov</th>\n",
       "      <th>month_oct</th>\n",
       "      <th>y_yes</th>\n",
       "      <th>scaled_age</th>\n",
       "      <th>scaled_balance</th>\n",
       "      <th>avg_zscore_duration</th>\n",
       "    </tr>\n",
       "  </thead>\n",
       "  <tbody>\n",
       "    <tr>\n",
       "      <th>0</th>\n",
       "      <td>58</td>\n",
       "      <td>2143</td>\n",
       "      <td>5</td>\n",
       "      <td>261</td>\n",
       "      <td>1</td>\n",
       "      <td>0</td>\n",
       "      <td>0</td>\n",
       "      <td>0</td>\n",
       "      <td>1</td>\n",
       "      <td>0</td>\n",
       "      <td>...</td>\n",
       "      <td>0</td>\n",
       "      <td>0</td>\n",
       "      <td>0</td>\n",
       "      <td>1</td>\n",
       "      <td>0</td>\n",
       "      <td>0</td>\n",
       "      <td>0</td>\n",
       "      <td>7.57</td>\n",
       "      <td>0.02</td>\n",
       "      <td>0.02</td>\n",
       "    </tr>\n",
       "    <tr>\n",
       "      <th>1</th>\n",
       "      <td>44</td>\n",
       "      <td>29</td>\n",
       "      <td>5</td>\n",
       "      <td>151</td>\n",
       "      <td>1</td>\n",
       "      <td>0</td>\n",
       "      <td>0</td>\n",
       "      <td>0</td>\n",
       "      <td>0</td>\n",
       "      <td>0</td>\n",
       "      <td>...</td>\n",
       "      <td>0</td>\n",
       "      <td>0</td>\n",
       "      <td>0</td>\n",
       "      <td>1</td>\n",
       "      <td>0</td>\n",
       "      <td>0</td>\n",
       "      <td>0</td>\n",
       "      <td>6.64</td>\n",
       "      <td>0.00</td>\n",
       "      <td>-0.40</td>\n",
       "    </tr>\n",
       "    <tr>\n",
       "      <th>2</th>\n",
       "      <td>33</td>\n",
       "      <td>2</td>\n",
       "      <td>5</td>\n",
       "      <td>76</td>\n",
       "      <td>1</td>\n",
       "      <td>0</td>\n",
       "      <td>1</td>\n",
       "      <td>0</td>\n",
       "      <td>0</td>\n",
       "      <td>0</td>\n",
       "      <td>...</td>\n",
       "      <td>0</td>\n",
       "      <td>0</td>\n",
       "      <td>0</td>\n",
       "      <td>1</td>\n",
       "      <td>0</td>\n",
       "      <td>0</td>\n",
       "      <td>0</td>\n",
       "      <td>5.92</td>\n",
       "      <td>0.00</td>\n",
       "      <td>-0.69</td>\n",
       "    </tr>\n",
       "    <tr>\n",
       "      <th>3</th>\n",
       "      <td>47</td>\n",
       "      <td>1506</td>\n",
       "      <td>5</td>\n",
       "      <td>92</td>\n",
       "      <td>1</td>\n",
       "      <td>1</td>\n",
       "      <td>0</td>\n",
       "      <td>0</td>\n",
       "      <td>0</td>\n",
       "      <td>0</td>\n",
       "      <td>...</td>\n",
       "      <td>0</td>\n",
       "      <td>0</td>\n",
       "      <td>0</td>\n",
       "      <td>1</td>\n",
       "      <td>0</td>\n",
       "      <td>0</td>\n",
       "      <td>0</td>\n",
       "      <td>6.84</td>\n",
       "      <td>0.01</td>\n",
       "      <td>-0.63</td>\n",
       "    </tr>\n",
       "    <tr>\n",
       "      <th>4</th>\n",
       "      <td>33</td>\n",
       "      <td>1</td>\n",
       "      <td>5</td>\n",
       "      <td>198</td>\n",
       "      <td>1</td>\n",
       "      <td>0</td>\n",
       "      <td>0</td>\n",
       "      <td>0</td>\n",
       "      <td>0</td>\n",
       "      <td>0</td>\n",
       "      <td>...</td>\n",
       "      <td>0</td>\n",
       "      <td>0</td>\n",
       "      <td>0</td>\n",
       "      <td>1</td>\n",
       "      <td>0</td>\n",
       "      <td>0</td>\n",
       "      <td>0</td>\n",
       "      <td>5.92</td>\n",
       "      <td>0.00</td>\n",
       "      <td>-0.22</td>\n",
       "    </tr>\n",
       "  </tbody>\n",
       "</table>\n",
       "<p>5 rows × 40 columns</p>\n",
       "</div>"
      ],
      "text/plain": [
       "   age  balance  day  duration  campaign  job_blue-collar  job_entrepreneur  \\\n",
       "0   58     2143    5       261         1                0                 0   \n",
       "1   44       29    5       151         1                0                 0   \n",
       "2   33        2    5        76         1                0                 1   \n",
       "3   47     1506    5        92         1                1                 0   \n",
       "4   33        1    5       198         1                0                 0   \n",
       "\n",
       "   job_housemaid  job_management  job_retired  ...  month_jul  month_jun  \\\n",
       "0              0               1            0  ...          0          0   \n",
       "1              0               0            0  ...          0          0   \n",
       "2              0               0            0  ...          0          0   \n",
       "3              0               0            0  ...          0          0   \n",
       "4              0               0            0  ...          0          0   \n",
       "\n",
       "   month_mar  month_may  month_nov  month_oct  y_yes  scaled_age  \\\n",
       "0          0          1          0          0      0        7.57   \n",
       "1          0          1          0          0      0        6.64   \n",
       "2          0          1          0          0      0        5.92   \n",
       "3          0          1          0          0      0        6.84   \n",
       "4          0          1          0          0      0        5.92   \n",
       "\n",
       "   scaled_balance  avg_zscore_duration  \n",
       "0            0.02                 0.02  \n",
       "1            0.00                -0.40  \n",
       "2            0.00                -0.69  \n",
       "3            0.01                -0.63  \n",
       "4            0.00                -0.22  \n",
       "\n",
       "[5 rows x 40 columns]"
      ]
     },
     "execution_count": 30,
     "metadata": {},
     "output_type": "execute_result"
    }
   ],
   "source": [
    "#scaling duration\n",
    "data_dc['duration'].mean()\n",
    "data_dc['avg_zscore_duration'] = (data_dc['duration'] - data_dc['duration'].mean())/data_dc['duration'].std(ddof=0)\n",
    "data_dc.head()"
   ]
  },
  {
   "cell_type": "code",
   "execution_count": 31,
   "id": "chemical-findings",
   "metadata": {},
   "outputs": [
    {
     "data": {
      "image/png": "[encoded data removed]",
      "text/plain": [
       "<Figure size 1296x1296 with 42 Axes>"
      ]
     },
     "metadata": {},
     "output_type": "display_data"
    }
   ],
   "source": [
    "# Visualize numerical features using histogram\n",
    "data_dc.hist(figsize = (18,18), grid = False, xlabelsize=9, ylabelsize=9)\n",
    "plt.show()"
   ]
  },
  {
   "cell_type": "code",
   "execution_count": 32,
   "id": "exact-poland",
   "metadata": {},
   "outputs": [
    {
     "data": {
      "text/html": [
       "<div>\n",
       "<style scoped>\n",
       "    .dataframe tbody tr th:only-of-type {\n",
       "        vertical-align: middle;\n",
       "    }\n",
       "\n",
       "    .dataframe tbody tr th {\n",
       "        vertical-align: top;\n",
       "    }\n",
       "\n",
       "    .dataframe thead th {\n",
       "        text-align: right;\n",
       "    }\n",
       "</style>\n",
       "<table border=\"1\" class=\"dataframe\">\n",
       "  <thead>\n",
       "    <tr style=\"text-align: right;\">\n",
       "      <th></th>\n",
       "      <th>age</th>\n",
       "      <th>balance</th>\n",
       "      <th>day</th>\n",
       "      <th>duration</th>\n",
       "      <th>campaign</th>\n",
       "      <th>job_blue-collar</th>\n",
       "      <th>job_entrepreneur</th>\n",
       "      <th>job_housemaid</th>\n",
       "      <th>job_management</th>\n",
       "      <th>job_retired</th>\n",
       "      <th>...</th>\n",
       "      <th>month_jul</th>\n",
       "      <th>month_jun</th>\n",
       "      <th>month_mar</th>\n",
       "      <th>month_may</th>\n",
       "      <th>month_nov</th>\n",
       "      <th>month_oct</th>\n",
       "      <th>y_yes</th>\n",
       "      <th>scaled_age</th>\n",
       "      <th>scaled_balance</th>\n",
       "      <th>avg_zscore_duration</th>\n",
       "    </tr>\n",
       "  </thead>\n",
       "  <tbody>\n",
       "    <tr>\n",
       "      <th>count</th>\n",
       "      <td>40000.00</td>\n",
       "      <td>40000.00</td>\n",
       "      <td>40000.00</td>\n",
       "      <td>40000.00</td>\n",
       "      <td>40000.00</td>\n",
       "      <td>40000.00</td>\n",
       "      <td>40000.00</td>\n",
       "      <td>40000.00</td>\n",
       "      <td>40000.00</td>\n",
       "      <td>40000.00</td>\n",
       "      <td>...</td>\n",
       "      <td>40000.00</td>\n",
       "      <td>40000.00</td>\n",
       "      <td>40000.00</td>\n",
       "      <td>40000.00</td>\n",
       "      <td>40000.00</td>\n",
       "      <td>40000.00</td>\n",
       "      <td>40000.00</td>\n",
       "      <td>40000.00</td>\n",
       "      <td>40000.00</td>\n",
       "      <td>40000.00</td>\n",
       "    </tr>\n",
       "    <tr>\n",
       "      <th>mean</th>\n",
       "      <td>40.54</td>\n",
       "      <td>1274.28</td>\n",
       "      <td>16.02</td>\n",
       "      <td>254.82</td>\n",
       "      <td>2.88</td>\n",
       "      <td>0.23</td>\n",
       "      <td>0.04</td>\n",
       "      <td>0.03</td>\n",
       "      <td>0.20</td>\n",
       "      <td>0.04</td>\n",
       "      <td>...</td>\n",
       "      <td>0.16</td>\n",
       "      <td>0.12</td>\n",
       "      <td>0.01</td>\n",
       "      <td>0.34</td>\n",
       "      <td>0.09</td>\n",
       "      <td>0.00</td>\n",
       "      <td>0.07</td>\n",
       "      <td>6.42</td>\n",
       "      <td>0.01</td>\n",
       "      <td>0.00</td>\n",
       "    </tr>\n",
       "    <tr>\n",
       "      <th>std</th>\n",
       "      <td>9.64</td>\n",
       "      <td>2903.77</td>\n",
       "      <td>8.28</td>\n",
       "      <td>259.37</td>\n",
       "      <td>3.24</td>\n",
       "      <td>0.42</td>\n",
       "      <td>0.18</td>\n",
       "      <td>0.16</td>\n",
       "      <td>0.40</td>\n",
       "      <td>0.19</td>\n",
       "      <td>...</td>\n",
       "      <td>0.37</td>\n",
       "      <td>0.32</td>\n",
       "      <td>0.08</td>\n",
       "      <td>0.47</td>\n",
       "      <td>0.29</td>\n",
       "      <td>0.04</td>\n",
       "      <td>0.26</td>\n",
       "      <td>0.63</td>\n",
       "      <td>0.03</td>\n",
       "      <td>1.00</td>\n",
       "    </tr>\n",
       "    <tr>\n",
       "      <th>min</th>\n",
       "      <td>19.00</td>\n",
       "      <td>-8019.00</td>\n",
       "      <td>1.00</td>\n",
       "      <td>0.00</td>\n",
       "      <td>1.00</td>\n",
       "      <td>0.00</td>\n",
       "      <td>0.00</td>\n",
       "      <td>0.00</td>\n",
       "      <td>0.00</td>\n",
       "      <td>0.00</td>\n",
       "      <td>...</td>\n",
       "      <td>0.00</td>\n",
       "      <td>0.00</td>\n",
       "      <td>0.00</td>\n",
       "      <td>0.00</td>\n",
       "      <td>0.00</td>\n",
       "      <td>0.00</td>\n",
       "      <td>0.00</td>\n",
       "      <td>5.00</td>\n",
       "      <td>-0.08</td>\n",
       "      <td>-0.98</td>\n",
       "    </tr>\n",
       "    <tr>\n",
       "      <th>25%</th>\n",
       "      <td>33.00</td>\n",
       "      <td>54.00</td>\n",
       "      <td>8.00</td>\n",
       "      <td>100.00</td>\n",
       "      <td>1.00</td>\n",
       "      <td>0.00</td>\n",
       "      <td>0.00</td>\n",
       "      <td>0.00</td>\n",
       "      <td>0.00</td>\n",
       "      <td>0.00</td>\n",
       "      <td>...</td>\n",
       "      <td>0.00</td>\n",
       "      <td>0.00</td>\n",
       "      <td>0.00</td>\n",
       "      <td>0.00</td>\n",
       "      <td>0.00</td>\n",
       "      <td>0.00</td>\n",
       "      <td>0.00</td>\n",
       "      <td>5.92</td>\n",
       "      <td>0.00</td>\n",
       "      <td>-0.60</td>\n",
       "    </tr>\n",
       "    <tr>\n",
       "      <th>50%</th>\n",
       "      <td>39.00</td>\n",
       "      <td>407.00</td>\n",
       "      <td>17.00</td>\n",
       "      <td>175.00</td>\n",
       "      <td>2.00</td>\n",
       "      <td>0.00</td>\n",
       "      <td>0.00</td>\n",
       "      <td>0.00</td>\n",
       "      <td>0.00</td>\n",
       "      <td>0.00</td>\n",
       "      <td>...</td>\n",
       "      <td>0.00</td>\n",
       "      <td>0.00</td>\n",
       "      <td>0.00</td>\n",
       "      <td>0.00</td>\n",
       "      <td>0.00</td>\n",
       "      <td>0.00</td>\n",
       "      <td>0.00</td>\n",
       "      <td>6.32</td>\n",
       "      <td>0.00</td>\n",
       "      <td>-0.31</td>\n",
       "    </tr>\n",
       "    <tr>\n",
       "      <th>75%</th>\n",
       "      <td>48.00</td>\n",
       "      <td>1319.00</td>\n",
       "      <td>21.00</td>\n",
       "      <td>313.00</td>\n",
       "      <td>3.00</td>\n",
       "      <td>0.00</td>\n",
       "      <td>0.00</td>\n",
       "      <td>0.00</td>\n",
       "      <td>0.00</td>\n",
       "      <td>0.00</td>\n",
       "      <td>...</td>\n",
       "      <td>0.00</td>\n",
       "      <td>0.00</td>\n",
       "      <td>0.00</td>\n",
       "      <td>1.00</td>\n",
       "      <td>0.00</td>\n",
       "      <td>0.00</td>\n",
       "      <td>0.00</td>\n",
       "      <td>6.91</td>\n",
       "      <td>0.01</td>\n",
       "      <td>0.22</td>\n",
       "    </tr>\n",
       "    <tr>\n",
       "      <th>max</th>\n",
       "      <td>95.00</td>\n",
       "      <td>102127.00</td>\n",
       "      <td>31.00</td>\n",
       "      <td>4918.00</td>\n",
       "      <td>63.00</td>\n",
       "      <td>1.00</td>\n",
       "      <td>1.00</td>\n",
       "      <td>1.00</td>\n",
       "      <td>1.00</td>\n",
       "      <td>1.00</td>\n",
       "      <td>...</td>\n",
       "      <td>1.00</td>\n",
       "      <td>1.00</td>\n",
       "      <td>1.00</td>\n",
       "      <td>1.00</td>\n",
       "      <td>1.00</td>\n",
       "      <td>1.00</td>\n",
       "      <td>1.00</td>\n",
       "      <td>10.00</td>\n",
       "      <td>1.00</td>\n",
       "      <td>17.98</td>\n",
       "    </tr>\n",
       "  </tbody>\n",
       "</table>\n",
       "<p>8 rows × 40 columns</p>\n",
       "</div>"
      ],
      "text/plain": [
       "           age   balance      day  duration  campaign  job_blue-collar  \\\n",
       "count 40000.00  40000.00 40000.00  40000.00  40000.00         40000.00   \n",
       "mean     40.54   1274.28    16.02    254.82      2.88             0.23   \n",
       "std       9.64   2903.77     8.28    259.37      3.24             0.42   \n",
       "min      19.00  -8019.00     1.00      0.00      1.00             0.00   \n",
       "25%      33.00     54.00     8.00    100.00      1.00             0.00   \n",
       "50%      39.00    407.00    17.00    175.00      2.00             0.00   \n",
       "75%      48.00   1319.00    21.00    313.00      3.00             0.00   \n",
       "max      95.00 102127.00    31.00   4918.00     63.00             1.00   \n",
       "\n",
       "       job_entrepreneur  job_housemaid  job_management  job_retired  ...  \\\n",
       "count          40000.00       40000.00        40000.00     40000.00  ...   \n",
       "mean               0.04           0.03            0.20         0.04  ...   \n",
       "std                0.18           0.16            0.40         0.19  ...   \n",
       "min                0.00           0.00            0.00         0.00  ...   \n",
       "25%                0.00           0.00            0.00         0.00  ...   \n",
       "50%                0.00           0.00            0.00         0.00  ...   \n",
       "75%                0.00           0.00            0.00         0.00  ...   \n",
       "max                1.00           1.00            1.00         1.00  ...   \n",
       "\n",
       "       month_jul  month_jun  month_mar  month_may  month_nov  month_oct  \\\n",
       "count   40000.00   40000.00   40000.00   40000.00   40000.00   40000.00   \n",
       "mean        0.16       0.12       0.01       0.34       0.09       0.00   \n",
       "std         0.37       0.32       0.08       0.47       0.29       0.04   \n",
       "min         0.00       0.00       0.00       0.00       0.00       0.00   \n",
       "25%         0.00       0.00       0.00       0.00       0.00       0.00   \n",
       "50%         0.00       0.00       0.00       0.00       0.00       0.00   \n",
       "75%         0.00       0.00       0.00       1.00       0.00       0.00   \n",
       "max         1.00       1.00       1.00       1.00       1.00       1.00   \n",
       "\n",
       "         y_yes  scaled_age  scaled_balance  avg_zscore_duration  \n",
       "count 40000.00    40000.00        40000.00             40000.00  \n",
       "mean      0.07        6.42            0.01                 0.00  \n",
       "std       0.26        0.63            0.03                 1.00  \n",
       "min       0.00        5.00           -0.08                -0.98  \n",
       "25%       0.00        5.92            0.00                -0.60  \n",
       "50%       0.00        6.32            0.00                -0.31  \n",
       "75%       0.00        6.91            0.01                 0.22  \n",
       "max       1.00       10.00            1.00                17.98  \n",
       "\n",
       "[8 rows x 40 columns]"
      ]
     },
     "execution_count": 32,
     "metadata": {},
     "output_type": "execute_result"
    }
   ],
   "source": [
    "data_dc.describe()"
   ]
  },
  {
   "cell_type": "markdown",
   "id": "based-theorem",
   "metadata": {},
   "source": [
    "#### Check Class Balancing"
   ]
  },
  {
   "cell_type": "code",
   "execution_count": 33,
   "id": "friendly-aquarium",
   "metadata": {},
   "outputs": [
    {
     "data": {
      "text/plain": [
       "0    37104\n",
       "1     2896\n",
       "Name: y_yes, dtype: int64"
      ]
     },
     "execution_count": 33,
     "metadata": {},
     "output_type": "execute_result"
    }
   ],
   "source": [
    "#checking if its balanced dataset -- imbalanced dataset\n",
    "data_dc['y_yes'].value_counts()"
   ]
  },
  {
   "cell_type": "markdown",
   "id": "expensive-creature",
   "metadata": {},
   "source": [
    "#### The class is heavily skewed towards 'no' - Fraction of people will generally subscribe to a term deposit. Need to balance our class."
   ]
  },
  {
   "cell_type": "markdown",
   "id": "smooth-layer",
   "metadata": {},
   "source": [
    "## Split - Training and Testing data"
   ]
  },
  {
   "cell_type": "code",
   "execution_count": 34,
   "id": "owned-breathing",
   "metadata": {},
   "outputs": [],
   "source": [
    "X = data_dc.drop(columns = ['y_yes'])\n",
    "y = data_dc['y_yes']\n"
   ]
  },
  {
   "cell_type": "code",
   "execution_count": 35,
   "id": "postal-hometown",
   "metadata": {},
   "outputs": [
    {
     "name": "stdout",
     "output_type": "stream",
     "text": [
      "(32000, 39)\n",
      "(8000, 39)\n"
     ]
    }
   ],
   "source": [
    "rs=12\n",
    "X_train, X_test, y_train, y_test = train_test_split(X, y, test_size = 0.2, random_state = rs)\n",
    "print(X_train.shape)           \n",
    "print(X_test.shape)"
   ]
  },
  {
   "cell_type": "markdown",
   "id": "dependent-structure",
   "metadata": {},
   "source": [
    "## Class balancing"
   ]
  },
  {
   "cell_type": "markdown",
   "id": "handed-patient",
   "metadata": {},
   "source": [
    "#### Class balancing techniques: Oversampling, SMOTE and Undersampling"
   ]
  },
  {
   "cell_type": "markdown",
   "id": "sought-female",
   "metadata": {},
   "source": [
    "#### Random Oversampling"
   ]
  },
  {
   "cell_type": "code",
   "execution_count": 36,
   "id": "surprised-engineering",
   "metadata": {},
   "outputs": [],
   "source": [
    "#random oversampling\n",
    "ros = RandomOverSampler(random_state = rs)     \n",
    "X_ros, y_ros = ros.fit_resample(X_train, y_train) "
   ]
  },
  {
   "cell_type": "code",
   "execution_count": 37,
   "id": "smart-wells",
   "metadata": {},
   "outputs": [
    {
     "data": {
      "text/plain": [
       "1    29692\n",
       "0    29692\n",
       "Name: y_yes, dtype: int64"
      ]
     },
     "execution_count": 37,
     "metadata": {},
     "output_type": "execute_result"
    }
   ],
   "source": [
    "pd.value_counts(y_ros) "
   ]
  },
  {
   "cell_type": "markdown",
   "id": "developed-processor",
   "metadata": {},
   "source": [
    "#### Testing results of logistic regression with ros data"
   ]
  },
  {
   "cell_type": "code",
   "execution_count": 38,
   "id": "studied-windsor",
   "metadata": {},
   "outputs": [
    {
     "name": "stdout",
     "output_type": "stream",
     "text": [
      "              precision    recall  f1-score   support\n",
      "\n",
      "           0       0.98      0.84      0.91      7412\n",
      "           1       0.29      0.83      0.43       588\n",
      "\n",
      "    accuracy                           0.84      8000\n",
      "   macro avg       0.64      0.83      0.67      8000\n",
      "weighted avg       0.93      0.84      0.87      8000\n",
      "\n"
     ]
    }
   ],
   "source": [
    "#logistic regression - ros\n",
    "logisticRegr = LogisticRegression()\n",
    "lr = logisticRegr.fit(X_ros, y_ros)\n",
    "y_pred=logisticRegr.predict(X_test)\n",
    "print(classification_report(y_test, y_pred))"
   ]
  },
  {
   "cell_type": "code",
   "execution_count": 39,
   "id": "outstanding-inventory",
   "metadata": {},
   "outputs": [
    {
     "name": "stdout",
     "output_type": "stream",
     "text": [
      "[[0.55046697 0.44953303]\n",
      " [0.00876457 0.99123543]\n",
      " [0.60229942 0.39770058]\n",
      " ...\n",
      " [0.66626454 0.33373546]\n",
      " [0.9524165  0.0475835 ]\n",
      " [0.92646077 0.07353923]]\n"
     ]
    }
   ],
   "source": [
    "# predict probabilities \n",
    "y_prob=logisticRegr.predict_proba(X_test)\n",
    "print(y_prob)"
   ]
  },
  {
   "cell_type": "code",
   "execution_count": 40,
   "id": "sought-passport",
   "metadata": {},
   "outputs": [],
   "source": [
    "# keep probabilities for the positive outcome only\n",
    "probs = y_prob[:, 1]"
   ]
  },
  {
   "cell_type": "code",
   "execution_count": 41,
   "id": "accredited-switch",
   "metadata": {},
   "outputs": [
    {
     "name": "stdout",
     "output_type": "stream",
     "text": [
      "0.9098701407168371\n"
     ]
    }
   ],
   "source": [
    "# calculate roc auc\n",
    "auc = roc_auc_score(y_test, probs)\n",
    "print(auc)"
   ]
  },
  {
   "cell_type": "code",
   "execution_count": 42,
   "id": "related-money",
   "metadata": {},
   "outputs": [
    {
     "data": {
      "image/png": "[encoded data removed]",
      "text/plain": [
       "<Figure size 432x288 with 1 Axes>"
      ]
     },
     "metadata": {},
     "output_type": "display_data"
    }
   ],
   "source": [
    "# calculate roc curve\n",
    "fpr, tpr, thresholds = roc_curve(y_test, probs)\n",
    "# plot no skill\n",
    "plt.plot([0, 1], [0, 1], linestyle='--')\n",
    "# plot the roc curve for the model\n",
    "plt.plot(fpr,tpr,label=\"AUC=\"+str(auc))\n",
    "plt.ylabel('True Positive Rate')\n",
    "plt.xlabel('False Positive Rate')\n",
    "plt.legend(loc=4)\n",
    "# show the plot\n",
    "plt.show()"
   ]
  },
  {
   "cell_type": "code",
   "execution_count": 43,
   "id": "published-identifier",
   "metadata": {},
   "outputs": [
    {
     "data": {
      "text/plain": [
       "array([0.83135472, 0.81771491, 0.83531195, 0.83463838, 0.83386662])"
      ]
     },
     "execution_count": 43,
     "metadata": {},
     "output_type": "execute_result"
    }
   ],
   "source": [
    "cross_val_score(logisticRegr, X_ros, y_ros, cv=5)"
   ]
  },
  {
   "cell_type": "markdown",
   "id": "buried-oracle",
   "metadata": {},
   "source": [
    "#### SMOTE Balancing"
   ]
  },
  {
   "cell_type": "code",
   "execution_count": 44,
   "id": "mechanical-engineer",
   "metadata": {},
   "outputs": [],
   "source": [
    "#smote balancing\n",
    "smo = SMOTE(random_state = rs)                     \n",
    "X_smo, y_smo = smo.fit_resample(X_train, y_train)           "
   ]
  },
  {
   "cell_type": "code",
   "execution_count": 45,
   "id": "authorized-sponsorship",
   "metadata": {},
   "outputs": [
    {
     "data": {
      "text/plain": [
       "1    29692\n",
       "0    29692\n",
       "Name: y_yes, dtype: int64"
      ]
     },
     "execution_count": 45,
     "metadata": {},
     "output_type": "execute_result"
    }
   ],
   "source": [
    "pd.value_counts(y_smo)                                     "
   ]
  },
  {
   "cell_type": "markdown",
   "id": "national-channel",
   "metadata": {},
   "source": [
    "#### Testing results of logistic regression with smote data"
   ]
  },
  {
   "cell_type": "code",
   "execution_count": 46,
   "id": "bored-boating",
   "metadata": {},
   "outputs": [
    {
     "name": "stdout",
     "output_type": "stream",
     "text": [
      "              precision    recall  f1-score   support\n",
      "\n",
      "           0       0.97      0.91      0.93      7412\n",
      "           1       0.33      0.59      0.43       588\n",
      "\n",
      "    accuracy                           0.88      8000\n",
      "   macro avg       0.65      0.75      0.68      8000\n",
      "weighted avg       0.92      0.88      0.90      8000\n",
      "\n"
     ]
    }
   ],
   "source": [
    "#logistic regression - smote\n",
    "logisticRegr = LogisticRegression()\n",
    "lr_smo = logisticRegr.fit(X_smo, y_smo)\n",
    "y_pred_smo=logisticRegr.predict(X_test)\n",
    "print(classification_report(y_test, y_pred_smo))"
   ]
  },
  {
   "cell_type": "code",
   "execution_count": 47,
   "id": "timely-remainder",
   "metadata": {},
   "outputs": [
    {
     "name": "stdout",
     "output_type": "stream",
     "text": [
      "[[0.83156281 0.16843719]\n",
      " [0.0010922  0.9989078 ]\n",
      " [0.90360332 0.09639668]\n",
      " ...\n",
      " [0.53577875 0.46422125]\n",
      " [0.99777137 0.00222863]\n",
      " [0.87065776 0.12934224]]\n"
     ]
    }
   ],
   "source": [
    "# predict probabilities \n",
    "y_prob_smo=logisticRegr.predict_proba(X_test)\n",
    "print(y_prob_smo)"
   ]
  },
  {
   "cell_type": "code",
   "execution_count": 48,
   "id": "closing-vector",
   "metadata": {},
   "outputs": [],
   "source": [
    "# keep probabilities for the positive outcome only\n",
    "probs = y_prob_smo[:, 1]"
   ]
  },
  {
   "cell_type": "code",
   "execution_count": 49,
   "id": "narrow-barrier",
   "metadata": {},
   "outputs": [
    {
     "name": "stdout",
     "output_type": "stream",
     "text": [
      "0.8592003315087503\n"
     ]
    }
   ],
   "source": [
    "# calculate roc auc\n",
    "auc = roc_auc_score(y_test, probs)\n",
    "print(auc)"
   ]
  },
  {
   "cell_type": "code",
   "execution_count": 50,
   "id": "complete-czech",
   "metadata": {},
   "outputs": [
    {
     "data": {
      "image/png": "[encoded data removed]",
      "text/plain": [
       "<Figure size 432x288 with 1 Axes>"
      ]
     },
     "metadata": {},
     "output_type": "display_data"
    }
   ],
   "source": [
    "# calculate roc curve\n",
    "fpr, tpr, thresholds = roc_curve(y_test, probs)\n",
    "# plot no skill\n",
    "plt.plot([0, 1], [0, 1], linestyle='--')\n",
    "# plot the roc curve for the model\n",
    "plt.plot(fpr,tpr,label=\"AUC=\"+str(auc))\n",
    "plt.ylabel('True Positive Rate')\n",
    "plt.xlabel('False Positive Rate')\n",
    "plt.legend(loc=4)\n",
    "# show the plot\n",
    "plt.show()"
   ]
  },
  {
   "cell_type": "code",
   "execution_count": 51,
   "id": "creative-brunei",
   "metadata": {},
   "outputs": [
    {
     "data": {
      "text/plain": [
       "array([0.8411215 , 0.89803823, 0.89896438, 0.89576492, 0.90291344])"
      ]
     },
     "execution_count": 51,
     "metadata": {},
     "output_type": "execute_result"
    }
   ],
   "source": [
    "cross_val_score(logisticRegr, X_smo, y_smo, cv=5) "
   ]
  },
  {
   "cell_type": "markdown",
   "id": "necessary-letter",
   "metadata": {},
   "source": [
    "#### Random Undersampling"
   ]
  },
  {
   "cell_type": "code",
   "execution_count": 52,
   "id": "logical-cream",
   "metadata": {},
   "outputs": [],
   "source": [
    "#random undersampling\n",
    "rus = RandomUnderSampler(random_state = rs)               \n",
    "X_rus, y_rus = rus.fit_resample(X_train, y_train)                 "
   ]
  },
  {
   "cell_type": "code",
   "execution_count": 53,
   "id": "reverse-english",
   "metadata": {},
   "outputs": [
    {
     "data": {
      "text/plain": [
       "1    2308\n",
       "0    2308\n",
       "Name: y_yes, dtype: int64"
      ]
     },
     "execution_count": 53,
     "metadata": {},
     "output_type": "execute_result"
    }
   ],
   "source": [
    "pd.value_counts(y_rus)"
   ]
  },
  {
   "cell_type": "markdown",
   "id": "asian-moisture",
   "metadata": {},
   "source": [
    "#### Testing results of logistic regression with rus data"
   ]
  },
  {
   "cell_type": "code",
   "execution_count": 54,
   "id": "valued-montreal",
   "metadata": {},
   "outputs": [
    {
     "name": "stdout",
     "output_type": "stream",
     "text": [
      "              precision    recall  f1-score   support\n",
      "\n",
      "           0       0.98      0.85      0.91      7412\n",
      "           1       0.30      0.80      0.44       588\n",
      "\n",
      "    accuracy                           0.85      8000\n",
      "   macro avg       0.64      0.83      0.68      8000\n",
      "weighted avg       0.93      0.85      0.88      8000\n",
      "\n"
     ]
    }
   ],
   "source": [
    "#logistic regression - rus\n",
    "logisticRegr = LogisticRegression()\n",
    "lr_rus = logisticRegr.fit(X_rus, y_rus)\n",
    "y_pred_rus=logisticRegr.predict(X_test)\n",
    "print(classification_report(y_test, y_pred_rus))"
   ]
  },
  {
   "cell_type": "code",
   "execution_count": 55,
   "id": "strange-regular",
   "metadata": {},
   "outputs": [],
   "source": [
    "# predict probabilities \n",
    "y_prob_rus=logisticRegr.predict_proba(X_test)\n",
    "probs = y_prob_rus[:, 1]"
   ]
  },
  {
   "cell_type": "code",
   "execution_count": 56,
   "id": "capital-november",
   "metadata": {},
   "outputs": [
    {
     "name": "stdout",
     "output_type": "stream",
     "text": [
      "0.9079618085766418\n"
     ]
    }
   ],
   "source": [
    "auc = roc_auc_score(y_test, probs)\n",
    "print(auc)"
   ]
  },
  {
   "cell_type": "code",
   "execution_count": 57,
   "id": "capable-recall",
   "metadata": {},
   "outputs": [
    {
     "data": {
      "image/png": "[encoded data removed]",
      "text/plain": [
       "<Figure size 432x288 with 1 Axes>"
      ]
     },
     "metadata": {},
     "output_type": "display_data"
    }
   ],
   "source": [
    "# calculate roc curve\n",
    "fpr, tpr, thresholds = roc_curve(y_test, probs)\n",
    "# plot no skill\n",
    "plt.plot([0, 1], [0, 1], linestyle='--')\n",
    "# plot the roc curve for the model\n",
    "plt.plot(fpr,tpr,label=\"AUC=\"+str(auc))\n",
    "plt.ylabel('True Positive Rate')\n",
    "plt.xlabel('False Positive Rate')\n",
    "plt.legend(loc=4)\n",
    "# show the plot\n",
    "plt.show()"
   ]
  },
  {
   "cell_type": "code",
   "execution_count": 58,
   "id": "multiple-equity",
   "metadata": {},
   "outputs": [
    {
     "data": {
      "text/plain": [
       "array([0.80519481, 0.84073673, 0.8396533 , 0.8255688 , 0.79631636])"
      ]
     },
     "execution_count": 58,
     "metadata": {},
     "output_type": "execute_result"
    }
   ],
   "source": [
    "cross_val_score(logisticRegr, X_rus, y_rus, cv=5) "
   ]
  },
  {
   "cell_type": "markdown",
   "id": "invisible-connecticut",
   "metadata": {},
   "source": [
    "#### Random undersampling and Random oversampling produce best results in terms of f1 score, auc and recall values. Hence, will build more models using these datasets"
   ]
  },
  {
   "cell_type": "markdown",
   "id": "charitable-promise",
   "metadata": {},
   "source": [
    "## Modeling"
   ]
  },
  {
   "cell_type": "markdown",
   "id": "backed-thirty",
   "metadata": {},
   "source": [
    "#### Evaluation Metric - 'Recall for class 1' and 'f1 score' \n",
    "#### We would not like to miss any opportunity - minimize the number of subscribed customers predicted incorrectly. And hence need to maximize Recall."
   ]
  },
  {
   "cell_type": "markdown",
   "id": "lonely-nitrogen",
   "metadata": {},
   "source": [
    "#### 1. KNN Classifier with ros data"
   ]
  },
  {
   "cell_type": "code",
   "execution_count": 60,
   "id": "alternate-acoustic",
   "metadata": {},
   "outputs": [],
   "source": [
    "#knn classifier - ros\n",
    "k_range = range(1,50)                                \n",
    "scores = {}                                          \n",
    "score_list = []                                     \n",
    "for k in k_range:                                    \n",
    "    knn = KNeighborsClassifier(n_neighbors = k)     \n",
    "    knn.fit(X_ros, y_ros)                        \n",
    "    y_pred_knn = knn.predict(X_test)                 \n",
    "    scores[k] = f1_score(y_test, y_pred_knn)         \n",
    "    score_list.append(f1_score(y_test, y_pred_knn))  \n"
   ]
  },
  {
   "cell_type": "code",
   "execution_count": 61,
   "id": "driven-focus",
   "metadata": {},
   "outputs": [
    {
     "data": {
      "image/png": "[encoded data removed]",
      "text/plain": [
       "<Figure size 432x288 with 1 Axes>"
      ]
     },
     "metadata": {
      "needs_background": "light"
     },
     "output_type": "display_data"
    }
   ],
   "source": [
    "#identifying k value for best accuracy\n",
    "%matplotlib inline\n",
    "import matplotlib.pyplot as plt\n",
    "plt.plot(k_range, score_list)                   \n",
    "plt.xlabel('k value')\n",
    "plt.ylabel('Accuracy')\n",
    "plt.title('KNN - Accuracy vs k value')\n",
    "plt.show()"
   ]
  },
  {
   "cell_type": "code",
   "execution_count": 62,
   "id": "drawn-possession",
   "metadata": {},
   "outputs": [
    {
     "name": "stdout",
     "output_type": "stream",
     "text": [
      "0.3631376851343939\n",
      "5\n"
     ]
    }
   ],
   "source": [
    "print(max(score_list))\n",
    "print(max(scores, key=scores.get))"
   ]
  },
  {
   "cell_type": "code",
   "execution_count": 63,
   "id": "excited-meeting",
   "metadata": {},
   "outputs": [
    {
     "name": "stdout",
     "output_type": "stream",
     "text": [
      "              precision    recall  f1-score   support\n",
      "\n",
      "           0       0.96      0.88      0.92      7412\n",
      "           1       0.27      0.56      0.36       588\n",
      "\n",
      "    accuracy                           0.85      8000\n",
      "   macro avg       0.62      0.72      0.64      8000\n",
      "weighted avg       0.91      0.85      0.88      8000\n",
      "\n"
     ]
    }
   ],
   "source": [
    "#building the final knn model with k=5\n",
    "knnc = KNeighborsClassifier(n_neighbors = 5)     \n",
    "knf = knnc.fit(X_ros, y_ros)                        \n",
    "y_pred_knn = knnc.predict(X_test) \n",
    "print(classification_report(y_test, y_pred_knn))"
   ]
  },
  {
   "cell_type": "markdown",
   "id": "confidential-pride",
   "metadata": {},
   "source": [
    "#### 2. Support Vector Machine with rus data"
   ]
  },
  {
   "cell_type": "code",
   "execution_count": 64,
   "id": "impressive-albany",
   "metadata": {},
   "outputs": [
    {
     "name": "stdout",
     "output_type": "stream",
     "text": [
      "              precision    recall  f1-score   support\n",
      "\n",
      "           0       0.97      0.85      0.91      7412\n",
      "           1       0.28      0.72      0.40       588\n",
      "\n",
      "    accuracy                           0.84      8000\n",
      "   macro avg       0.63      0.79      0.66      8000\n",
      "weighted avg       0.92      0.84      0.87      8000\n",
      "\n"
     ]
    }
   ],
   "source": [
    "#SVC - rus\n",
    "svc = SVC()                                                     \n",
    "svc.fit(X_rus, y_rus)                                           \n",
    "print(classification_report(y_test, svc.predict(X_test)))      "
   ]
  },
  {
   "cell_type": "code",
   "execution_count": 65,
   "id": "hazardous-convertible",
   "metadata": {},
   "outputs": [
    {
     "data": {
      "text/plain": [
       "array([0.79220779, 0.79414951, 0.8071506 , 0.77898158, 0.77898158])"
      ]
     },
     "execution_count": 65,
     "metadata": {},
     "output_type": "execute_result"
    }
   ],
   "source": [
    "cross_val_score(svc, X_rus, y_rus, cv=5)"
   ]
  },
  {
   "cell_type": "markdown",
   "id": "authentic-business",
   "metadata": {},
   "source": [
    "#### 3. XGBoost with rus data"
   ]
  },
  {
   "cell_type": "code",
   "execution_count": 66,
   "id": "military-parcel",
   "metadata": {},
   "outputs": [
    {
     "name": "stdout",
     "output_type": "stream",
     "text": [
      "              precision    recall  f1-score   support\n",
      "\n",
      "           0       0.99      0.86      0.92      7412\n",
      "           1       0.34      0.90      0.49       588\n",
      "\n",
      "    accuracy                           0.86      8000\n",
      "   macro avg       0.66      0.88      0.71      8000\n",
      "weighted avg       0.94      0.86      0.89      8000\n",
      "\n"
     ]
    }
   ],
   "source": [
    "#Xgbc - rus\n",
    "xgbc = XGBClassifier()\n",
    "xgbc.fit(X_rus, y_rus)\n",
    "print(classification_report(y_test, xgbc.predict(X_test)))"
   ]
  },
  {
   "cell_type": "code",
   "execution_count": 67,
   "id": "electoral-tribute",
   "metadata": {},
   "outputs": [
    {
     "data": {
      "text/plain": [
       "array([0.88852814, 0.86890574, 0.88840737, 0.86890574, 0.86132178])"
      ]
     },
     "execution_count": 67,
     "metadata": {},
     "output_type": "execute_result"
    }
   ],
   "source": [
    "cross_val_score(xgbc, X_rus, y_rus, cv=5)"
   ]
  },
  {
   "cell_type": "markdown",
   "id": "alternate-enterprise",
   "metadata": {},
   "source": [
    "#### 4. LGBM with ros data"
   ]
  },
  {
   "cell_type": "code",
   "execution_count": 68,
   "id": "ranging-pittsburgh",
   "metadata": {},
   "outputs": [
    {
     "name": "stdout",
     "output_type": "stream",
     "text": [
      "              precision    recall  f1-score   support\n",
      "\n",
      "           0       0.99      0.88      0.93      7412\n",
      "           1       0.37      0.89      0.52       588\n",
      "\n",
      "    accuracy                           0.88      8000\n",
      "   macro avg       0.68      0.88      0.73      8000\n",
      "weighted avg       0.94      0.88      0.90      8000\n",
      "\n"
     ]
    }
   ],
   "source": [
    "#lgbm - ros\n",
    "lgbm = LGBMClassifier()                                         # Create an instance of LGBMClassifier\n",
    "lgbm.fit(X_ros, y_ros)                                          # Fit model with SMOTE oversampled training data\n",
    "print(classification_report(y_test, lgbm.predict(X_test)))      # Generate classification report"
   ]
  },
  {
   "cell_type": "code",
   "execution_count": 69,
   "id": "collected-terrace",
   "metadata": {},
   "outputs": [
    {
     "data": {
      "text/plain": [
       "array([0.92809632, 0.92961185, 0.92969605, 0.92590722, 0.9314584 ])"
      ]
     },
     "execution_count": 69,
     "metadata": {},
     "output_type": "execute_result"
    }
   ],
   "source": [
    "cross_val_score(lgbm, X_ros, y_ros, cv=5)"
   ]
  },
  {
   "cell_type": "markdown",
   "id": "statutory-arthritis",
   "metadata": {},
   "source": [
    "#### 5. Random Forest with rus"
   ]
  },
  {
   "cell_type": "code",
   "execution_count": 70,
   "id": "sharing-subcommittee",
   "metadata": {},
   "outputs": [
    {
     "name": "stdout",
     "output_type": "stream",
     "text": [
      "              precision    recall  f1-score   support\n",
      "\n",
      "           0       0.99      0.86      0.92      7412\n",
      "           1       0.33      0.89      0.48       588\n",
      "\n",
      "    accuracy                           0.86      8000\n",
      "   macro avg       0.66      0.87      0.70      8000\n",
      "weighted avg       0.94      0.86      0.89      8000\n",
      "\n"
     ]
    }
   ],
   "source": [
    "#RFC - rus\n",
    "rfc = RandomForestClassifier(n_jobs=2, random_state=rs)\n",
    "rfc.fit(X_rus, y_rus)\n",
    "print(classification_report(y_test, rfc.predict(X_test)))"
   ]
  },
  {
   "cell_type": "markdown",
   "id": "continental-absolute",
   "metadata": {},
   "source": [
    "#### 6. LGBM with rus"
   ]
  },
  {
   "cell_type": "code",
   "execution_count": 71,
   "id": "tribal-judgment",
   "metadata": {},
   "outputs": [
    {
     "name": "stdout",
     "output_type": "stream",
     "text": [
      "              precision    recall  f1-score   support\n",
      "\n",
      "           0       0.99      0.86      0.92      7412\n",
      "           1       0.34      0.91      0.49       588\n",
      "\n",
      "    accuracy                           0.86      8000\n",
      "   macro avg       0.67      0.89      0.71      8000\n",
      "weighted avg       0.94      0.86      0.89      8000\n",
      "\n"
     ]
    }
   ],
   "source": [
    "#lgbm - rus\n",
    "lgbm = LGBMClassifier()                                         \n",
    "lgbm.fit(X_rus, y_rus)                                          \n",
    "print(classification_report(y_test, lgbm.predict(X_test)))    "
   ]
  },
  {
   "cell_type": "code",
   "execution_count": 86,
   "id": "smoking-centre",
   "metadata": {},
   "outputs": [
    {
     "data": {
      "text/plain": [
       "array([0.89177489, 0.87973998, 0.87865655, 0.87215601, 0.87215601])"
      ]
     },
     "execution_count": 86,
     "metadata": {},
     "output_type": "execute_result"
    }
   ],
   "source": [
    "cross_val_score(lgbm, X_rus, y_rus, cv=5)"
   ]
  },
  {
   "cell_type": "code",
   "execution_count": 87,
   "id": "experienced-uganda",
   "metadata": {},
   "outputs": [
    {
     "data": {
      "image/png": "[encoded data removed]",
      "text/plain": [
       "<Figure size 432x288 with 2 Axes>"
      ]
     },
     "metadata": {
      "needs_background": "light"
     },
     "output_type": "display_data"
    }
   ],
   "source": [
    "plot_confusion_matrix(lgbm, X_test, y_test)\n",
    "plt.show()"
   ]
  },
  {
   "cell_type": "markdown",
   "id": "regular-communication",
   "metadata": {},
   "source": [
    "#### Maximum recall achieved - 91% with F1-score of 86% - which is also shown on the confusion matrix\n",
    "#### The 5-fold cross validation suggests that accuracy should be around [0.87, 0.89]. Our F1 score of 86% that falls around the validation numbers."
   ]
  },
  {
   "cell_type": "markdown",
   "id": "hispanic-endorsement",
   "metadata": {},
   "source": [
    "#### Based on the modeling so far, LGBM gives the highest recall values for class 1. Lets try hyperparameter tuning to potentially improve our results."
   ]
  },
  {
   "cell_type": "markdown",
   "id": "little-thought",
   "metadata": {},
   "source": [
    "## Hyperparameter Tuning"
   ]
  },
  {
   "cell_type": "code",
   "execution_count": 73,
   "id": "respective-binding",
   "metadata": {},
   "outputs": [],
   "source": [
    "gridParams = {\n",
    "    'learning_rate': [0.02,0.04],\n",
    "    'n_estimators': [6,8,16],\n",
    "    'num_leaves': [16,18,20,22], # large num_leaves helps improve accuracy but might lead to over-fitting\n",
    "    'boosting_type' : ['gbdt', 'dart'], # for better accuracy -> try dart\n",
    "    'objective' : ['binary'],\n",
    "    'max_bin':[255, 510], # large max_bin helps improve accuracy but might slow down training progress\n",
    "    'random_state' : [500],\n",
    "    'colsample_bytree' : [0.62, 0.64, 0.65],\n",
    "    'subsample' : [0.65,0.7],\n",
    "    'reg_alpha' : [1.2,1.4],\n",
    "    'reg_lambda' : [0.6,0.8,1],\n",
    "    }\n"
   ]
  },
  {
   "cell_type": "code",
   "execution_count": 74,
   "id": "recognized-relaxation",
   "metadata": {},
   "outputs": [
    {
     "name": "stdout",
     "output_type": "stream",
     "text": [
      "Fitting 5 folds for each of 3456 candidates, totalling 17280 fits\n"
     ]
    },
    {
     "name": "stderr",
     "output_type": "stream",
     "text": [
      "[Parallel(n_jobs=-1)]: Using backend LokyBackend with 4 concurrent workers.\n",
      "[Parallel(n_jobs=-1)]: Done  56 tasks      | elapsed:    3.0s\n",
      "[Parallel(n_jobs=-1)]: Done 656 tasks      | elapsed:   13.7s\n",
      "[Parallel(n_jobs=-1)]: Done 1656 tasks      | elapsed:   33.4s\n",
      "[Parallel(n_jobs=-1)]: Done 3056 tasks      | elapsed:  1.1min\n",
      "[Parallel(n_jobs=-1)]: Done 4856 tasks      | elapsed:  1.9min\n",
      "[Parallel(n_jobs=-1)]: Done 7056 tasks      | elapsed:  2.9min\n",
      "[Parallel(n_jobs=-1)]: Done 9656 tasks      | elapsed:  3.9min\n",
      "[Parallel(n_jobs=-1)]: Done 12656 tasks      | elapsed:  5.2min\n",
      "[Parallel(n_jobs=-1)]: Done 14336 tasks      | elapsed:  6.3min\n",
      "[Parallel(n_jobs=-1)]: Done 16236 tasks      | elapsed:  7.2min\n"
     ]
    },
    {
     "name": "stdout",
     "output_type": "stream",
     "text": [
      "{'boosting_type': 'gbdt', 'colsample_bytree': 0.65, 'learning_rate': 0.04, 'max_bin': 510, 'n_estimators': 16, 'num_leaves': 22, 'objective': 'binary', 'random_state': 500, 'reg_alpha': 1.2, 'reg_lambda': 0.8, 'subsample': 0.65}\n",
      "0.8630954728568611\n"
     ]
    },
    {
     "name": "stderr",
     "output_type": "stream",
     "text": [
      "[Parallel(n_jobs=-1)]: Done 17280 out of 17280 | elapsed:  7.7min finished\n"
     ]
    }
   ],
   "source": [
    "grid = GridSearchCV(lgbm, gridParams, verbose=1, cv=5, n_jobs=-1, scoring='recall')\n",
    "# Run the grid\n",
    "grid.fit(X_rus, y_rus)\n",
    "\n",
    "# Print the best parameters found\n",
    "print(grid.best_params_)\n",
    "print(grid.best_score_)"
   ]
  },
  {
   "cell_type": "markdown",
   "id": "weekly-minister",
   "metadata": {},
   "source": [
    "#### In this case, Hyperparmeter tuning has not helped our LGBM model, our best result still remains highest recall for class 1 at 91%.\n"
   ]
  },
  {
   "cell_type": "markdown",
   "id": "welcome-apparel",
   "metadata": {},
   "source": [
    "## Feature Importance\n"
   ]
  },
  {
   "cell_type": "markdown",
   "id": "active-messenger",
   "metadata": {},
   "source": [
    "#### 1. LGBM - Feature importance plot"
   ]
  },
  {
   "cell_type": "code",
   "execution_count": 76,
   "id": "excellent-vietnam",
   "metadata": {},
   "outputs": [
    {
     "data": {
      "image/png": "[encoded data removed]",
      "text/plain": [
       "<Figure size 1080x1080 with 1 Axes>"
      ]
     },
     "metadata": {
      "needs_background": "light"
     },
     "output_type": "display_data"
    }
   ],
   "source": [
    "ax = lightgbm.plot_importance(lgbm, max_num_features=40, figsize=(15,15))\n",
    "plt.show()"
   ]
  },
  {
   "cell_type": "markdown",
   "id": "finnish-girlfriend",
   "metadata": {},
   "source": [
    "#### 2. Recursive Feature Elimination (RFECV)"
   ]
  },
  {
   "cell_type": "markdown",
   "id": "desperate-shade",
   "metadata": {},
   "source": [
    "#### RFECV iterately remove less important variables and finally arrive at an optimal model with few important features"
   ]
  },
  {
   "cell_type": "code",
   "execution_count": 77,
   "id": "sticky-keyboard",
   "metadata": {},
   "outputs": [
    {
     "data": {
      "text/plain": [
       "RFECV(cv=StratifiedKFold(n_splits=10, random_state=None, shuffle=False),\n",
       "      estimator=RandomForestClassifier(n_jobs=2, random_state=12),\n",
       "      scoring='recall')"
      ]
     },
     "execution_count": 77,
     "metadata": {},
     "output_type": "execute_result"
    }
   ],
   "source": [
    "rfecv = RFECV(estimator = rfc, step = 1, cv = StratifiedKFold(10), scoring = 'recall')  \n",
    "rfecv.fit(X_rus,y_rus)                                                                                   \n"
   ]
  },
  {
   "cell_type": "code",
   "execution_count": 78,
   "id": "adverse-civilian",
   "metadata": {},
   "outputs": [
    {
     "name": "stdout",
     "output_type": "stream",
     "text": [
      "Optimal number of features: 36\n"
     ]
    }
   ],
   "source": [
    "print('Optimal number of features: {}'.format(rfecv.n_features_))"
   ]
  },
  {
   "cell_type": "code",
   "execution_count": 79,
   "id": "severe-place",
   "metadata": {},
   "outputs": [
    {
     "data": {
      "text/plain": [
       "array([4.17103426e-02, 5.10923577e-02, 5.43544457e-02, 2.72207365e-01,\n",
       "       2.53668397e-02, 7.85110012e-03, 2.35318033e-03, 2.15427358e-03,\n",
       "       5.78448362e-03, 2.30557529e-03, 1.90006854e-03, 4.15332304e-03,\n",
       "       2.57638032e-03, 5.96356827e-03, 2.60980552e-03, 8.08535092e-04,\n",
       "       7.86206798e-03, 6.23562895e-03, 7.48403048e-03, 8.25512266e-03,\n",
       "       3.22043601e-03, 1.05535919e-03, 1.80677693e-02, 5.98909032e-03,\n",
       "       4.13182281e-03, 2.82019574e-02, 1.21026069e-02, 1.31837107e-04,\n",
       "       8.84050081e-03, 5.28744331e-03, 1.56713481e-02, 7.36851006e-03,\n",
       "       1.59647405e-02, 1.03026341e-02, 7.26883508e-03, 8.19781596e-03,\n",
       "       4.32387016e-02, 5.14926019e-02, 2.40437495e-01])"
      ]
     },
     "execution_count": 79,
     "metadata": {},
     "output_type": "execute_result"
    }
   ],
   "source": [
    "rfecv.estimator.feature_importances_"
   ]
  },
  {
   "cell_type": "code",
   "execution_count": 88,
   "id": "cloudy-religion",
   "metadata": {},
   "outputs": [
    {
     "data": {
      "image/png": "[encoded data removed]",
      "text/plain": [
       "<Figure size 432x288 with 1 Axes>"
      ]
     },
     "metadata": {
      "needs_background": "light"
     },
     "output_type": "display_data"
    }
   ],
   "source": [
    "sorted_idx = rfecv.estimator.feature_importances_.argsort()                          \n",
    "plt.barh(X.columns[sorted_idx], rfecv.estimator.feature_importances_[sorted_idx])   \n",
    "plt.title('Feature Importance')\n",
    "plt.ylabel('Features')\n",
    "plt.xlabel('Importance')\n",
    "plt.show()"
   ]
  },
  {
   "cell_type": "markdown",
   "id": "arabic-vegetable",
   "metadata": {},
   "source": [
    "#### From the above feature importance, we see that duration and balance are the most positively influential parameters. People who are more likely to subscribe have higher account balance and high call duration in the last call."
   ]
  },
  {
   "cell_type": "markdown",
   "id": "charitable-childhood",
   "metadata": {},
   "source": [
    "## PCA - Principal Component Analysis"
   ]
  },
  {
   "cell_type": "markdown",
   "id": "descending-listening",
   "metadata": {},
   "source": [
    "#### As we can see, we currently have 30+ variables in the dataset. We want to see whether we can reduce the dimensions and increase interpretability of clusters."
   ]
  },
  {
   "cell_type": "code",
   "execution_count": 89,
   "id": "obvious-quebec",
   "metadata": {},
   "outputs": [],
   "source": [
    "#PCA\n",
    "scaler = MinMaxScaler()\n",
    "data_rescaled = scaler.fit_transform(data_dc)"
   ]
  },
  {
   "cell_type": "code",
   "execution_count": 90,
   "id": "fancy-steering",
   "metadata": {},
   "outputs": [
    {
     "data": {
      "image/png": "[encoded data removed]",
      "text/plain": [
       "<Figure size 864x432 with 1 Axes>"
      ]
     },
     "metadata": {
      "needs_background": "light"
     },
     "output_type": "display_data"
    }
   ],
   "source": [
    "pca = PCA().fit(data_rescaled)\n",
    "\n",
    "%matplotlib inline\n",
    "plt.rcParams[\"figure.figsize\"] = (12,6)\n",
    "\n",
    "fig, ax = plt.subplots()\n",
    "xi = np.arange(1, 41, step=1)\n",
    "y = np.cumsum(pca.explained_variance_ratio_)\n",
    "\n",
    "plt.ylim(0.0,1.1)\n",
    "plt.plot(xi, y, marker='o', linestyle='--', color='b')\n",
    "\n",
    "plt.xlabel('Number of Components')\n",
    "plt.ylabel('Cumulative variance (%)')\n",
    "plt.title('The number of components needed to explain variance')\n",
    "\n",
    "plt.axhline(y=0.95, color='r', linestyle='-')\n",
    "plt.text(0.5, 0.85, '95% cut-off threshold', color = 'red', fontsize=16)\n",
    "\n",
    "ax.grid(axis='x')\n",
    "plt.show()"
   ]
  },
  {
   "cell_type": "markdown",
   "id": "light-trail",
   "metadata": {},
   "source": [
    "#### In this case, to get 95% of variance explained we need 22 principal components."
   ]
  },
  {
   "cell_type": "markdown",
   "id": "corresponding-lingerie",
   "metadata": {},
   "source": [
    "## Conclusion"
   ]
  },
  {
   "cell_type": "markdown",
   "id": "healthy-stress",
   "metadata": {},
   "source": [
    "#### Evaluation Metric: Recall - 91%, Accuracy - 86%\n",
    "#### Best Performing Model: LGBM\n",
    "#### Important Features: Duration, Balance (People who are more likely to subscribe have higher account balance and high call duration in the last call)\n",
    "#### 22 principal components are required to explain 95% of variance in the dataset. That is, it is not possible to reduce the dimension significantly for this dataset."
   ]
  },
  {
   "cell_type": "code",
   "execution_count": null,
   "id": "significant-reader",
   "metadata": {},
   "outputs": [],
   "source": []
  }
 ],
 "metadata": {
  "kernelspec": {
   "display_name": "Python 3",
   "language": "python",
   "name": "python3"
  },
  "language_info": {
   "codemirror_mode": {
    "name": "ipython",
    "version": 3
   },
   "file_extension": ".py",
   "mimetype": "text/x-python",
   "name": "python",
   "nbconvert_exporter": "python",
   "pygments_lexer": "ipython3",
   "version": "3.8.3"
  }
 },
 "nbformat": 4,
 "nbformat_minor": 5
}
