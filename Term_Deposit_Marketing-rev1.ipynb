{
 "cells": [
  {
   "cell_type": "code",
   "execution_count": 186,
   "id": "random-debut",
   "metadata": {},
   "outputs": [],
   "source": [
    "import pandas as pd\n",
    "import numpy as np\n",
    "import seaborn as sns\n",
    "import lazypredict\n",
    "import sklearn\n",
    "import xgboost\n",
    "import lightgbm\n",
    "import matplotlib.pyplot as plt\n",
    "from sklearn.svm import SVC\n",
    "from sklearn.model_selection import train_test_split, cross_val_score, GridSearchCV, StratifiedKFold\n",
    "from imblearn.over_sampling import RandomOverSampler, SMOTE\n",
    "from imblearn.under_sampling import RandomUnderSampler\n",
    "from lazypredict.Supervised import LazyClassifier\n",
    "from sklearn.linear_model import LogisticRegression\n",
    "from sklearn.metrics import plot_confusion_matrix, classification_report, f1_score, roc_auc_score, roc_curve, accuracy_score, precision_score, recall_score \n",
    "from sklearn.neighbors import KNeighborsClassifier\n",
    "from xgboost import XGBClassifier\n",
    "from lightgbm.sklearn import LGBMClassifier\n",
    "from sklearn.ensemble import RandomForestClassifier\n",
    "from sklearn.decomposition import PCA\n",
    "from sklearn.preprocessing import MinMaxScaler\n",
    "from sklearn.feature_selection import chi2, RFECV\n",
    "from scipy.stats import chi2_contingency \n"
   ]
  },
  {
   "cell_type": "code",
   "execution_count": 117,
   "id": "lasting-japanese",
   "metadata": {},
   "outputs": [],
   "source": [
    "data_url = (\"/Users/vidyakumar/Desktop/python/apziva/term-deposit-marketing-2020.csv\")"
   ]
  },
  {
   "cell_type": "code",
   "execution_count": 118,
   "id": "expensive-rebound",
   "metadata": {},
   "outputs": [
    {
     "data": {
      "text/html": [
       "<div>\n",
       "<style scoped>\n",
       "    .dataframe tbody tr th:only-of-type {\n",
       "        vertical-align: middle;\n",
       "    }\n",
       "\n",
       "    .dataframe tbody tr th {\n",
       "        vertical-align: top;\n",
       "    }\n",
       "\n",
       "    .dataframe thead th {\n",
       "        text-align: right;\n",
       "    }\n",
       "</style>\n",
       "<table border=\"1\" class=\"dataframe\">\n",
       "  <thead>\n",
       "    <tr style=\"text-align: right;\">\n",
       "      <th></th>\n",
       "      <th>age</th>\n",
       "      <th>job</th>\n",
       "      <th>marital</th>\n",
       "      <th>education</th>\n",
       "      <th>default</th>\n",
       "      <th>balance</th>\n",
       "      <th>housing</th>\n",
       "      <th>loan</th>\n",
       "      <th>contact</th>\n",
       "      <th>day</th>\n",
       "      <th>month</th>\n",
       "      <th>duration</th>\n",
       "      <th>campaign</th>\n",
       "      <th>y</th>\n",
       "    </tr>\n",
       "  </thead>\n",
       "  <tbody>\n",
       "    <tr>\n",
       "      <th>0</th>\n",
       "      <td>58</td>\n",
       "      <td>management</td>\n",
       "      <td>married</td>\n",
       "      <td>tertiary</td>\n",
       "      <td>no</td>\n",
       "      <td>2143</td>\n",
       "      <td>yes</td>\n",
       "      <td>no</td>\n",
       "      <td>unknown</td>\n",
       "      <td>5</td>\n",
       "      <td>may</td>\n",
       "      <td>261</td>\n",
       "      <td>1</td>\n",
       "      <td>no</td>\n",
       "    </tr>\n",
       "    <tr>\n",
       "      <th>1</th>\n",
       "      <td>44</td>\n",
       "      <td>technician</td>\n",
       "      <td>single</td>\n",
       "      <td>secondary</td>\n",
       "      <td>no</td>\n",
       "      <td>29</td>\n",
       "      <td>yes</td>\n",
       "      <td>no</td>\n",
       "      <td>unknown</td>\n",
       "      <td>5</td>\n",
       "      <td>may</td>\n",
       "      <td>151</td>\n",
       "      <td>1</td>\n",
       "      <td>no</td>\n",
       "    </tr>\n",
       "    <tr>\n",
       "      <th>2</th>\n",
       "      <td>33</td>\n",
       "      <td>entrepreneur</td>\n",
       "      <td>married</td>\n",
       "      <td>secondary</td>\n",
       "      <td>no</td>\n",
       "      <td>2</td>\n",
       "      <td>yes</td>\n",
       "      <td>yes</td>\n",
       "      <td>unknown</td>\n",
       "      <td>5</td>\n",
       "      <td>may</td>\n",
       "      <td>76</td>\n",
       "      <td>1</td>\n",
       "      <td>no</td>\n",
       "    </tr>\n",
       "    <tr>\n",
       "      <th>3</th>\n",
       "      <td>47</td>\n",
       "      <td>blue-collar</td>\n",
       "      <td>married</td>\n",
       "      <td>unknown</td>\n",
       "      <td>no</td>\n",
       "      <td>1506</td>\n",
       "      <td>yes</td>\n",
       "      <td>no</td>\n",
       "      <td>unknown</td>\n",
       "      <td>5</td>\n",
       "      <td>may</td>\n",
       "      <td>92</td>\n",
       "      <td>1</td>\n",
       "      <td>no</td>\n",
       "    </tr>\n",
       "    <tr>\n",
       "      <th>4</th>\n",
       "      <td>33</td>\n",
       "      <td>unknown</td>\n",
       "      <td>single</td>\n",
       "      <td>unknown</td>\n",
       "      <td>no</td>\n",
       "      <td>1</td>\n",
       "      <td>no</td>\n",
       "      <td>no</td>\n",
       "      <td>unknown</td>\n",
       "      <td>5</td>\n",
       "      <td>may</td>\n",
       "      <td>198</td>\n",
       "      <td>1</td>\n",
       "      <td>no</td>\n",
       "    </tr>\n",
       "  </tbody>\n",
       "</table>\n",
       "</div>"
      ],
      "text/plain": [
       "   age           job  marital  education default  balance housing loan  \\\n",
       "0   58    management  married   tertiary      no     2143     yes   no   \n",
       "1   44    technician   single  secondary      no       29     yes   no   \n",
       "2   33  entrepreneur  married  secondary      no        2     yes  yes   \n",
       "3   47   blue-collar  married    unknown      no     1506     yes   no   \n",
       "4   33       unknown   single    unknown      no        1      no   no   \n",
       "\n",
       "   contact  day month  duration  campaign   y  \n",
       "0  unknown    5   may       261         1  no  \n",
       "1  unknown    5   may       151         1  no  \n",
       "2  unknown    5   may        76         1  no  \n",
       "3  unknown    5   may        92         1  no  \n",
       "4  unknown    5   may       198         1  no  "
      ]
     },
     "execution_count": 118,
     "metadata": {},
     "output_type": "execute_result"
    }
   ],
   "source": [
    "def load_data():\n",
    "    data = pd.read_csv(data_url)\n",
    "    return data\n",
    "\n",
    "data = load_data()\n",
    "\n",
    "data.head()"
   ]
  },
  {
   "cell_type": "code",
   "execution_count": 119,
   "id": "varied-baseball",
   "metadata": {},
   "outputs": [
    {
     "data": {
      "text/plain": [
       "20    2655\n",
       "18    2173\n",
       "21    1914\n",
       "17    1812\n",
       "6     1778\n",
       "5     1691\n",
       "19    1650\n",
       "28    1650\n",
       "14    1636\n",
       "8     1620\n",
       "7     1612\n",
       "29    1600\n",
       "15    1468\n",
       "30    1457\n",
       "9     1374\n",
       "13    1325\n",
       "12    1289\n",
       "11    1272\n",
       "16    1215\n",
       "4     1183\n",
       "2     1109\n",
       "27     974\n",
       "26     895\n",
       "3      874\n",
       "23     823\n",
       "22     773\n",
       "25     695\n",
       "31     591\n",
       "10     364\n",
       "24     352\n",
       "1      176\n",
       "Name: day, dtype: int64"
      ]
     },
     "execution_count": 119,
     "metadata": {},
     "output_type": "execute_result"
    }
   ],
   "source": [
    "data['day'].value_counts()"
   ]
  },
  {
   "cell_type": "code",
   "execution_count": 120,
   "id": "phantom-eclipse",
   "metadata": {},
   "outputs": [
    {
     "name": "stdout",
     "output_type": "stream",
     "text": [
      "<class 'pandas.core.frame.DataFrame'>\n",
      "RangeIndex: 40000 entries, 0 to 39999\n",
      "Data columns (total 14 columns):\n",
      " #   Column     Non-Null Count  Dtype \n",
      "---  ------     --------------  ----- \n",
      " 0   age        40000 non-null  int64 \n",
      " 1   job        40000 non-null  object\n",
      " 2   marital    40000 non-null  object\n",
      " 3   education  40000 non-null  object\n",
      " 4   default    40000 non-null  object\n",
      " 5   balance    40000 non-null  int64 \n",
      " 6   housing    40000 non-null  object\n",
      " 7   loan       40000 non-null  object\n",
      " 8   contact    40000 non-null  object\n",
      " 9   day        40000 non-null  int64 \n",
      " 10  month      40000 non-null  object\n",
      " 11  duration   40000 non-null  int64 \n",
      " 12  campaign   40000 non-null  int64 \n",
      " 13  y          40000 non-null  object\n",
      "dtypes: int64(5), object(9)\n",
      "memory usage: 4.3+ MB\n"
     ]
    }
   ],
   "source": [
    "data.info()"
   ]
  },
  {
   "cell_type": "code",
   "execution_count": 121,
   "id": "regional-invasion",
   "metadata": {},
   "outputs": [],
   "source": [
    "data_job = pd.get_dummies(data['job'], prefix = 'job', prefix_sep = '_', drop_first = True)\n",
    "data_marital = pd.get_dummies(data['marital'], prefix = 'marital', prefix_sep = '_', drop_first = True)\n",
    "data_education = pd.get_dummies(data['education'], prefix = 'education', prefix_sep = '_', drop_first = True)\n",
    "data_default = pd.get_dummies(data['default'], prefix = 'default', prefix_sep = '_', drop_first = True)\n",
    "data_housing = pd.get_dummies(data['housing'], prefix = 'housing', prefix_sep = '_', drop_first = True)\n",
    "data_loan = pd.get_dummies(data['loan'], prefix = 'loan', prefix_sep = '_', drop_first = True)\n",
    "data_contact = pd.get_dummies(data['contact'], prefix = 'contact', prefix_sep = '_', drop_first = True)\n",
    "data_month = pd.get_dummies(data['month'], prefix = 'month', prefix_sep = '_', drop_first = True)\n",
    "data_y = pd.get_dummies(data['y'], prefix = 'y', prefix_sep = '_', drop_first = True)"
   ]
  },
  {
   "cell_type": "code",
   "execution_count": 122,
   "id": "mexican-marsh",
   "metadata": {},
   "outputs": [],
   "source": [
    "# Concat original data frame and dummy columns\n",
    "data_dc = data.drop(columns = ['job', 'marital', 'education', 'default', 'housing', 'loan', 'contact', 'month', 'y'])\n",
    "data_dc = pd.concat([data_dc, data_job, data_marital, data_education, data_default, data_housing, data_loan, data_contact, data_month, data_y], axis = 1)"
   ]
  },
  {
   "cell_type": "code",
   "execution_count": 123,
   "id": "competitive-bulletin",
   "metadata": {},
   "outputs": [
    {
     "data": {
      "text/html": [
       "<div>\n",
       "<style scoped>\n",
       "    .dataframe tbody tr th:only-of-type {\n",
       "        vertical-align: middle;\n",
       "    }\n",
       "\n",
       "    .dataframe tbody tr th {\n",
       "        vertical-align: top;\n",
       "    }\n",
       "\n",
       "    .dataframe thead th {\n",
       "        text-align: right;\n",
       "    }\n",
       "</style>\n",
       "<table border=\"1\" class=\"dataframe\">\n",
       "  <thead>\n",
       "    <tr style=\"text-align: right;\">\n",
       "      <th></th>\n",
       "      <th>age</th>\n",
       "      <th>balance</th>\n",
       "      <th>day</th>\n",
       "      <th>duration</th>\n",
       "      <th>campaign</th>\n",
       "      <th>job_blue-collar</th>\n",
       "      <th>job_entrepreneur</th>\n",
       "      <th>job_housemaid</th>\n",
       "      <th>job_management</th>\n",
       "      <th>job_retired</th>\n",
       "      <th>...</th>\n",
       "      <th>month_dec</th>\n",
       "      <th>month_feb</th>\n",
       "      <th>month_jan</th>\n",
       "      <th>month_jul</th>\n",
       "      <th>month_jun</th>\n",
       "      <th>month_mar</th>\n",
       "      <th>month_may</th>\n",
       "      <th>month_nov</th>\n",
       "      <th>month_oct</th>\n",
       "      <th>y_yes</th>\n",
       "    </tr>\n",
       "  </thead>\n",
       "  <tbody>\n",
       "    <tr>\n",
       "      <th>count</th>\n",
       "      <td>40000.00</td>\n",
       "      <td>40000.00</td>\n",
       "      <td>40000.00</td>\n",
       "      <td>40000.00</td>\n",
       "      <td>40000.00</td>\n",
       "      <td>40000.00</td>\n",
       "      <td>40000.00</td>\n",
       "      <td>40000.00</td>\n",
       "      <td>40000.00</td>\n",
       "      <td>40000.00</td>\n",
       "      <td>...</td>\n",
       "      <td>40000.00</td>\n",
       "      <td>40000.00</td>\n",
       "      <td>40000.00</td>\n",
       "      <td>40000.00</td>\n",
       "      <td>40000.00</td>\n",
       "      <td>40000.00</td>\n",
       "      <td>40000.00</td>\n",
       "      <td>40000.00</td>\n",
       "      <td>40000.00</td>\n",
       "      <td>40000.00</td>\n",
       "    </tr>\n",
       "    <tr>\n",
       "      <th>mean</th>\n",
       "      <td>40.54</td>\n",
       "      <td>1274.28</td>\n",
       "      <td>16.02</td>\n",
       "      <td>254.82</td>\n",
       "      <td>2.88</td>\n",
       "      <td>0.23</td>\n",
       "      <td>0.04</td>\n",
       "      <td>0.03</td>\n",
       "      <td>0.20</td>\n",
       "      <td>0.04</td>\n",
       "      <td>...</td>\n",
       "      <td>0.00</td>\n",
       "      <td>0.06</td>\n",
       "      <td>0.03</td>\n",
       "      <td>0.16</td>\n",
       "      <td>0.12</td>\n",
       "      <td>0.01</td>\n",
       "      <td>0.34</td>\n",
       "      <td>0.09</td>\n",
       "      <td>0.00</td>\n",
       "      <td>0.07</td>\n",
       "    </tr>\n",
       "    <tr>\n",
       "      <th>std</th>\n",
       "      <td>9.64</td>\n",
       "      <td>2903.77</td>\n",
       "      <td>8.28</td>\n",
       "      <td>259.37</td>\n",
       "      <td>3.24</td>\n",
       "      <td>0.42</td>\n",
       "      <td>0.18</td>\n",
       "      <td>0.16</td>\n",
       "      <td>0.40</td>\n",
       "      <td>0.19</td>\n",
       "      <td>...</td>\n",
       "      <td>0.02</td>\n",
       "      <td>0.23</td>\n",
       "      <td>0.17</td>\n",
       "      <td>0.37</td>\n",
       "      <td>0.32</td>\n",
       "      <td>0.08</td>\n",
       "      <td>0.47</td>\n",
       "      <td>0.29</td>\n",
       "      <td>0.04</td>\n",
       "      <td>0.26</td>\n",
       "    </tr>\n",
       "    <tr>\n",
       "      <th>min</th>\n",
       "      <td>19.00</td>\n",
       "      <td>-8019.00</td>\n",
       "      <td>1.00</td>\n",
       "      <td>0.00</td>\n",
       "      <td>1.00</td>\n",
       "      <td>0.00</td>\n",
       "      <td>0.00</td>\n",
       "      <td>0.00</td>\n",
       "      <td>0.00</td>\n",
       "      <td>0.00</td>\n",
       "      <td>...</td>\n",
       "      <td>0.00</td>\n",
       "      <td>0.00</td>\n",
       "      <td>0.00</td>\n",
       "      <td>0.00</td>\n",
       "      <td>0.00</td>\n",
       "      <td>0.00</td>\n",
       "      <td>0.00</td>\n",
       "      <td>0.00</td>\n",
       "      <td>0.00</td>\n",
       "      <td>0.00</td>\n",
       "    </tr>\n",
       "    <tr>\n",
       "      <th>25%</th>\n",
       "      <td>33.00</td>\n",
       "      <td>54.00</td>\n",
       "      <td>8.00</td>\n",
       "      <td>100.00</td>\n",
       "      <td>1.00</td>\n",
       "      <td>0.00</td>\n",
       "      <td>0.00</td>\n",
       "      <td>0.00</td>\n",
       "      <td>0.00</td>\n",
       "      <td>0.00</td>\n",
       "      <td>...</td>\n",
       "      <td>0.00</td>\n",
       "      <td>0.00</td>\n",
       "      <td>0.00</td>\n",
       "      <td>0.00</td>\n",
       "      <td>0.00</td>\n",
       "      <td>0.00</td>\n",
       "      <td>0.00</td>\n",
       "      <td>0.00</td>\n",
       "      <td>0.00</td>\n",
       "      <td>0.00</td>\n",
       "    </tr>\n",
       "    <tr>\n",
       "      <th>50%</th>\n",
       "      <td>39.00</td>\n",
       "      <td>407.00</td>\n",
       "      <td>17.00</td>\n",
       "      <td>175.00</td>\n",
       "      <td>2.00</td>\n",
       "      <td>0.00</td>\n",
       "      <td>0.00</td>\n",
       "      <td>0.00</td>\n",
       "      <td>0.00</td>\n",
       "      <td>0.00</td>\n",
       "      <td>...</td>\n",
       "      <td>0.00</td>\n",
       "      <td>0.00</td>\n",
       "      <td>0.00</td>\n",
       "      <td>0.00</td>\n",
       "      <td>0.00</td>\n",
       "      <td>0.00</td>\n",
       "      <td>0.00</td>\n",
       "      <td>0.00</td>\n",
       "      <td>0.00</td>\n",
       "      <td>0.00</td>\n",
       "    </tr>\n",
       "    <tr>\n",
       "      <th>75%</th>\n",
       "      <td>48.00</td>\n",
       "      <td>1319.00</td>\n",
       "      <td>21.00</td>\n",
       "      <td>313.00</td>\n",
       "      <td>3.00</td>\n",
       "      <td>0.00</td>\n",
       "      <td>0.00</td>\n",
       "      <td>0.00</td>\n",
       "      <td>0.00</td>\n",
       "      <td>0.00</td>\n",
       "      <td>...</td>\n",
       "      <td>0.00</td>\n",
       "      <td>0.00</td>\n",
       "      <td>0.00</td>\n",
       "      <td>0.00</td>\n",
       "      <td>0.00</td>\n",
       "      <td>0.00</td>\n",
       "      <td>1.00</td>\n",
       "      <td>0.00</td>\n",
       "      <td>0.00</td>\n",
       "      <td>0.00</td>\n",
       "    </tr>\n",
       "    <tr>\n",
       "      <th>max</th>\n",
       "      <td>95.00</td>\n",
       "      <td>102127.00</td>\n",
       "      <td>31.00</td>\n",
       "      <td>4918.00</td>\n",
       "      <td>63.00</td>\n",
       "      <td>1.00</td>\n",
       "      <td>1.00</td>\n",
       "      <td>1.00</td>\n",
       "      <td>1.00</td>\n",
       "      <td>1.00</td>\n",
       "      <td>...</td>\n",
       "      <td>1.00</td>\n",
       "      <td>1.00</td>\n",
       "      <td>1.00</td>\n",
       "      <td>1.00</td>\n",
       "      <td>1.00</td>\n",
       "      <td>1.00</td>\n",
       "      <td>1.00</td>\n",
       "      <td>1.00</td>\n",
       "      <td>1.00</td>\n",
       "      <td>1.00</td>\n",
       "    </tr>\n",
       "  </tbody>\n",
       "</table>\n",
       "<p>8 rows × 37 columns</p>\n",
       "</div>"
      ],
      "text/plain": [
       "           age   balance      day  duration  campaign  job_blue-collar  \\\n",
       "count 40000.00  40000.00 40000.00  40000.00  40000.00         40000.00   \n",
       "mean     40.54   1274.28    16.02    254.82      2.88             0.23   \n",
       "std       9.64   2903.77     8.28    259.37      3.24             0.42   \n",
       "min      19.00  -8019.00     1.00      0.00      1.00             0.00   \n",
       "25%      33.00     54.00     8.00    100.00      1.00             0.00   \n",
       "50%      39.00    407.00    17.00    175.00      2.00             0.00   \n",
       "75%      48.00   1319.00    21.00    313.00      3.00             0.00   \n",
       "max      95.00 102127.00    31.00   4918.00     63.00             1.00   \n",
       "\n",
       "       job_entrepreneur  job_housemaid  job_management  job_retired  ...  \\\n",
       "count          40000.00       40000.00        40000.00     40000.00  ...   \n",
       "mean               0.04           0.03            0.20         0.04  ...   \n",
       "std                0.18           0.16            0.40         0.19  ...   \n",
       "min                0.00           0.00            0.00         0.00  ...   \n",
       "25%                0.00           0.00            0.00         0.00  ...   \n",
       "50%                0.00           0.00            0.00         0.00  ...   \n",
       "75%                0.00           0.00            0.00         0.00  ...   \n",
       "max                1.00           1.00            1.00         1.00  ...   \n",
       "\n",
       "       month_dec  month_feb  month_jan  month_jul  month_jun  month_mar  \\\n",
       "count   40000.00   40000.00   40000.00   40000.00   40000.00   40000.00   \n",
       "mean        0.00       0.06       0.03       0.16       0.12       0.01   \n",
       "std         0.02       0.23       0.17       0.37       0.32       0.08   \n",
       "min         0.00       0.00       0.00       0.00       0.00       0.00   \n",
       "25%         0.00       0.00       0.00       0.00       0.00       0.00   \n",
       "50%         0.00       0.00       0.00       0.00       0.00       0.00   \n",
       "75%         0.00       0.00       0.00       0.00       0.00       0.00   \n",
       "max         1.00       1.00       1.00       1.00       1.00       1.00   \n",
       "\n",
       "       month_may  month_nov  month_oct    y_yes  \n",
       "count   40000.00   40000.00   40000.00 40000.00  \n",
       "mean        0.34       0.09       0.00     0.07  \n",
       "std         0.47       0.29       0.04     0.26  \n",
       "min         0.00       0.00       0.00     0.00  \n",
       "25%         0.00       0.00       0.00     0.00  \n",
       "50%         0.00       0.00       0.00     0.00  \n",
       "75%         1.00       0.00       0.00     0.00  \n",
       "max         1.00       1.00       1.00     1.00  \n",
       "\n",
       "[8 rows x 37 columns]"
      ]
     },
     "execution_count": 123,
     "metadata": {},
     "output_type": "execute_result"
    }
   ],
   "source": [
    "data_dc.describe()"
   ]
  },
  {
   "cell_type": "code",
   "execution_count": 124,
   "id": "positive-measure",
   "metadata": {},
   "outputs": [
    {
     "data": {
      "text/plain": [
       "count   40000.00\n",
       "mean        6.42\n",
       "std         0.63\n",
       "min         5.00\n",
       "25%         5.92\n",
       "50%         6.32\n",
       "75%         6.91\n",
       "max        10.00\n",
       "Name: scaled_age, dtype: float64"
      ]
     },
     "execution_count": 124,
     "metadata": {},
     "output_type": "execute_result"
    }
   ],
   "source": [
    "from sklearn.preprocessing import MinMaxScaler \n",
    "minmaxscaler = MinMaxScaler(feature_range=(5, 10)) \n",
    "minmaxscaler.fit(data_dc[['age']]) \n",
    "data_dc['scaled_age'] = minmaxscaler.transform(data_dc[['age']]) \n",
    "data_dc['scaled_age'].describe()"
   ]
  },
  {
   "cell_type": "code",
   "execution_count": 125,
   "id": "possible-respondent",
   "metadata": {},
   "outputs": [
    {
     "data": {
      "text/plain": [
       "count   40000.00\n",
       "mean        0.01\n",
       "std         0.03\n",
       "min        -0.08\n",
       "25%         0.00\n",
       "50%         0.00\n",
       "75%         0.01\n",
       "max         1.00\n",
       "Name: scaled_balance, dtype: float64"
      ]
     },
     "execution_count": 125,
     "metadata": {},
     "output_type": "execute_result"
    }
   ],
   "source": [
    "from sklearn.preprocessing import MaxAbsScaler\n",
    "scaler = MaxAbsScaler()\n",
    "\n",
    "data_dc['scaled_balance'] = scaler.fit_transform(data_dc[['balance']])\n",
    "data_dc['scaled_balance'].describe()\n"
   ]
  },
  {
   "cell_type": "code",
   "execution_count": 126,
   "id": "postal-picnic",
   "metadata": {},
   "outputs": [],
   "source": [
    "data_dc['duration'].mean()\n",
    "data_dc['avg_zscore_duration'] = (data_dc['duration'] - data_dc['duration'].mean())/data_dc['duration'].std(ddof=0)"
   ]
  },
  {
   "cell_type": "code",
   "execution_count": 127,
   "id": "other-framework",
   "metadata": {},
   "outputs": [
    {
     "data": {
      "text/html": [
       "<div>\n",
       "<style scoped>\n",
       "    .dataframe tbody tr th:only-of-type {\n",
       "        vertical-align: middle;\n",
       "    }\n",
       "\n",
       "    .dataframe tbody tr th {\n",
       "        vertical-align: top;\n",
       "    }\n",
       "\n",
       "    .dataframe thead th {\n",
       "        text-align: right;\n",
       "    }\n",
       "</style>\n",
       "<table border=\"1\" class=\"dataframe\">\n",
       "  <thead>\n",
       "    <tr style=\"text-align: right;\">\n",
       "      <th></th>\n",
       "      <th>age</th>\n",
       "      <th>balance</th>\n",
       "      <th>day</th>\n",
       "      <th>duration</th>\n",
       "      <th>campaign</th>\n",
       "      <th>job_blue-collar</th>\n",
       "      <th>job_entrepreneur</th>\n",
       "      <th>job_housemaid</th>\n",
       "      <th>job_management</th>\n",
       "      <th>job_retired</th>\n",
       "      <th>...</th>\n",
       "      <th>month_jun</th>\n",
       "      <th>month_mar</th>\n",
       "      <th>month_may</th>\n",
       "      <th>month_nov</th>\n",
       "      <th>month_oct</th>\n",
       "      <th>y_yes</th>\n",
       "      <th>scaled_age</th>\n",
       "      <th>scaled_balance</th>\n",
       "      <th>avg_zscore_duration</th>\n",
       "      <th>day_cut</th>\n",
       "    </tr>\n",
       "  </thead>\n",
       "  <tbody>\n",
       "    <tr>\n",
       "      <th>0</th>\n",
       "      <td>58</td>\n",
       "      <td>2143</td>\n",
       "      <td>5</td>\n",
       "      <td>261</td>\n",
       "      <td>1</td>\n",
       "      <td>0</td>\n",
       "      <td>0</td>\n",
       "      <td>0</td>\n",
       "      <td>1</td>\n",
       "      <td>0</td>\n",
       "      <td>...</td>\n",
       "      <td>0</td>\n",
       "      <td>0</td>\n",
       "      <td>1</td>\n",
       "      <td>0</td>\n",
       "      <td>0</td>\n",
       "      <td>0</td>\n",
       "      <td>7.57</td>\n",
       "      <td>0.02</td>\n",
       "      <td>0.02</td>\n",
       "      <td>early_month</td>\n",
       "    </tr>\n",
       "    <tr>\n",
       "      <th>1</th>\n",
       "      <td>44</td>\n",
       "      <td>29</td>\n",
       "      <td>5</td>\n",
       "      <td>151</td>\n",
       "      <td>1</td>\n",
       "      <td>0</td>\n",
       "      <td>0</td>\n",
       "      <td>0</td>\n",
       "      <td>0</td>\n",
       "      <td>0</td>\n",
       "      <td>...</td>\n",
       "      <td>0</td>\n",
       "      <td>0</td>\n",
       "      <td>1</td>\n",
       "      <td>0</td>\n",
       "      <td>0</td>\n",
       "      <td>0</td>\n",
       "      <td>6.64</td>\n",
       "      <td>0.00</td>\n",
       "      <td>-0.40</td>\n",
       "      <td>early_month</td>\n",
       "    </tr>\n",
       "    <tr>\n",
       "      <th>2</th>\n",
       "      <td>33</td>\n",
       "      <td>2</td>\n",
       "      <td>5</td>\n",
       "      <td>76</td>\n",
       "      <td>1</td>\n",
       "      <td>0</td>\n",
       "      <td>1</td>\n",
       "      <td>0</td>\n",
       "      <td>0</td>\n",
       "      <td>0</td>\n",
       "      <td>...</td>\n",
       "      <td>0</td>\n",
       "      <td>0</td>\n",
       "      <td>1</td>\n",
       "      <td>0</td>\n",
       "      <td>0</td>\n",
       "      <td>0</td>\n",
       "      <td>5.92</td>\n",
       "      <td>0.00</td>\n",
       "      <td>-0.69</td>\n",
       "      <td>early_month</td>\n",
       "    </tr>\n",
       "    <tr>\n",
       "      <th>3</th>\n",
       "      <td>47</td>\n",
       "      <td>1506</td>\n",
       "      <td>5</td>\n",
       "      <td>92</td>\n",
       "      <td>1</td>\n",
       "      <td>1</td>\n",
       "      <td>0</td>\n",
       "      <td>0</td>\n",
       "      <td>0</td>\n",
       "      <td>0</td>\n",
       "      <td>...</td>\n",
       "      <td>0</td>\n",
       "      <td>0</td>\n",
       "      <td>1</td>\n",
       "      <td>0</td>\n",
       "      <td>0</td>\n",
       "      <td>0</td>\n",
       "      <td>6.84</td>\n",
       "      <td>0.01</td>\n",
       "      <td>-0.63</td>\n",
       "      <td>early_month</td>\n",
       "    </tr>\n",
       "    <tr>\n",
       "      <th>4</th>\n",
       "      <td>33</td>\n",
       "      <td>1</td>\n",
       "      <td>5</td>\n",
       "      <td>198</td>\n",
       "      <td>1</td>\n",
       "      <td>0</td>\n",
       "      <td>0</td>\n",
       "      <td>0</td>\n",
       "      <td>0</td>\n",
       "      <td>0</td>\n",
       "      <td>...</td>\n",
       "      <td>0</td>\n",
       "      <td>0</td>\n",
       "      <td>1</td>\n",
       "      <td>0</td>\n",
       "      <td>0</td>\n",
       "      <td>0</td>\n",
       "      <td>5.92</td>\n",
       "      <td>0.00</td>\n",
       "      <td>-0.22</td>\n",
       "      <td>early_month</td>\n",
       "    </tr>\n",
       "  </tbody>\n",
       "</table>\n",
       "<p>5 rows × 41 columns</p>\n",
       "</div>"
      ],
      "text/plain": [
       "   age  balance  day  duration  campaign  job_blue-collar  job_entrepreneur  \\\n",
       "0   58     2143    5       261         1                0                 0   \n",
       "1   44       29    5       151         1                0                 0   \n",
       "2   33        2    5        76         1                0                 1   \n",
       "3   47     1506    5        92         1                1                 0   \n",
       "4   33        1    5       198         1                0                 0   \n",
       "\n",
       "   job_housemaid  job_management  job_retired  ...  month_jun  month_mar  \\\n",
       "0              0               1            0  ...          0          0   \n",
       "1              0               0            0  ...          0          0   \n",
       "2              0               0            0  ...          0          0   \n",
       "3              0               0            0  ...          0          0   \n",
       "4              0               0            0  ...          0          0   \n",
       "\n",
       "   month_may  month_nov  month_oct  y_yes  scaled_age  scaled_balance  \\\n",
       "0          1          0          0      0        7.57            0.02   \n",
       "1          1          0          0      0        6.64            0.00   \n",
       "2          1          0          0      0        5.92            0.00   \n",
       "3          1          0          0      0        6.84            0.01   \n",
       "4          1          0          0      0        5.92            0.00   \n",
       "\n",
       "   avg_zscore_duration      day_cut  \n",
       "0                 0.02  early_month  \n",
       "1                -0.40  early_month  \n",
       "2                -0.69  early_month  \n",
       "3                -0.63  early_month  \n",
       "4                -0.22  early_month  \n",
       "\n",
       "[5 rows x 41 columns]"
      ]
     },
     "execution_count": 127,
     "metadata": {},
     "output_type": "execute_result"
    }
   ],
   "source": [
    "cut_labels = ['early_month', 'mid_month', 'end_month']\n",
    "cut_bins = [1, 11, 21, 31]\n",
    "data_dc['day_cut'] = pd.cut(data_dc['day'], bins=cut_bins, labels=cut_labels)\n",
    "data_dc.head()"
   ]
  },
  {
   "cell_type": "code",
   "execution_count": 128,
   "id": "criminal-sperm",
   "metadata": {},
   "outputs": [
    {
     "data": {
      "image/png": "[encoded data removed]",
      "text/plain": [
       "<Figure size 1296x1296 with 42 Axes>"
      ]
     },
     "metadata": {
      "needs_background": "light"
     },
     "output_type": "display_data"
    }
   ],
   "source": [
    "# Visualize numerical features using histogram\n",
    "data_dc.hist(figsize = (18,18), grid = False, xlabelsize=9, ylabelsize=9)\n",
    "plt.show()"
   ]
  },
  {
   "cell_type": "code",
   "execution_count": null,
   "id": "otherwise-parcel",
   "metadata": {},
   "outputs": [],
   "source": [
    "# ->Call volume peaks in the month of May, Married people - Majority of call volume"
   ]
  },
  {
   "cell_type": "code",
   "execution_count": 129,
   "id": "exact-poland",
   "metadata": {},
   "outputs": [
    {
     "data": {
      "text/html": [
       "<div>\n",
       "<style scoped>\n",
       "    .dataframe tbody tr th:only-of-type {\n",
       "        vertical-align: middle;\n",
       "    }\n",
       "\n",
       "    .dataframe tbody tr th {\n",
       "        vertical-align: top;\n",
       "    }\n",
       "\n",
       "    .dataframe thead th {\n",
       "        text-align: right;\n",
       "    }\n",
       "</style>\n",
       "<table border=\"1\" class=\"dataframe\">\n",
       "  <thead>\n",
       "    <tr style=\"text-align: right;\">\n",
       "      <th></th>\n",
       "      <th>age</th>\n",
       "      <th>balance</th>\n",
       "      <th>day</th>\n",
       "      <th>duration</th>\n",
       "      <th>campaign</th>\n",
       "      <th>job_blue-collar</th>\n",
       "      <th>job_entrepreneur</th>\n",
       "      <th>job_housemaid</th>\n",
       "      <th>job_management</th>\n",
       "      <th>job_retired</th>\n",
       "      <th>...</th>\n",
       "      <th>month_jul</th>\n",
       "      <th>month_jun</th>\n",
       "      <th>month_mar</th>\n",
       "      <th>month_may</th>\n",
       "      <th>month_nov</th>\n",
       "      <th>month_oct</th>\n",
       "      <th>y_yes</th>\n",
       "      <th>scaled_age</th>\n",
       "      <th>scaled_balance</th>\n",
       "      <th>avg_zscore_duration</th>\n",
       "    </tr>\n",
       "  </thead>\n",
       "  <tbody>\n",
       "    <tr>\n",
       "      <th>count</th>\n",
       "      <td>40000.00</td>\n",
       "      <td>40000.00</td>\n",
       "      <td>40000.00</td>\n",
       "      <td>40000.00</td>\n",
       "      <td>40000.00</td>\n",
       "      <td>40000.00</td>\n",
       "      <td>40000.00</td>\n",
       "      <td>40000.00</td>\n",
       "      <td>40000.00</td>\n",
       "      <td>40000.00</td>\n",
       "      <td>...</td>\n",
       "      <td>40000.00</td>\n",
       "      <td>40000.00</td>\n",
       "      <td>40000.00</td>\n",
       "      <td>40000.00</td>\n",
       "      <td>40000.00</td>\n",
       "      <td>40000.00</td>\n",
       "      <td>40000.00</td>\n",
       "      <td>40000.00</td>\n",
       "      <td>40000.00</td>\n",
       "      <td>40000.00</td>\n",
       "    </tr>\n",
       "    <tr>\n",
       "      <th>mean</th>\n",
       "      <td>40.54</td>\n",
       "      <td>1274.28</td>\n",
       "      <td>16.02</td>\n",
       "      <td>254.82</td>\n",
       "      <td>2.88</td>\n",
       "      <td>0.23</td>\n",
       "      <td>0.04</td>\n",
       "      <td>0.03</td>\n",
       "      <td>0.20</td>\n",
       "      <td>0.04</td>\n",
       "      <td>...</td>\n",
       "      <td>0.16</td>\n",
       "      <td>0.12</td>\n",
       "      <td>0.01</td>\n",
       "      <td>0.34</td>\n",
       "      <td>0.09</td>\n",
       "      <td>0.00</td>\n",
       "      <td>0.07</td>\n",
       "      <td>6.42</td>\n",
       "      <td>0.01</td>\n",
       "      <td>0.00</td>\n",
       "    </tr>\n",
       "    <tr>\n",
       "      <th>std</th>\n",
       "      <td>9.64</td>\n",
       "      <td>2903.77</td>\n",
       "      <td>8.28</td>\n",
       "      <td>259.37</td>\n",
       "      <td>3.24</td>\n",
       "      <td>0.42</td>\n",
       "      <td>0.18</td>\n",
       "      <td>0.16</td>\n",
       "      <td>0.40</td>\n",
       "      <td>0.19</td>\n",
       "      <td>...</td>\n",
       "      <td>0.37</td>\n",
       "      <td>0.32</td>\n",
       "      <td>0.08</td>\n",
       "      <td>0.47</td>\n",
       "      <td>0.29</td>\n",
       "      <td>0.04</td>\n",
       "      <td>0.26</td>\n",
       "      <td>0.63</td>\n",
       "      <td>0.03</td>\n",
       "      <td>1.00</td>\n",
       "    </tr>\n",
       "    <tr>\n",
       "      <th>min</th>\n",
       "      <td>19.00</td>\n",
       "      <td>-8019.00</td>\n",
       "      <td>1.00</td>\n",
       "      <td>0.00</td>\n",
       "      <td>1.00</td>\n",
       "      <td>0.00</td>\n",
       "      <td>0.00</td>\n",
       "      <td>0.00</td>\n",
       "      <td>0.00</td>\n",
       "      <td>0.00</td>\n",
       "      <td>...</td>\n",
       "      <td>0.00</td>\n",
       "      <td>0.00</td>\n",
       "      <td>0.00</td>\n",
       "      <td>0.00</td>\n",
       "      <td>0.00</td>\n",
       "      <td>0.00</td>\n",
       "      <td>0.00</td>\n",
       "      <td>5.00</td>\n",
       "      <td>-0.08</td>\n",
       "      <td>-0.98</td>\n",
       "    </tr>\n",
       "    <tr>\n",
       "      <th>25%</th>\n",
       "      <td>33.00</td>\n",
       "      <td>54.00</td>\n",
       "      <td>8.00</td>\n",
       "      <td>100.00</td>\n",
       "      <td>1.00</td>\n",
       "      <td>0.00</td>\n",
       "      <td>0.00</td>\n",
       "      <td>0.00</td>\n",
       "      <td>0.00</td>\n",
       "      <td>0.00</td>\n",
       "      <td>...</td>\n",
       "      <td>0.00</td>\n",
       "      <td>0.00</td>\n",
       "      <td>0.00</td>\n",
       "      <td>0.00</td>\n",
       "      <td>0.00</td>\n",
       "      <td>0.00</td>\n",
       "      <td>0.00</td>\n",
       "      <td>5.92</td>\n",
       "      <td>0.00</td>\n",
       "      <td>-0.60</td>\n",
       "    </tr>\n",
       "    <tr>\n",
       "      <th>50%</th>\n",
       "      <td>39.00</td>\n",
       "      <td>407.00</td>\n",
       "      <td>17.00</td>\n",
       "      <td>175.00</td>\n",
       "      <td>2.00</td>\n",
       "      <td>0.00</td>\n",
       "      <td>0.00</td>\n",
       "      <td>0.00</td>\n",
       "      <td>0.00</td>\n",
       "      <td>0.00</td>\n",
       "      <td>...</td>\n",
       "      <td>0.00</td>\n",
       "      <td>0.00</td>\n",
       "      <td>0.00</td>\n",
       "      <td>0.00</td>\n",
       "      <td>0.00</td>\n",
       "      <td>0.00</td>\n",
       "      <td>0.00</td>\n",
       "      <td>6.32</td>\n",
       "      <td>0.00</td>\n",
       "      <td>-0.31</td>\n",
       "    </tr>\n",
       "    <tr>\n",
       "      <th>75%</th>\n",
       "      <td>48.00</td>\n",
       "      <td>1319.00</td>\n",
       "      <td>21.00</td>\n",
       "      <td>313.00</td>\n",
       "      <td>3.00</td>\n",
       "      <td>0.00</td>\n",
       "      <td>0.00</td>\n",
       "      <td>0.00</td>\n",
       "      <td>0.00</td>\n",
       "      <td>0.00</td>\n",
       "      <td>...</td>\n",
       "      <td>0.00</td>\n",
       "      <td>0.00</td>\n",
       "      <td>0.00</td>\n",
       "      <td>1.00</td>\n",
       "      <td>0.00</td>\n",
       "      <td>0.00</td>\n",
       "      <td>0.00</td>\n",
       "      <td>6.91</td>\n",
       "      <td>0.01</td>\n",
       "      <td>0.22</td>\n",
       "    </tr>\n",
       "    <tr>\n",
       "      <th>max</th>\n",
       "      <td>95.00</td>\n",
       "      <td>102127.00</td>\n",
       "      <td>31.00</td>\n",
       "      <td>4918.00</td>\n",
       "      <td>63.00</td>\n",
       "      <td>1.00</td>\n",
       "      <td>1.00</td>\n",
       "      <td>1.00</td>\n",
       "      <td>1.00</td>\n",
       "      <td>1.00</td>\n",
       "      <td>...</td>\n",
       "      <td>1.00</td>\n",
       "      <td>1.00</td>\n",
       "      <td>1.00</td>\n",
       "      <td>1.00</td>\n",
       "      <td>1.00</td>\n",
       "      <td>1.00</td>\n",
       "      <td>1.00</td>\n",
       "      <td>10.00</td>\n",
       "      <td>1.00</td>\n",
       "      <td>17.98</td>\n",
       "    </tr>\n",
       "  </tbody>\n",
       "</table>\n",
       "<p>8 rows × 40 columns</p>\n",
       "</div>"
      ],
      "text/plain": [
       "           age   balance      day  duration  campaign  job_blue-collar  \\\n",
       "count 40000.00  40000.00 40000.00  40000.00  40000.00         40000.00   \n",
       "mean     40.54   1274.28    16.02    254.82      2.88             0.23   \n",
       "std       9.64   2903.77     8.28    259.37      3.24             0.42   \n",
       "min      19.00  -8019.00     1.00      0.00      1.00             0.00   \n",
       "25%      33.00     54.00     8.00    100.00      1.00             0.00   \n",
       "50%      39.00    407.00    17.00    175.00      2.00             0.00   \n",
       "75%      48.00   1319.00    21.00    313.00      3.00             0.00   \n",
       "max      95.00 102127.00    31.00   4918.00     63.00             1.00   \n",
       "\n",
       "       job_entrepreneur  job_housemaid  job_management  job_retired  ...  \\\n",
       "count          40000.00       40000.00        40000.00     40000.00  ...   \n",
       "mean               0.04           0.03            0.20         0.04  ...   \n",
       "std                0.18           0.16            0.40         0.19  ...   \n",
       "min                0.00           0.00            0.00         0.00  ...   \n",
       "25%                0.00           0.00            0.00         0.00  ...   \n",
       "50%                0.00           0.00            0.00         0.00  ...   \n",
       "75%                0.00           0.00            0.00         0.00  ...   \n",
       "max                1.00           1.00            1.00         1.00  ...   \n",
       "\n",
       "       month_jul  month_jun  month_mar  month_may  month_nov  month_oct  \\\n",
       "count   40000.00   40000.00   40000.00   40000.00   40000.00   40000.00   \n",
       "mean        0.16       0.12       0.01       0.34       0.09       0.00   \n",
       "std         0.37       0.32       0.08       0.47       0.29       0.04   \n",
       "min         0.00       0.00       0.00       0.00       0.00       0.00   \n",
       "25%         0.00       0.00       0.00       0.00       0.00       0.00   \n",
       "50%         0.00       0.00       0.00       0.00       0.00       0.00   \n",
       "75%         0.00       0.00       0.00       1.00       0.00       0.00   \n",
       "max         1.00       1.00       1.00       1.00       1.00       1.00   \n",
       "\n",
       "         y_yes  scaled_age  scaled_balance  avg_zscore_duration  \n",
       "count 40000.00    40000.00        40000.00             40000.00  \n",
       "mean      0.07        6.42            0.01                 0.00  \n",
       "std       0.26        0.63            0.03                 1.00  \n",
       "min       0.00        5.00           -0.08                -0.98  \n",
       "25%       0.00        5.92            0.00                -0.60  \n",
       "50%       0.00        6.32            0.00                -0.31  \n",
       "75%       0.00        6.91            0.01                 0.22  \n",
       "max       1.00       10.00            1.00                17.98  \n",
       "\n",
       "[8 rows x 40 columns]"
      ]
     },
     "execution_count": 129,
     "metadata": {},
     "output_type": "execute_result"
    }
   ],
   "source": [
    "data_dc.describe()"
   ]
  },
  {
   "cell_type": "code",
   "execution_count": 130,
   "id": "friendly-aquarium",
   "metadata": {},
   "outputs": [
    {
     "data": {
      "text/plain": [
       "0    37104\n",
       "1     2896\n",
       "Name: y_yes, dtype: int64"
      ]
     },
     "execution_count": 130,
     "metadata": {},
     "output_type": "execute_result"
    }
   ],
   "source": [
    "#checking if its balanced dataset -- imbalanced dataset\n",
    "data_dc['y_yes'].value_counts()"
   ]
  },
  {
   "cell_type": "code",
   "execution_count": 131,
   "id": "owned-breathing",
   "metadata": {},
   "outputs": [],
   "source": [
    "X = data_dc.drop(columns = ['y_yes'])\n",
    "y = data_dc['y_yes']\n"
   ]
  },
  {
   "cell_type": "code",
   "execution_count": 79,
   "id": "postal-hometown",
   "metadata": {},
   "outputs": [
    {
     "name": "stdout",
     "output_type": "stream",
     "text": [
      "(32000, 37)\n",
      "(8000, 37)\n"
     ]
    }
   ],
   "source": [
    "rs=12\n",
    "X_train, X_test, y_train, y_test = train_test_split(X, y, test_size = 0.2, random_state = rs)\n",
    "print(X_train.shape)           \n",
    "print(X_test.shape)"
   ]
  },
  {
   "cell_type": "code",
   "execution_count": 132,
   "id": "surprised-engineering",
   "metadata": {},
   "outputs": [],
   "source": [
    "#random oversampling\n",
    "ros = RandomOverSampler(random_state = rs)     \n",
    "X_ros, y_ros = ros.fit_resample(X_train, y_train) "
   ]
  },
  {
   "cell_type": "code",
   "execution_count": 133,
   "id": "smart-wells",
   "metadata": {},
   "outputs": [
    {
     "data": {
      "text/plain": [
       "1    29692\n",
       "0    29692\n",
       "Name: y_yes, dtype: int64"
      ]
     },
     "execution_count": 133,
     "metadata": {},
     "output_type": "execute_result"
    }
   ],
   "source": [
    "pd.value_counts(y_ros) "
   ]
  },
  {
   "cell_type": "code",
   "execution_count": 134,
   "id": "studied-windsor",
   "metadata": {},
   "outputs": [
    {
     "name": "stdout",
     "output_type": "stream",
     "text": [
      "              precision    recall  f1-score   support\n",
      "\n",
      "           0       0.99      0.87      0.92      7412\n",
      "           1       0.34      0.86      0.49       588\n",
      "\n",
      "    accuracy                           0.87      8000\n",
      "   macro avg       0.66      0.86      0.71      8000\n",
      "weighted avg       0.94      0.87      0.89      8000\n",
      "\n"
     ]
    }
   ],
   "source": [
    "#logistic regression - ros\n",
    "logisticRegr = LogisticRegression()\n",
    "lr = logisticRegr.fit(X_ros, y_ros)\n",
    "y_pred=logisticRegr.predict(X_test)\n",
    "print(classification_report(y_test, y_pred))"
   ]
  },
  {
   "cell_type": "code",
   "execution_count": 135,
   "id": "outstanding-inventory",
   "metadata": {},
   "outputs": [
    {
     "name": "stdout",
     "output_type": "stream",
     "text": [
      "[[0.35158151 0.64841849]\n",
      " [0.00618807 0.99381193]\n",
      " [0.83684748 0.16315252]\n",
      " ...\n",
      " [0.85381521 0.14618479]\n",
      " [0.97080767 0.02919233]\n",
      " [0.95045411 0.04954589]]\n"
     ]
    }
   ],
   "source": [
    "# predict probabilities \n",
    "y_prob=logisticRegr.predict_proba(X_test)\n",
    "print(y_prob)"
   ]
  },
  {
   "cell_type": "code",
   "execution_count": 136,
   "id": "sought-passport",
   "metadata": {},
   "outputs": [],
   "source": [
    "# keep probabilities for the positive outcome only\n",
    "probs = y_prob[:, 1]"
   ]
  },
  {
   "cell_type": "code",
   "execution_count": 137,
   "id": "accredited-switch",
   "metadata": {},
   "outputs": [
    {
     "name": "stdout",
     "output_type": "stream",
     "text": [
      "0.9258926047483214\n"
     ]
    }
   ],
   "source": [
    "# calculate roc auc\n",
    "auc = roc_auc_score(y_test, probs)\n",
    "print(auc)"
   ]
  },
  {
   "cell_type": "code",
   "execution_count": 138,
   "id": "related-money",
   "metadata": {},
   "outputs": [
    {
     "data": {
      "image/png": "[encoded data removed]",
      "text/plain": [
       "<Figure size 432x288 with 1 Axes>"
      ]
     },
     "metadata": {
      "needs_background": "light"
     },
     "output_type": "display_data"
    }
   ],
   "source": [
    "# calculate roc curve\n",
    "fpr, tpr, thresholds = roc_curve(y_test, probs)\n",
    "# plot no skill\n",
    "plt.plot([0, 1], [0, 1], linestyle='--')\n",
    "# plot the roc curve for the model\n",
    "plt.plot(fpr,tpr,label=\"AUC=\"+str(auc))\n",
    "plt.ylabel('True Positive Rate')\n",
    "plt.xlabel('False Positive Rate')\n",
    "plt.legend(loc=4)\n",
    "# show the plot\n",
    "plt.show()"
   ]
  },
  {
   "cell_type": "code",
   "execution_count": 139,
   "id": "published-identifier",
   "metadata": {},
   "outputs": [
    {
     "data": {
      "text/plain": [
       "array([0.86604361, 0.86275996, 0.86435969, 0.86537004, 0.86375884])"
      ]
     },
     "execution_count": 139,
     "metadata": {},
     "output_type": "execute_result"
    }
   ],
   "source": [
    "cross_val_score(logisticRegr, X_ros, y_ros, cv=5)"
   ]
  },
  {
   "cell_type": "code",
   "execution_count": 140,
   "id": "mechanical-engineer",
   "metadata": {},
   "outputs": [],
   "source": [
    "#smote balancing\n",
    "smo = SMOTE(random_state = rs)                      # Create an instance of SMOTE\n",
    "X_smo, y_smo = smo.fit_resample(X_train, y_train)           # Resample the training data"
   ]
  },
  {
   "cell_type": "code",
   "execution_count": 141,
   "id": "authorized-sponsorship",
   "metadata": {},
   "outputs": [
    {
     "data": {
      "text/plain": [
       "1    29692\n",
       "0    29692\n",
       "Name: y_yes, dtype: int64"
      ]
     },
     "execution_count": 141,
     "metadata": {},
     "output_type": "execute_result"
    }
   ],
   "source": [
    "pd.value_counts(y_smo)                                      # Get counts after class balancing"
   ]
  },
  {
   "cell_type": "code",
   "execution_count": 142,
   "id": "bored-boating",
   "metadata": {},
   "outputs": [
    {
     "name": "stdout",
     "output_type": "stream",
     "text": [
      "              precision    recall  f1-score   support\n",
      "\n",
      "           0       0.97      0.92      0.95      7412\n",
      "           1       0.39      0.64      0.49       588\n",
      "\n",
      "    accuracy                           0.90      8000\n",
      "   macro avg       0.68      0.78      0.72      8000\n",
      "weighted avg       0.93      0.90      0.91      8000\n",
      "\n"
     ]
    }
   ],
   "source": [
    "#logistic regression - smote\n",
    "logisticRegr = LogisticRegression()\n",
    "lr_smo = logisticRegr.fit(X_smo, y_smo)\n",
    "y_pred_smo=logisticRegr.predict(X_test)\n",
    "print(classification_report(y_test, y_pred_smo))"
   ]
  },
  {
   "cell_type": "code",
   "execution_count": 143,
   "id": "timely-remainder",
   "metadata": {},
   "outputs": [
    {
     "name": "stdout",
     "output_type": "stream",
     "text": [
      "[[0.43255715 0.56744285]\n",
      " [0.02223238 0.97776762]\n",
      " [0.95795179 0.04204821]\n",
      " ...\n",
      " [0.99484877 0.00515123]\n",
      " [0.99473236 0.00526764]\n",
      " [0.99520315 0.00479685]]\n"
     ]
    }
   ],
   "source": [
    "# predict probabilities \n",
    "y_prob_smo=logisticRegr.predict_proba(X_test)\n",
    "print(y_prob_smo)"
   ]
  },
  {
   "cell_type": "code",
   "execution_count": 144,
   "id": "closing-vector",
   "metadata": {},
   "outputs": [],
   "source": [
    "# keep probabilities for the positive outcome only\n",
    "probs = y_prob_smo[:, 1]"
   ]
  },
  {
   "cell_type": "code",
   "execution_count": 145,
   "id": "narrow-barrier",
   "metadata": {},
   "outputs": [
    {
     "name": "stdout",
     "output_type": "stream",
     "text": [
      "0.8967717821073384\n"
     ]
    }
   ],
   "source": [
    "# calculate roc auc\n",
    "auc = roc_auc_score(y_test, probs)\n",
    "print(auc)"
   ]
  },
  {
   "cell_type": "code",
   "execution_count": 146,
   "id": "complete-czech",
   "metadata": {},
   "outputs": [
    {
     "data": {
      "image/png": "[encoded data removed]",
      "text/plain": [
       "<Figure size 432x288 with 1 Axes>"
      ]
     },
     "metadata": {
      "needs_background": "light"
     },
     "output_type": "display_data"
    }
   ],
   "source": [
    "# calculate roc curve\n",
    "fpr, tpr, thresholds = roc_curve(y_test, probs)\n",
    "# plot no skill\n",
    "plt.plot([0, 1], [0, 1], linestyle='--')\n",
    "# plot the roc curve for the model\n",
    "plt.plot(fpr,tpr,label=\"AUC=\"+str(auc))\n",
    "plt.ylabel('True Positive Rate')\n",
    "plt.xlabel('False Positive Rate')\n",
    "plt.legend(loc=4)\n",
    "# show the plot\n",
    "plt.show()"
   ]
  },
  {
   "cell_type": "code",
   "execution_count": 147,
   "id": "creative-brunei",
   "metadata": {},
   "outputs": [
    {
     "data": {
      "text/plain": [
       "array([0.86351772, 0.94047318, 0.94426202, 0.94628273, 0.94333109])"
      ]
     },
     "execution_count": 147,
     "metadata": {},
     "output_type": "execute_result"
    }
   ],
   "source": [
    "cross_val_score(logisticRegr, X_smo, y_smo, cv=5) "
   ]
  },
  {
   "cell_type": "code",
   "execution_count": 155,
   "id": "logical-cream",
   "metadata": {},
   "outputs": [],
   "source": [
    "#random undersampling\n",
    "rus = RandomUnderSampler(random_state = rs)               # Create an instance of RandomUnderSampler\n",
    "X_rus, y_rus = rus.fit_resample(X_train, y_train)                 # Resample training data"
   ]
  },
  {
   "cell_type": "code",
   "execution_count": 156,
   "id": "reverse-english",
   "metadata": {},
   "outputs": [
    {
     "data": {
      "text/plain": [
       "1    2308\n",
       "0    2308\n",
       "Name: y_yes, dtype: int64"
      ]
     },
     "execution_count": 156,
     "metadata": {},
     "output_type": "execute_result"
    }
   ],
   "source": [
    "pd.value_counts(y_rus)"
   ]
  },
  {
   "cell_type": "code",
   "execution_count": 157,
   "id": "valued-montreal",
   "metadata": {},
   "outputs": [
    {
     "name": "stdout",
     "output_type": "stream",
     "text": [
      "              precision    recall  f1-score   support\n",
      "\n",
      "           0       0.99      0.87      0.93      7412\n",
      "           1       0.35      0.86      0.49       588\n",
      "\n",
      "    accuracy                           0.87      8000\n",
      "   macro avg       0.67      0.87      0.71      8000\n",
      "weighted avg       0.94      0.87      0.89      8000\n",
      "\n"
     ]
    }
   ],
   "source": [
    "#logistic regression - rus\n",
    "logisticRegr = LogisticRegression()\n",
    "lr_rus = logisticRegr.fit(X_rus, y_rus)\n",
    "y_pred_rus=logisticRegr.predict(X_test)\n",
    "print(classification_report(y_test, y_pred_rus))"
   ]
  },
  {
   "cell_type": "code",
   "execution_count": 158,
   "id": "strange-regular",
   "metadata": {},
   "outputs": [],
   "source": [
    "# predict probabilities \n",
    "y_prob_rus=logisticRegr.predict_proba(X_test)\n",
    "probs = y_prob_rus[:, 1]"
   ]
  },
  {
   "cell_type": "code",
   "execution_count": 159,
   "id": "capital-november",
   "metadata": {},
   "outputs": [
    {
     "name": "stdout",
     "output_type": "stream",
     "text": [
      "0.9256948192120886\n"
     ]
    }
   ],
   "source": [
    "auc = roc_auc_score(y_test, probs)\n",
    "print(auc)"
   ]
  },
  {
   "cell_type": "code",
   "execution_count": 153,
   "id": "capable-recall",
   "metadata": {},
   "outputs": [
    {
     "data": {
      "image/png": "[encoded data removed]",
      "text/plain": [
       "<Figure size 432x288 with 1 Axes>"
      ]
     },
     "metadata": {
      "needs_background": "light"
     },
     "output_type": "display_data"
    }
   ],
   "source": [
    "# calculate roc curve\n",
    "fpr, tpr, thresholds = roc_curve(y_test, probs)\n",
    "# plot no skill\n",
    "plt.plot([0, 1], [0, 1], linestyle='--')\n",
    "# plot the roc curve for the model\n",
    "plt.plot(fpr,tpr,label=\"AUC=\"+str(auc))\n",
    "plt.ylabel('True Positive Rate')\n",
    "plt.xlabel('False Positive Rate')\n",
    "plt.legend(loc=4)\n",
    "# show the plot\n",
    "plt.show()"
   ]
  },
  {
   "cell_type": "code",
   "execution_count": 154,
   "id": "multiple-equity",
   "metadata": {},
   "outputs": [
    {
     "data": {
      "text/plain": [
       "array([0.86580087, 0.86348862, 0.86132178, 0.84832069, 0.83748646])"
      ]
     },
     "execution_count": 154,
     "metadata": {},
     "output_type": "execute_result"
    }
   ],
   "source": [
    "cross_val_score(logisticRegr, X_rus, y_rus, cv=5) "
   ]
  },
  {
   "cell_type": "code",
   "execution_count": 38,
   "id": "compressed-standing",
   "metadata": {},
   "outputs": [],
   "source": [
    "#Random undersampling and randomoversampling produce best results"
   ]
  },
  {
   "cell_type": "code",
   "execution_count": 160,
   "id": "alternate-acoustic",
   "metadata": {},
   "outputs": [],
   "source": [
    "#knn classifier - ros\n",
    "k_range = range(1,50)                                \n",
    "scores = {}                                          \n",
    "score_list = []                                     \n",
    "for k in k_range:                                    \n",
    "    knn = KNeighborsClassifier(n_neighbors = k)     \n",
    "    knn.fit(X_ros, y_ros)                        \n",
    "    y_pred_knn = knn.predict(X_test)                 \n",
    "    scores[k] = f1_score(y_test, y_pred_knn)         \n",
    "    score_list.append(f1_score(y_test, y_pred_knn))  \n"
   ]
  },
  {
   "cell_type": "code",
   "execution_count": 161,
   "id": "driven-focus",
   "metadata": {},
   "outputs": [
    {
     "data": {
      "image/png": "[encoded data removed]",
      "text/plain": [
       "<Figure size 432x288 with 1 Axes>"
      ]
     },
     "metadata": {
      "needs_background": "light"
     },
     "output_type": "display_data"
    }
   ],
   "source": [
    "#identifying k value for best accuracy\n",
    "%matplotlib inline\n",
    "import matplotlib.pyplot as plt\n",
    "plt.plot(k_range, score_list)                   \n",
    "plt.xlabel('k value')\n",
    "plt.ylabel('Accuracy')\n",
    "plt.title('KNN - Accuracy vs k value')\n",
    "plt.show()"
   ]
  },
  {
   "cell_type": "code",
   "execution_count": 162,
   "id": "drawn-possession",
   "metadata": {},
   "outputs": [
    {
     "name": "stdout",
     "output_type": "stream",
     "text": [
      "0.41620626151012885\n",
      "5\n"
     ]
    }
   ],
   "source": [
    "print(max(score_list))\n",
    "print(max(scores, key=scores.get))"
   ]
  },
  {
   "cell_type": "code",
   "execution_count": 163,
   "id": "excited-meeting",
   "metadata": {},
   "outputs": [
    {
     "name": "stdout",
     "output_type": "stream",
     "text": [
      "              precision    recall  f1-score   support\n",
      "\n",
      "           0       0.96      0.91      0.93      7412\n",
      "           1       0.33      0.58      0.42       588\n",
      "\n",
      "    accuracy                           0.88      8000\n",
      "   macro avg       0.64      0.74      0.68      8000\n",
      "weighted avg       0.92      0.88      0.90      8000\n",
      "\n"
     ]
    }
   ],
   "source": [
    "#building the final knn model with k=10\n",
    "knnc = KNeighborsClassifier(n_neighbors = 5)     \n",
    "knf = knnc.fit(X_ros, y_ros)                        \n",
    "y_pred_knn = knnc.predict(X_test) \n",
    "print(classification_report(y_test, y_pred_knn))"
   ]
  },
  {
   "cell_type": "code",
   "execution_count": 164,
   "id": "impressive-albany",
   "metadata": {},
   "outputs": [
    {
     "name": "stdout",
     "output_type": "stream",
     "text": [
      "              precision    recall  f1-score   support\n",
      "\n",
      "           0       0.97      0.89      0.93      7412\n",
      "           1       0.34      0.70      0.46       588\n",
      "\n",
      "    accuracy                           0.88      8000\n",
      "   macro avg       0.66      0.80      0.70      8000\n",
      "weighted avg       0.93      0.88      0.90      8000\n",
      "\n"
     ]
    }
   ],
   "source": [
    "#SVC - rus\n",
    "svc = SVC()                                                     # Create an instance of SVC\n",
    "svc.fit(X_rus, y_rus)                                           # Fit model with SMOTE oversampled training data\n",
    "print(classification_report(y_test, svc.predict(X_test)))       # Generate classification report"
   ]
  },
  {
   "cell_type": "code",
   "execution_count": 165,
   "id": "hazardous-convertible",
   "metadata": {},
   "outputs": [
    {
     "data": {
      "text/plain": [
       "array([0.81818182, 0.81473456, 0.81581798, 0.79414951, 0.79848321])"
      ]
     },
     "execution_count": 165,
     "metadata": {},
     "output_type": "execute_result"
    }
   ],
   "source": [
    "cross_val_score(svc, X_rus, y_rus, cv=5)"
   ]
  },
  {
   "cell_type": "code",
   "execution_count": 166,
   "id": "military-parcel",
   "metadata": {},
   "outputs": [
    {
     "name": "stdout",
     "output_type": "stream",
     "text": [
      "              precision    recall  f1-score   support\n",
      "\n",
      "           0       0.99      0.86      0.92      7412\n",
      "           1       0.34      0.90      0.49       588\n",
      "\n",
      "    accuracy                           0.86      8000\n",
      "   macro avg       0.66      0.88      0.71      8000\n",
      "weighted avg       0.94      0.86      0.89      8000\n",
      "\n"
     ]
    }
   ],
   "source": [
    "#Xgbc - rus\n",
    "xgbc = XGBClassifier()\n",
    "xgbc.fit(X_rus, y_rus)\n",
    "print(classification_report(y_test, xgbc.predict(X_test)))"
   ]
  },
  {
   "cell_type": "code",
   "execution_count": 167,
   "id": "electoral-tribute",
   "metadata": {},
   "outputs": [
    {
     "data": {
      "text/plain": [
       "array([0.88852814, 0.86890574, 0.88840737, 0.86890574, 0.86132178])"
      ]
     },
     "execution_count": 167,
     "metadata": {},
     "output_type": "execute_result"
    }
   ],
   "source": [
    "cross_val_score(xgbc, X_rus, y_rus, cv=5)"
   ]
  },
  {
   "cell_type": "code",
   "execution_count": 169,
   "id": "ranging-pittsburgh",
   "metadata": {},
   "outputs": [
    {
     "name": "stdout",
     "output_type": "stream",
     "text": [
      "              precision    recall  f1-score   support\n",
      "\n",
      "           0       0.99      0.88      0.93      7412\n",
      "           1       0.37      0.89      0.53       588\n",
      "\n",
      "    accuracy                           0.88      8000\n",
      "   macro avg       0.68      0.89      0.73      8000\n",
      "weighted avg       0.95      0.88      0.90      8000\n",
      "\n"
     ]
    }
   ],
   "source": [
    "#lgbm - ros\n",
    "lgbm = LGBMClassifier()                                         # Create an instance of LGBMClassifier\n",
    "lgbm.fit(X_ros, y_ros)                                          # Fit model with SMOTE oversampled training data\n",
    "print(classification_report(y_test, lgbm.predict(X_test)))      # Generate classification report"
   ]
  },
  {
   "cell_type": "code",
   "execution_count": 170,
   "id": "collected-terrace",
   "metadata": {},
   "outputs": [
    {
     "data": {
      "text/plain": [
       "array([0.92826471, 0.92986444, 0.92876989, 0.9261598 , 0.92910071])"
      ]
     },
     "execution_count": 170,
     "metadata": {},
     "output_type": "execute_result"
    }
   ],
   "source": [
    "cross_val_score(lgbm, X_ros, y_ros, cv=5)"
   ]
  },
  {
   "cell_type": "code",
   "execution_count": 172,
   "id": "sharing-subcommittee",
   "metadata": {},
   "outputs": [
    {
     "name": "stdout",
     "output_type": "stream",
     "text": [
      "              precision    recall  f1-score   support\n",
      "\n",
      "           0       0.99      0.86      0.92      7412\n",
      "           1       0.33      0.89      0.48       588\n",
      "\n",
      "    accuracy                           0.86      8000\n",
      "   macro avg       0.66      0.87      0.70      8000\n",
      "weighted avg       0.94      0.86      0.89      8000\n",
      "\n"
     ]
    }
   ],
   "source": [
    "#RFC - rus\n",
    "rfc = RandomForestClassifier(n_jobs=2, random_state=rs)\n",
    "rfc.fit(X_rus, y_rus)\n",
    "print(classification_report(y_test, rfc.predict(X_test)))"
   ]
  },
  {
   "cell_type": "code",
   "execution_count": 173,
   "id": "tribal-judgment",
   "metadata": {},
   "outputs": [
    {
     "name": "stdout",
     "output_type": "stream",
     "text": [
      "              precision    recall  f1-score   support\n",
      "\n",
      "           0       0.99      0.86      0.92      7412\n",
      "           1       0.33      0.91      0.49       588\n",
      "\n",
      "    accuracy                           0.86      8000\n",
      "   macro avg       0.66      0.88      0.70      8000\n",
      "weighted avg       0.94      0.86      0.89      8000\n",
      "\n"
     ]
    }
   ],
   "source": [
    "#lgbm - rus\n",
    "lgbm = LGBMClassifier()                                         \n",
    "lgbm.fit(X_rus, y_rus)                                          \n",
    "print(classification_report(y_test, lgbm.predict(X_test)))    "
   ]
  },
  {
   "cell_type": "code",
   "execution_count": 174,
   "id": "smoking-centre",
   "metadata": {},
   "outputs": [
    {
     "data": {
      "text/plain": [
       "array([0.88852814, 0.88624052, 0.88299025, 0.86890574, 0.87323944])"
      ]
     },
     "execution_count": 174,
     "metadata": {},
     "output_type": "execute_result"
    }
   ],
   "source": [
    "cross_val_score(lgbm, X_rus, y_rus, cv=5)"
   ]
  },
  {
   "cell_type": "code",
   "execution_count": 177,
   "id": "respective-binding",
   "metadata": {},
   "outputs": [],
   "source": [
    "gridParams = {\n",
    "    'learning_rate': [0.02,0.04],\n",
    "    'n_estimators': [6,8,16],\n",
    "    'num_leaves': [16,18,20,22], # large num_leaves helps improve accuracy but might lead to over-fitting\n",
    "    'boosting_type' : ['gbdt', 'dart'], # for better accuracy -> try dart\n",
    "    'objective' : ['binary'],\n",
    "    'max_bin':[255, 510], # large max_bin helps improve accuracy but might slow down training progress\n",
    "    'random_state' : [500],\n",
    "    'colsample_bytree' : [0.62, 0.64, 0.65],\n",
    "    'subsample' : [0.65,0.7],\n",
    "    'reg_alpha' : [1.2,1.4],\n",
    "    'reg_lambda' : [0.6,0.8,1],\n",
    "    }\n"
   ]
  },
  {
   "cell_type": "code",
   "execution_count": 178,
   "id": "recognized-relaxation",
   "metadata": {},
   "outputs": [
    {
     "name": "stdout",
     "output_type": "stream",
     "text": [
      "Fitting 5 folds for each of 3456 candidates, totalling 17280 fits\n"
     ]
    },
    {
     "name": "stderr",
     "output_type": "stream",
     "text": [
      "[Parallel(n_jobs=-1)]: Using backend LokyBackend with 4 concurrent workers.\n",
      "[Parallel(n_jobs=-1)]: Done 112 tasks      | elapsed:    1.4s\n",
      "[Parallel(n_jobs=-1)]: Done 712 tasks      | elapsed:   10.4s\n",
      "[Parallel(n_jobs=-1)]: Done 1712 tasks      | elapsed:   30.5s\n",
      "[Parallel(n_jobs=-1)]: Done 3112 tasks      | elapsed:   57.5s\n",
      "[Parallel(n_jobs=-1)]: Done 4912 tasks      | elapsed:  1.5min\n",
      "[Parallel(n_jobs=-1)]: Done 7112 tasks      | elapsed:  2.3min\n",
      "[Parallel(n_jobs=-1)]: Done 9712 tasks      | elapsed:  3.2min\n",
      "[Parallel(n_jobs=-1)]: Done 12712 tasks      | elapsed:  4.2min\n",
      "[Parallel(n_jobs=-1)]: Done 16112 tasks      | elapsed:  5.4min\n",
      "[Parallel(n_jobs=-1)]: Done 17273 out of 17280 | elapsed:  5.8min remaining:    0.1s\n",
      "[Parallel(n_jobs=-1)]: Done 17280 out of 17280 | elapsed:  5.8min finished\n"
     ]
    },
    {
     "name": "stdout",
     "output_type": "stream",
     "text": [
      "{'boosting_type': 'gbdt', 'colsample_bytree': 0.64, 'learning_rate': 0.02, 'max_bin': 510, 'n_estimators': 8, 'num_leaves': 20, 'objective': 'binary', 'random_state': 500, 'reg_alpha': 1.2, 'reg_lambda': 0.8, 'subsample': 0.65}\n",
      "0.8778244170868901\n"
     ]
    }
   ],
   "source": [
    "grid = GridSearchCV(lgbm, gridParams, verbose=1, cv=5, n_jobs=-1, scoring='recall')\n",
    "# Run the grid\n",
    "grid.fit(X_rus, y_rus)\n",
    "\n",
    "# Print the best parameters found\n",
    "print(grid.best_params_)\n",
    "print(grid.best_score_)"
   ]
  },
  {
   "cell_type": "code",
   "execution_count": null,
   "id": "architectural-event",
   "metadata": {},
   "outputs": [],
   "source": [
    "#Based on the modeling so far, we see that LGBM model gives the highest recall for class 1 at 91%.\n"
   ]
  },
  {
   "cell_type": "code",
   "execution_count": 180,
   "id": "recent-newfoundland",
   "metadata": {},
   "outputs": [
    {
     "data": {
      "image/png": "[encoded data removed]",
      "text/plain": [
       "<Figure size 1080x1080 with 1 Axes>"
      ]
     },
     "metadata": {
      "needs_background": "light"
     },
     "output_type": "display_data"
    }
   ],
   "source": [
    "ax = lightgbm.plot_importance(lgbm, max_num_features=40, figsize=(15,15))\n",
    "plt.show()"
   ]
  },
  {
   "cell_type": "code",
   "execution_count": 189,
   "id": "acceptable-cooper",
   "metadata": {},
   "outputs": [
    {
     "data": {
      "text/plain": [
       "RFECV(cv=StratifiedKFold(n_splits=10, random_state=None, shuffle=False),\n",
       "      estimator=RandomForestClassifier(n_jobs=2, random_state=12),\n",
       "      scoring='recall')"
      ]
     },
     "execution_count": 189,
     "metadata": {},
     "output_type": "execute_result"
    }
   ],
   "source": [
    "rfecv = RFECV(estimator = rfc, step = 1, cv = StratifiedKFold(10), scoring = 'recall')  # Creating an instance of RFECV usin Random Forest as estimator\n",
    "rfecv.fit(X_rus,y_rus)                                                                                   # Fitting data into rfecv\n"
   ]
  },
  {
   "cell_type": "code",
   "execution_count": 190,
   "id": "dominican-report",
   "metadata": {},
   "outputs": [
    {
     "name": "stdout",
     "output_type": "stream",
     "text": [
      "Optimal number of features: 34\n"
     ]
    }
   ],
   "source": [
    "print('Optimal number of features: {}'.format(rfecv.n_features_))"
   ]
  },
  {
   "cell_type": "code",
   "execution_count": 191,
   "id": "tutorial-partnership",
   "metadata": {},
   "outputs": [
    {
     "data": {
      "text/plain": [
       "array([5.79848164e-02, 8.01564907e-02, 6.99932559e-02, 4.49852939e-01,\n",
       "       3.50786542e-02, 9.38882967e-03, 3.36327918e-03, 2.45690750e-03,\n",
       "       8.13269388e-03, 2.74591963e-03, 2.66872430e-03, 5.71167600e-03,\n",
       "       2.53291854e-03, 8.61133386e-03, 3.44343745e-03, 1.09958348e-03,\n",
       "       1.01174073e-02, 7.81289429e-03, 1.00350799e-02, 1.04694233e-02,\n",
       "       4.20302484e-03, 1.71597258e-03, 1.84725603e-02, 8.91175552e-03,\n",
       "       5.64751480e-03, 2.84580527e-02, 1.21359722e-02, 9.14184368e-05,\n",
       "       9.72286829e-03, 6.24713632e-03, 1.60656765e-02, 8.40384040e-03,\n",
       "       1.37086041e-02, 1.23783532e-02, 7.90604292e-03, 8.03395119e-03,\n",
       "       5.62409909e-02])"
      ]
     },
     "execution_count": 191,
     "metadata": {},
     "output_type": "execute_result"
    }
   ],
   "source": [
    "rfecv.estimator.feature_importances_"
   ]
  },
  {
   "cell_type": "code",
   "execution_count": 209,
   "id": "micro-brisbane",
   "metadata": {},
   "outputs": [
    {
     "data": {
      "image/png": "[encoded data removed]",
      "text/plain": [
       "<Figure size 864x432 with 1 Axes>"
      ]
     },
     "metadata": {
      "needs_background": "light"
     },
     "output_type": "display_data"
    }
   ],
   "source": [
    "sorted_idx = rfecv.estimator.feature_importances_.argsort()                          # Order features based on importance\n",
    "plt.barh(X.columns[sorted_idx], rfecv.estimator.feature_importances_[sorted_idx])   # Plot bar graph\n",
    "plt.title('Feature Importance')\n",
    "plt.ylabel('Features')\n",
    "plt.xlabel('Importance')\n",
    "plt.show()"
   ]
  },
  {
   "cell_type": "code",
   "execution_count": null,
   "id": "multiple-advantage",
   "metadata": {},
   "outputs": [],
   "source": [
    "#From the above feature importance, we see that duration and balance are most positively influential parameters"
   ]
  },
  {
   "cell_type": "code",
   "execution_count": 205,
   "id": "obvious-quebec",
   "metadata": {},
   "outputs": [
    {
     "data": {
      "text/plain": [
       "(40000, 40)"
      ]
     },
     "execution_count": 205,
     "metadata": {},
     "output_type": "execute_result"
    }
   ],
   "source": [
    "#PCA\n",
    "col_list = data_dc.drop(\"day_cut\", axis='columns')\n",
    "scaler = MinMaxScaler()\n",
    "data_rescaled = scaler.fit_transform(col_list)\n",
    "col_list.shape"
   ]
  },
  {
   "cell_type": "code",
   "execution_count": 207,
   "id": "fancy-steering",
   "metadata": {},
   "outputs": [
    {
     "data": {
      "image/png": "[encoded data removed]",
      "text/plain": [
       "<Figure size 864x432 with 1 Axes>"
      ]
     },
     "metadata": {
      "needs_background": "light"
     },
     "output_type": "display_data"
    }
   ],
   "source": [
    "pca = PCA().fit(data_rescaled)\n",
    "\n",
    "%matplotlib inline\n",
    "plt.rcParams[\"figure.figsize\"] = (12,6)\n",
    "\n",
    "fig, ax = plt.subplots()\n",
    "xi = np.arange(1, 41, step=1)\n",
    "y = np.cumsum(pca.explained_variance_ratio_)\n",
    "\n",
    "plt.ylim(0.0,1.1)\n",
    "plt.plot(xi, y, marker='o', linestyle='--', color='b')\n",
    "\n",
    "plt.xlabel('Number of Components')\n",
    "plt.ylabel('Cumulative variance (%)')\n",
    "plt.title('The number of components needed to explain variance')\n",
    "\n",
    "plt.axhline(y=0.95, color='r', linestyle='-')\n",
    "plt.text(0.5, 0.85, '95% cut-off threshold', color = 'red', fontsize=16)\n",
    "\n",
    "ax.grid(axis='x')\n",
    "plt.show()"
   ]
  },
  {
   "cell_type": "code",
   "execution_count": null,
   "id": "attended-pasta",
   "metadata": {},
   "outputs": [],
   "source": [
    "#In this case, to get 95% of variance explained I need 22 principal components."
   ]
  }
 ],
 "metadata": {
  "kernelspec": {
   "display_name": "Python 3",
   "language": "python",
   "name": "python3"
  },
  "language_info": {
   "codemirror_mode": {
    "name": "ipython",
    "version": 3
   },
   "file_extension": ".py",
   "mimetype": "text/x-python",
   "name": "python",
   "nbconvert_exporter": "python",
   "pygments_lexer": "ipython3",
   "version": "3.8.3"
  }
 },
 "nbformat": 4,
 "nbformat_minor": 5
}
