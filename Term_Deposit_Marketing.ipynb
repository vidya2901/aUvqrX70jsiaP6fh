{
 "cells": [
  {
   "cell_type": "code",
   "execution_count": 62,
   "id": "random-debut",
   "metadata": {},
   "outputs": [],
   "source": [
    "import pandas as pd\n",
    "import numpy as np\n",
    "import lazypredict\n",
    "import sklearn\n",
    "import xgboost\n",
    "import lightgbm\n",
    "import matplotlib.pyplot as plt\n",
    "from sklearn.svm import SVC\n",
    "from sklearn.model_selection import train_test_split, cross_val_score\n",
    "from imblearn.over_sampling import RandomOverSampler, SMOTE\n",
    "from imblearn.under_sampling import RandomUnderSampler\n",
    "from lazypredict.Supervised import LazyClassifier\n",
    "from sklearn.linear_model import LogisticRegression\n",
    "from sklearn.metrics import plot_confusion_matrix, classification_report, f1_score, roc_auc_score, roc_curve, accuracy_score, precision_score, recall_score \n",
    "from sklearn.neighbors import KNeighborsClassifier\n",
    "from xgboost import XGBClassifier\n",
    "from lightgbm.sklearn import LGBMClassifier\n",
    "from sklearn.ensemble import RandomForestClassifier\n"
   ]
  },
  {
   "cell_type": "code",
   "execution_count": 2,
   "id": "lasting-japanese",
   "metadata": {},
   "outputs": [],
   "source": [
    "data_url = (\"/Users/vidyakumar/Desktop/python/apziva/term-deposit-marketing-2020.csv\")"
   ]
  },
  {
   "cell_type": "code",
   "execution_count": 3,
   "id": "expensive-rebound",
   "metadata": {},
   "outputs": [
    {
     "data": {
      "text/html": [
       "<div>\n",
       "<style scoped>\n",
       "    .dataframe tbody tr th:only-of-type {\n",
       "        vertical-align: middle;\n",
       "    }\n",
       "\n",
       "    .dataframe tbody tr th {\n",
       "        vertical-align: top;\n",
       "    }\n",
       "\n",
       "    .dataframe thead th {\n",
       "        text-align: right;\n",
       "    }\n",
       "</style>\n",
       "<table border=\"1\" class=\"dataframe\">\n",
       "  <thead>\n",
       "    <tr style=\"text-align: right;\">\n",
       "      <th></th>\n",
       "      <th>age</th>\n",
       "      <th>job</th>\n",
       "      <th>marital</th>\n",
       "      <th>education</th>\n",
       "      <th>default</th>\n",
       "      <th>balance</th>\n",
       "      <th>housing</th>\n",
       "      <th>loan</th>\n",
       "      <th>contact</th>\n",
       "      <th>day</th>\n",
       "      <th>month</th>\n",
       "      <th>duration</th>\n",
       "      <th>campaign</th>\n",
       "      <th>y</th>\n",
       "    </tr>\n",
       "  </thead>\n",
       "  <tbody>\n",
       "    <tr>\n",
       "      <th>0</th>\n",
       "      <td>58</td>\n",
       "      <td>management</td>\n",
       "      <td>married</td>\n",
       "      <td>tertiary</td>\n",
       "      <td>no</td>\n",
       "      <td>2143</td>\n",
       "      <td>yes</td>\n",
       "      <td>no</td>\n",
       "      <td>unknown</td>\n",
       "      <td>5</td>\n",
       "      <td>may</td>\n",
       "      <td>261</td>\n",
       "      <td>1</td>\n",
       "      <td>no</td>\n",
       "    </tr>\n",
       "    <tr>\n",
       "      <th>1</th>\n",
       "      <td>44</td>\n",
       "      <td>technician</td>\n",
       "      <td>single</td>\n",
       "      <td>secondary</td>\n",
       "      <td>no</td>\n",
       "      <td>29</td>\n",
       "      <td>yes</td>\n",
       "      <td>no</td>\n",
       "      <td>unknown</td>\n",
       "      <td>5</td>\n",
       "      <td>may</td>\n",
       "      <td>151</td>\n",
       "      <td>1</td>\n",
       "      <td>no</td>\n",
       "    </tr>\n",
       "    <tr>\n",
       "      <th>2</th>\n",
       "      <td>33</td>\n",
       "      <td>entrepreneur</td>\n",
       "      <td>married</td>\n",
       "      <td>secondary</td>\n",
       "      <td>no</td>\n",
       "      <td>2</td>\n",
       "      <td>yes</td>\n",
       "      <td>yes</td>\n",
       "      <td>unknown</td>\n",
       "      <td>5</td>\n",
       "      <td>may</td>\n",
       "      <td>76</td>\n",
       "      <td>1</td>\n",
       "      <td>no</td>\n",
       "    </tr>\n",
       "    <tr>\n",
       "      <th>3</th>\n",
       "      <td>47</td>\n",
       "      <td>blue-collar</td>\n",
       "      <td>married</td>\n",
       "      <td>unknown</td>\n",
       "      <td>no</td>\n",
       "      <td>1506</td>\n",
       "      <td>yes</td>\n",
       "      <td>no</td>\n",
       "      <td>unknown</td>\n",
       "      <td>5</td>\n",
       "      <td>may</td>\n",
       "      <td>92</td>\n",
       "      <td>1</td>\n",
       "      <td>no</td>\n",
       "    </tr>\n",
       "    <tr>\n",
       "      <th>4</th>\n",
       "      <td>33</td>\n",
       "      <td>unknown</td>\n",
       "      <td>single</td>\n",
       "      <td>unknown</td>\n",
       "      <td>no</td>\n",
       "      <td>1</td>\n",
       "      <td>no</td>\n",
       "      <td>no</td>\n",
       "      <td>unknown</td>\n",
       "      <td>5</td>\n",
       "      <td>may</td>\n",
       "      <td>198</td>\n",
       "      <td>1</td>\n",
       "      <td>no</td>\n",
       "    </tr>\n",
       "  </tbody>\n",
       "</table>\n",
       "</div>"
      ],
      "text/plain": [
       "   age           job  marital  education default  balance housing loan  \\\n",
       "0   58    management  married   tertiary      no     2143     yes   no   \n",
       "1   44    technician   single  secondary      no       29     yes   no   \n",
       "2   33  entrepreneur  married  secondary      no        2     yes  yes   \n",
       "3   47   blue-collar  married    unknown      no     1506     yes   no   \n",
       "4   33       unknown   single    unknown      no        1      no   no   \n",
       "\n",
       "   contact  day month  duration  campaign   y  \n",
       "0  unknown    5   may       261         1  no  \n",
       "1  unknown    5   may       151         1  no  \n",
       "2  unknown    5   may        76         1  no  \n",
       "3  unknown    5   may        92         1  no  \n",
       "4  unknown    5   may       198         1  no  "
      ]
     },
     "execution_count": 3,
     "metadata": {},
     "output_type": "execute_result"
    }
   ],
   "source": [
    "def load_data():\n",
    "    data = pd.read_csv(data_url)\n",
    "    return data\n",
    "\n",
    "data = load_data()\n",
    "\n",
    "data.head()"
   ]
  },
  {
   "cell_type": "code",
   "execution_count": 4,
   "id": "phantom-eclipse",
   "metadata": {},
   "outputs": [
    {
     "name": "stdout",
     "output_type": "stream",
     "text": [
      "<class 'pandas.core.frame.DataFrame'>\n",
      "RangeIndex: 40000 entries, 0 to 39999\n",
      "Data columns (total 14 columns):\n",
      " #   Column     Non-Null Count  Dtype \n",
      "---  ------     --------------  ----- \n",
      " 0   age        40000 non-null  int64 \n",
      " 1   job        40000 non-null  object\n",
      " 2   marital    40000 non-null  object\n",
      " 3   education  40000 non-null  object\n",
      " 4   default    40000 non-null  object\n",
      " 5   balance    40000 non-null  int64 \n",
      " 6   housing    40000 non-null  object\n",
      " 7   loan       40000 non-null  object\n",
      " 8   contact    40000 non-null  object\n",
      " 9   day        40000 non-null  int64 \n",
      " 10  month      40000 non-null  object\n",
      " 11  duration   40000 non-null  int64 \n",
      " 12  campaign   40000 non-null  int64 \n",
      " 13  y          40000 non-null  object\n",
      "dtypes: int64(5), object(9)\n",
      "memory usage: 4.3+ MB\n"
     ]
    }
   ],
   "source": [
    "data.info()"
   ]
  },
  {
   "cell_type": "code",
   "execution_count": 5,
   "id": "protecting-surname",
   "metadata": {},
   "outputs": [
    {
     "data": {
      "text/html": [
       "<div>\n",
       "<style scoped>\n",
       "    .dataframe tbody tr th:only-of-type {\n",
       "        vertical-align: middle;\n",
       "    }\n",
       "\n",
       "    .dataframe tbody tr th {\n",
       "        vertical-align: top;\n",
       "    }\n",
       "\n",
       "    .dataframe thead th {\n",
       "        text-align: right;\n",
       "    }\n",
       "</style>\n",
       "<table border=\"1\" class=\"dataframe\">\n",
       "  <thead>\n",
       "    <tr style=\"text-align: right;\">\n",
       "      <th></th>\n",
       "      <th>job_admin</th>\n",
       "      <th>job_blue-collar</th>\n",
       "      <th>job_entrepreneur</th>\n",
       "      <th>job_housemaid</th>\n",
       "      <th>job_management</th>\n",
       "      <th>job_retired</th>\n",
       "      <th>job_self-employed</th>\n",
       "      <th>job_services</th>\n",
       "      <th>job_student</th>\n",
       "      <th>job_technician</th>\n",
       "      <th>job_unemployed</th>\n",
       "      <th>job_unknown</th>\n",
       "    </tr>\n",
       "  </thead>\n",
       "  <tbody>\n",
       "    <tr>\n",
       "      <th>0</th>\n",
       "      <td>0</td>\n",
       "      <td>0</td>\n",
       "      <td>0</td>\n",
       "      <td>0</td>\n",
       "      <td>1</td>\n",
       "      <td>0</td>\n",
       "      <td>0</td>\n",
       "      <td>0</td>\n",
       "      <td>0</td>\n",
       "      <td>0</td>\n",
       "      <td>0</td>\n",
       "      <td>0</td>\n",
       "    </tr>\n",
       "    <tr>\n",
       "      <th>1</th>\n",
       "      <td>0</td>\n",
       "      <td>0</td>\n",
       "      <td>0</td>\n",
       "      <td>0</td>\n",
       "      <td>0</td>\n",
       "      <td>0</td>\n",
       "      <td>0</td>\n",
       "      <td>0</td>\n",
       "      <td>0</td>\n",
       "      <td>1</td>\n",
       "      <td>0</td>\n",
       "      <td>0</td>\n",
       "    </tr>\n",
       "    <tr>\n",
       "      <th>2</th>\n",
       "      <td>0</td>\n",
       "      <td>0</td>\n",
       "      <td>1</td>\n",
       "      <td>0</td>\n",
       "      <td>0</td>\n",
       "      <td>0</td>\n",
       "      <td>0</td>\n",
       "      <td>0</td>\n",
       "      <td>0</td>\n",
       "      <td>0</td>\n",
       "      <td>0</td>\n",
       "      <td>0</td>\n",
       "    </tr>\n",
       "    <tr>\n",
       "      <th>3</th>\n",
       "      <td>0</td>\n",
       "      <td>1</td>\n",
       "      <td>0</td>\n",
       "      <td>0</td>\n",
       "      <td>0</td>\n",
       "      <td>0</td>\n",
       "      <td>0</td>\n",
       "      <td>0</td>\n",
       "      <td>0</td>\n",
       "      <td>0</td>\n",
       "      <td>0</td>\n",
       "      <td>0</td>\n",
       "    </tr>\n",
       "    <tr>\n",
       "      <th>4</th>\n",
       "      <td>0</td>\n",
       "      <td>0</td>\n",
       "      <td>0</td>\n",
       "      <td>0</td>\n",
       "      <td>0</td>\n",
       "      <td>0</td>\n",
       "      <td>0</td>\n",
       "      <td>0</td>\n",
       "      <td>0</td>\n",
       "      <td>0</td>\n",
       "      <td>0</td>\n",
       "      <td>1</td>\n",
       "    </tr>\n",
       "  </tbody>\n",
       "</table>\n",
       "</div>"
      ],
      "text/plain": [
       "   job_admin  job_blue-collar  job_entrepreneur  job_housemaid  \\\n",
       "0          0                0                 0              0   \n",
       "1          0                0                 0              0   \n",
       "2          0                0                 1              0   \n",
       "3          0                1                 0              0   \n",
       "4          0                0                 0              0   \n",
       "\n",
       "   job_management  job_retired  job_self-employed  job_services  job_student  \\\n",
       "0               1            0                  0             0            0   \n",
       "1               0            0                  0             0            0   \n",
       "2               0            0                  0             0            0   \n",
       "3               0            0                  0             0            0   \n",
       "4               0            0                  0             0            0   \n",
       "\n",
       "   job_technician  job_unemployed  job_unknown  \n",
       "0               0               0            0  \n",
       "1               1               0            0  \n",
       "2               0               0            0  \n",
       "3               0               0            0  \n",
       "4               0               0            1  "
      ]
     },
     "execution_count": 5,
     "metadata": {},
     "output_type": "execute_result"
    }
   ],
   "source": [
    "data_job1 = pd.get_dummies(data['job'], prefix = 'job', prefix_sep = '_')\n",
    "data_job1.head()"
   ]
  },
  {
   "cell_type": "code",
   "execution_count": 6,
   "id": "legal-dining",
   "metadata": {},
   "outputs": [
    {
     "data": {
      "text/html": [
       "<div>\n",
       "<style scoped>\n",
       "    .dataframe tbody tr th:only-of-type {\n",
       "        vertical-align: middle;\n",
       "    }\n",
       "\n",
       "    .dataframe tbody tr th {\n",
       "        vertical-align: top;\n",
       "    }\n",
       "\n",
       "    .dataframe thead th {\n",
       "        text-align: right;\n",
       "    }\n",
       "</style>\n",
       "<table border=\"1\" class=\"dataframe\">\n",
       "  <thead>\n",
       "    <tr style=\"text-align: right;\">\n",
       "      <th></th>\n",
       "      <th>job_blue-collar</th>\n",
       "      <th>job_entrepreneur</th>\n",
       "      <th>job_housemaid</th>\n",
       "      <th>job_management</th>\n",
       "      <th>job_retired</th>\n",
       "      <th>job_self-employed</th>\n",
       "      <th>job_services</th>\n",
       "      <th>job_student</th>\n",
       "      <th>job_technician</th>\n",
       "      <th>job_unemployed</th>\n",
       "      <th>job_unknown</th>\n",
       "    </tr>\n",
       "  </thead>\n",
       "  <tbody>\n",
       "    <tr>\n",
       "      <th>0</th>\n",
       "      <td>0</td>\n",
       "      <td>0</td>\n",
       "      <td>0</td>\n",
       "      <td>1</td>\n",
       "      <td>0</td>\n",
       "      <td>0</td>\n",
       "      <td>0</td>\n",
       "      <td>0</td>\n",
       "      <td>0</td>\n",
       "      <td>0</td>\n",
       "      <td>0</td>\n",
       "    </tr>\n",
       "    <tr>\n",
       "      <th>1</th>\n",
       "      <td>0</td>\n",
       "      <td>0</td>\n",
       "      <td>0</td>\n",
       "      <td>0</td>\n",
       "      <td>0</td>\n",
       "      <td>0</td>\n",
       "      <td>0</td>\n",
       "      <td>0</td>\n",
       "      <td>1</td>\n",
       "      <td>0</td>\n",
       "      <td>0</td>\n",
       "    </tr>\n",
       "    <tr>\n",
       "      <th>2</th>\n",
       "      <td>0</td>\n",
       "      <td>1</td>\n",
       "      <td>0</td>\n",
       "      <td>0</td>\n",
       "      <td>0</td>\n",
       "      <td>0</td>\n",
       "      <td>0</td>\n",
       "      <td>0</td>\n",
       "      <td>0</td>\n",
       "      <td>0</td>\n",
       "      <td>0</td>\n",
       "    </tr>\n",
       "    <tr>\n",
       "      <th>3</th>\n",
       "      <td>1</td>\n",
       "      <td>0</td>\n",
       "      <td>0</td>\n",
       "      <td>0</td>\n",
       "      <td>0</td>\n",
       "      <td>0</td>\n",
       "      <td>0</td>\n",
       "      <td>0</td>\n",
       "      <td>0</td>\n",
       "      <td>0</td>\n",
       "      <td>0</td>\n",
       "    </tr>\n",
       "    <tr>\n",
       "      <th>4</th>\n",
       "      <td>0</td>\n",
       "      <td>0</td>\n",
       "      <td>0</td>\n",
       "      <td>0</td>\n",
       "      <td>0</td>\n",
       "      <td>0</td>\n",
       "      <td>0</td>\n",
       "      <td>0</td>\n",
       "      <td>0</td>\n",
       "      <td>0</td>\n",
       "      <td>1</td>\n",
       "    </tr>\n",
       "  </tbody>\n",
       "</table>\n",
       "</div>"
      ],
      "text/plain": [
       "   job_blue-collar  job_entrepreneur  job_housemaid  job_management  \\\n",
       "0                0                 0              0               1   \n",
       "1                0                 0              0               0   \n",
       "2                0                 1              0               0   \n",
       "3                1                 0              0               0   \n",
       "4                0                 0              0               0   \n",
       "\n",
       "   job_retired  job_self-employed  job_services  job_student  job_technician  \\\n",
       "0            0                  0             0            0               0   \n",
       "1            0                  0             0            0               1   \n",
       "2            0                  0             0            0               0   \n",
       "3            0                  0             0            0               0   \n",
       "4            0                  0             0            0               0   \n",
       "\n",
       "   job_unemployed  job_unknown  \n",
       "0               0            0  \n",
       "1               0            0  \n",
       "2               0            0  \n",
       "3               0            0  \n",
       "4               0            1  "
      ]
     },
     "execution_count": 6,
     "metadata": {},
     "output_type": "execute_result"
    }
   ],
   "source": [
    "data_job2 = pd.get_dummies(data['job'], prefix = 'job', prefix_sep = '_', drop_first = True)\n",
    "data_job2.head()"
   ]
  },
  {
   "cell_type": "code",
   "execution_count": 7,
   "id": "regional-invasion",
   "metadata": {},
   "outputs": [],
   "source": [
    "data_job = pd.get_dummies(data['job'], prefix = 'job', prefix_sep = '_', drop_first = True)\n",
    "data_marital = pd.get_dummies(data['marital'], prefix = 'marital', prefix_sep = '_', drop_first = True)\n",
    "data_education = pd.get_dummies(data['education'], prefix = 'education', prefix_sep = '_', drop_first = True)\n",
    "data_default = pd.get_dummies(data['default'], prefix = 'default', prefix_sep = '_', drop_first = True)\n",
    "data_housing = pd.get_dummies(data['housing'], prefix = 'housing', prefix_sep = '_', drop_first = True)\n",
    "data_loan = pd.get_dummies(data['loan'], prefix = 'loan', prefix_sep = '_', drop_first = True)\n",
    "data_contact = pd.get_dummies(data['contact'], prefix = 'contact', prefix_sep = '_', drop_first = True)\n",
    "data_month = pd.get_dummies(data['month'], prefix = 'month', prefix_sep = '_', drop_first = True)\n",
    "data_y = pd.get_dummies(data['y'], prefix = 'y', prefix_sep = '_', drop_first = True)"
   ]
  },
  {
   "cell_type": "code",
   "execution_count": 8,
   "id": "mexican-marsh",
   "metadata": {},
   "outputs": [
    {
     "data": {
      "text/html": [
       "<div>\n",
       "<style scoped>\n",
       "    .dataframe tbody tr th:only-of-type {\n",
       "        vertical-align: middle;\n",
       "    }\n",
       "\n",
       "    .dataframe tbody tr th {\n",
       "        vertical-align: top;\n",
       "    }\n",
       "\n",
       "    .dataframe thead th {\n",
       "        text-align: right;\n",
       "    }\n",
       "</style>\n",
       "<table border=\"1\" class=\"dataframe\">\n",
       "  <thead>\n",
       "    <tr style=\"text-align: right;\">\n",
       "      <th></th>\n",
       "      <th>age</th>\n",
       "      <th>balance</th>\n",
       "      <th>day</th>\n",
       "      <th>duration</th>\n",
       "      <th>campaign</th>\n",
       "      <th>job_blue-collar</th>\n",
       "      <th>job_entrepreneur</th>\n",
       "      <th>job_housemaid</th>\n",
       "      <th>job_management</th>\n",
       "      <th>job_retired</th>\n",
       "      <th>...</th>\n",
       "      <th>month_dec</th>\n",
       "      <th>month_feb</th>\n",
       "      <th>month_jan</th>\n",
       "      <th>month_jul</th>\n",
       "      <th>month_jun</th>\n",
       "      <th>month_mar</th>\n",
       "      <th>month_may</th>\n",
       "      <th>month_nov</th>\n",
       "      <th>month_oct</th>\n",
       "      <th>y_yes</th>\n",
       "    </tr>\n",
       "  </thead>\n",
       "  <tbody>\n",
       "    <tr>\n",
       "      <th>0</th>\n",
       "      <td>58</td>\n",
       "      <td>2143</td>\n",
       "      <td>5</td>\n",
       "      <td>261</td>\n",
       "      <td>1</td>\n",
       "      <td>0</td>\n",
       "      <td>0</td>\n",
       "      <td>0</td>\n",
       "      <td>1</td>\n",
       "      <td>0</td>\n",
       "      <td>...</td>\n",
       "      <td>0</td>\n",
       "      <td>0</td>\n",
       "      <td>0</td>\n",
       "      <td>0</td>\n",
       "      <td>0</td>\n",
       "      <td>0</td>\n",
       "      <td>1</td>\n",
       "      <td>0</td>\n",
       "      <td>0</td>\n",
       "      <td>0</td>\n",
       "    </tr>\n",
       "    <tr>\n",
       "      <th>1</th>\n",
       "      <td>44</td>\n",
       "      <td>29</td>\n",
       "      <td>5</td>\n",
       "      <td>151</td>\n",
       "      <td>1</td>\n",
       "      <td>0</td>\n",
       "      <td>0</td>\n",
       "      <td>0</td>\n",
       "      <td>0</td>\n",
       "      <td>0</td>\n",
       "      <td>...</td>\n",
       "      <td>0</td>\n",
       "      <td>0</td>\n",
       "      <td>0</td>\n",
       "      <td>0</td>\n",
       "      <td>0</td>\n",
       "      <td>0</td>\n",
       "      <td>1</td>\n",
       "      <td>0</td>\n",
       "      <td>0</td>\n",
       "      <td>0</td>\n",
       "    </tr>\n",
       "    <tr>\n",
       "      <th>2</th>\n",
       "      <td>33</td>\n",
       "      <td>2</td>\n",
       "      <td>5</td>\n",
       "      <td>76</td>\n",
       "      <td>1</td>\n",
       "      <td>0</td>\n",
       "      <td>1</td>\n",
       "      <td>0</td>\n",
       "      <td>0</td>\n",
       "      <td>0</td>\n",
       "      <td>...</td>\n",
       "      <td>0</td>\n",
       "      <td>0</td>\n",
       "      <td>0</td>\n",
       "      <td>0</td>\n",
       "      <td>0</td>\n",
       "      <td>0</td>\n",
       "      <td>1</td>\n",
       "      <td>0</td>\n",
       "      <td>0</td>\n",
       "      <td>0</td>\n",
       "    </tr>\n",
       "    <tr>\n",
       "      <th>3</th>\n",
       "      <td>47</td>\n",
       "      <td>1506</td>\n",
       "      <td>5</td>\n",
       "      <td>92</td>\n",
       "      <td>1</td>\n",
       "      <td>1</td>\n",
       "      <td>0</td>\n",
       "      <td>0</td>\n",
       "      <td>0</td>\n",
       "      <td>0</td>\n",
       "      <td>...</td>\n",
       "      <td>0</td>\n",
       "      <td>0</td>\n",
       "      <td>0</td>\n",
       "      <td>0</td>\n",
       "      <td>0</td>\n",
       "      <td>0</td>\n",
       "      <td>1</td>\n",
       "      <td>0</td>\n",
       "      <td>0</td>\n",
       "      <td>0</td>\n",
       "    </tr>\n",
       "    <tr>\n",
       "      <th>4</th>\n",
       "      <td>33</td>\n",
       "      <td>1</td>\n",
       "      <td>5</td>\n",
       "      <td>198</td>\n",
       "      <td>1</td>\n",
       "      <td>0</td>\n",
       "      <td>0</td>\n",
       "      <td>0</td>\n",
       "      <td>0</td>\n",
       "      <td>0</td>\n",
       "      <td>...</td>\n",
       "      <td>0</td>\n",
       "      <td>0</td>\n",
       "      <td>0</td>\n",
       "      <td>0</td>\n",
       "      <td>0</td>\n",
       "      <td>0</td>\n",
       "      <td>1</td>\n",
       "      <td>0</td>\n",
       "      <td>0</td>\n",
       "      <td>0</td>\n",
       "    </tr>\n",
       "  </tbody>\n",
       "</table>\n",
       "<p>5 rows × 37 columns</p>\n",
       "</div>"
      ],
      "text/plain": [
       "   age  balance  day  duration  campaign  job_blue-collar  job_entrepreneur  \\\n",
       "0   58     2143    5       261         1                0                 0   \n",
       "1   44       29    5       151         1                0                 0   \n",
       "2   33        2    5        76         1                0                 1   \n",
       "3   47     1506    5        92         1                1                 0   \n",
       "4   33        1    5       198         1                0                 0   \n",
       "\n",
       "   job_housemaid  job_management  job_retired  ...  month_dec  month_feb  \\\n",
       "0              0               1            0  ...          0          0   \n",
       "1              0               0            0  ...          0          0   \n",
       "2              0               0            0  ...          0          0   \n",
       "3              0               0            0  ...          0          0   \n",
       "4              0               0            0  ...          0          0   \n",
       "\n",
       "   month_jan  month_jul  month_jun  month_mar  month_may  month_nov  \\\n",
       "0          0          0          0          0          1          0   \n",
       "1          0          0          0          0          1          0   \n",
       "2          0          0          0          0          1          0   \n",
       "3          0          0          0          0          1          0   \n",
       "4          0          0          0          0          1          0   \n",
       "\n",
       "   month_oct  y_yes  \n",
       "0          0      0  \n",
       "1          0      0  \n",
       "2          0      0  \n",
       "3          0      0  \n",
       "4          0      0  \n",
       "\n",
       "[5 rows x 37 columns]"
      ]
     },
     "execution_count": 8,
     "metadata": {},
     "output_type": "execute_result"
    }
   ],
   "source": [
    "# Concat original data frame and dummy columns\n",
    "data_dc = data.drop(columns = ['job', 'marital', 'education', 'default', 'housing', 'loan', 'contact', 'month', 'y'])\n",
    "data_dc = pd.concat([data_dc, data_job, data_marital, data_education, data_default, data_housing, data_loan, data_contact, data_month, data_y], axis = 1)\n",
    "data_dc.head()"
   ]
  },
  {
   "cell_type": "code",
   "execution_count": 9,
   "id": "competitive-bulletin",
   "metadata": {},
   "outputs": [
    {
     "name": "stdout",
     "output_type": "stream",
     "text": [
      "<class 'pandas.core.frame.DataFrame'>\n",
      "RangeIndex: 40000 entries, 0 to 39999\n",
      "Data columns (total 37 columns):\n",
      " #   Column               Non-Null Count  Dtype\n",
      "---  ------               --------------  -----\n",
      " 0   age                  40000 non-null  int64\n",
      " 1   balance              40000 non-null  int64\n",
      " 2   day                  40000 non-null  int64\n",
      " 3   duration             40000 non-null  int64\n",
      " 4   campaign             40000 non-null  int64\n",
      " 5   job_blue-collar      40000 non-null  uint8\n",
      " 6   job_entrepreneur     40000 non-null  uint8\n",
      " 7   job_housemaid        40000 non-null  uint8\n",
      " 8   job_management       40000 non-null  uint8\n",
      " 9   job_retired          40000 non-null  uint8\n",
      " 10  job_self-employed    40000 non-null  uint8\n",
      " 11  job_services         40000 non-null  uint8\n",
      " 12  job_student          40000 non-null  uint8\n",
      " 13  job_technician       40000 non-null  uint8\n",
      " 14  job_unemployed       40000 non-null  uint8\n",
      " 15  job_unknown          40000 non-null  uint8\n",
      " 16  marital_married      40000 non-null  uint8\n",
      " 17  marital_single       40000 non-null  uint8\n",
      " 18  education_secondary  40000 non-null  uint8\n",
      " 19  education_tertiary   40000 non-null  uint8\n",
      " 20  education_unknown    40000 non-null  uint8\n",
      " 21  default_yes          40000 non-null  uint8\n",
      " 22  housing_yes          40000 non-null  uint8\n",
      " 23  loan_yes             40000 non-null  uint8\n",
      " 24  contact_telephone    40000 non-null  uint8\n",
      " 25  contact_unknown      40000 non-null  uint8\n",
      " 26  month_aug            40000 non-null  uint8\n",
      " 27  month_dec            40000 non-null  uint8\n",
      " 28  month_feb            40000 non-null  uint8\n",
      " 29  month_jan            40000 non-null  uint8\n",
      " 30  month_jul            40000 non-null  uint8\n",
      " 31  month_jun            40000 non-null  uint8\n",
      " 32  month_mar            40000 non-null  uint8\n",
      " 33  month_may            40000 non-null  uint8\n",
      " 34  month_nov            40000 non-null  uint8\n",
      " 35  month_oct            40000 non-null  uint8\n",
      " 36  y_yes                40000 non-null  uint8\n",
      "dtypes: int64(5), uint8(32)\n",
      "memory usage: 2.7 MB\n"
     ]
    }
   ],
   "source": [
    "data_dc.info()"
   ]
  },
  {
   "cell_type": "code",
   "execution_count": 10,
   "id": "friendly-aquarium",
   "metadata": {},
   "outputs": [
    {
     "data": {
      "text/plain": [
       "0    37104\n",
       "1     2896\n",
       "Name: y_yes, dtype: int64"
      ]
     },
     "execution_count": 10,
     "metadata": {},
     "output_type": "execute_result"
    }
   ],
   "source": [
    "#checking if its balanced dataset -- imbalanced dataset\n",
    "data_dc['y_yes'].value_counts()"
   ]
  },
  {
   "cell_type": "code",
   "execution_count": 11,
   "id": "continuous-cambridge",
   "metadata": {},
   "outputs": [
    {
     "data": {
      "text/html": [
       "<div>\n",
       "<style scoped>\n",
       "    .dataframe tbody tr th:only-of-type {\n",
       "        vertical-align: middle;\n",
       "    }\n",
       "\n",
       "    .dataframe tbody tr th {\n",
       "        vertical-align: top;\n",
       "    }\n",
       "\n",
       "    .dataframe thead th {\n",
       "        text-align: right;\n",
       "    }\n",
       "</style>\n",
       "<table border=\"1\" class=\"dataframe\">\n",
       "  <thead>\n",
       "    <tr style=\"text-align: right;\">\n",
       "      <th></th>\n",
       "      <th>age</th>\n",
       "      <th>balance</th>\n",
       "      <th>day</th>\n",
       "      <th>duration</th>\n",
       "      <th>campaign</th>\n",
       "      <th>job_blue-collar</th>\n",
       "      <th>job_entrepreneur</th>\n",
       "      <th>job_housemaid</th>\n",
       "      <th>job_management</th>\n",
       "      <th>job_retired</th>\n",
       "      <th>...</th>\n",
       "      <th>month_dec</th>\n",
       "      <th>month_feb</th>\n",
       "      <th>month_jan</th>\n",
       "      <th>month_jul</th>\n",
       "      <th>month_jun</th>\n",
       "      <th>month_mar</th>\n",
       "      <th>month_may</th>\n",
       "      <th>month_nov</th>\n",
       "      <th>month_oct</th>\n",
       "      <th>y_yes</th>\n",
       "    </tr>\n",
       "  </thead>\n",
       "  <tbody>\n",
       "    <tr>\n",
       "      <th>count</th>\n",
       "      <td>40000.00</td>\n",
       "      <td>40000.00</td>\n",
       "      <td>40000.00</td>\n",
       "      <td>40000.00</td>\n",
       "      <td>40000.00</td>\n",
       "      <td>40000.00</td>\n",
       "      <td>40000.00</td>\n",
       "      <td>40000.00</td>\n",
       "      <td>40000.00</td>\n",
       "      <td>40000.00</td>\n",
       "      <td>...</td>\n",
       "      <td>40000.00</td>\n",
       "      <td>40000.00</td>\n",
       "      <td>40000.00</td>\n",
       "      <td>40000.00</td>\n",
       "      <td>40000.00</td>\n",
       "      <td>40000.00</td>\n",
       "      <td>40000.00</td>\n",
       "      <td>40000.00</td>\n",
       "      <td>40000.00</td>\n",
       "      <td>40000.00</td>\n",
       "    </tr>\n",
       "    <tr>\n",
       "      <th>mean</th>\n",
       "      <td>40.54</td>\n",
       "      <td>1274.28</td>\n",
       "      <td>16.02</td>\n",
       "      <td>254.82</td>\n",
       "      <td>2.88</td>\n",
       "      <td>0.23</td>\n",
       "      <td>0.04</td>\n",
       "      <td>0.03</td>\n",
       "      <td>0.20</td>\n",
       "      <td>0.04</td>\n",
       "      <td>...</td>\n",
       "      <td>0.00</td>\n",
       "      <td>0.06</td>\n",
       "      <td>0.03</td>\n",
       "      <td>0.16</td>\n",
       "      <td>0.12</td>\n",
       "      <td>0.01</td>\n",
       "      <td>0.34</td>\n",
       "      <td>0.09</td>\n",
       "      <td>0.00</td>\n",
       "      <td>0.07</td>\n",
       "    </tr>\n",
       "    <tr>\n",
       "      <th>std</th>\n",
       "      <td>9.64</td>\n",
       "      <td>2903.77</td>\n",
       "      <td>8.28</td>\n",
       "      <td>259.37</td>\n",
       "      <td>3.24</td>\n",
       "      <td>0.42</td>\n",
       "      <td>0.18</td>\n",
       "      <td>0.16</td>\n",
       "      <td>0.40</td>\n",
       "      <td>0.19</td>\n",
       "      <td>...</td>\n",
       "      <td>0.02</td>\n",
       "      <td>0.23</td>\n",
       "      <td>0.17</td>\n",
       "      <td>0.37</td>\n",
       "      <td>0.32</td>\n",
       "      <td>0.08</td>\n",
       "      <td>0.47</td>\n",
       "      <td>0.29</td>\n",
       "      <td>0.04</td>\n",
       "      <td>0.26</td>\n",
       "    </tr>\n",
       "    <tr>\n",
       "      <th>min</th>\n",
       "      <td>19.00</td>\n",
       "      <td>-8019.00</td>\n",
       "      <td>1.00</td>\n",
       "      <td>0.00</td>\n",
       "      <td>1.00</td>\n",
       "      <td>0.00</td>\n",
       "      <td>0.00</td>\n",
       "      <td>0.00</td>\n",
       "      <td>0.00</td>\n",
       "      <td>0.00</td>\n",
       "      <td>...</td>\n",
       "      <td>0.00</td>\n",
       "      <td>0.00</td>\n",
       "      <td>0.00</td>\n",
       "      <td>0.00</td>\n",
       "      <td>0.00</td>\n",
       "      <td>0.00</td>\n",
       "      <td>0.00</td>\n",
       "      <td>0.00</td>\n",
       "      <td>0.00</td>\n",
       "      <td>0.00</td>\n",
       "    </tr>\n",
       "    <tr>\n",
       "      <th>25%</th>\n",
       "      <td>33.00</td>\n",
       "      <td>54.00</td>\n",
       "      <td>8.00</td>\n",
       "      <td>100.00</td>\n",
       "      <td>1.00</td>\n",
       "      <td>0.00</td>\n",
       "      <td>0.00</td>\n",
       "      <td>0.00</td>\n",
       "      <td>0.00</td>\n",
       "      <td>0.00</td>\n",
       "      <td>...</td>\n",
       "      <td>0.00</td>\n",
       "      <td>0.00</td>\n",
       "      <td>0.00</td>\n",
       "      <td>0.00</td>\n",
       "      <td>0.00</td>\n",
       "      <td>0.00</td>\n",
       "      <td>0.00</td>\n",
       "      <td>0.00</td>\n",
       "      <td>0.00</td>\n",
       "      <td>0.00</td>\n",
       "    </tr>\n",
       "    <tr>\n",
       "      <th>50%</th>\n",
       "      <td>39.00</td>\n",
       "      <td>407.00</td>\n",
       "      <td>17.00</td>\n",
       "      <td>175.00</td>\n",
       "      <td>2.00</td>\n",
       "      <td>0.00</td>\n",
       "      <td>0.00</td>\n",
       "      <td>0.00</td>\n",
       "      <td>0.00</td>\n",
       "      <td>0.00</td>\n",
       "      <td>...</td>\n",
       "      <td>0.00</td>\n",
       "      <td>0.00</td>\n",
       "      <td>0.00</td>\n",
       "      <td>0.00</td>\n",
       "      <td>0.00</td>\n",
       "      <td>0.00</td>\n",
       "      <td>0.00</td>\n",
       "      <td>0.00</td>\n",
       "      <td>0.00</td>\n",
       "      <td>0.00</td>\n",
       "    </tr>\n",
       "    <tr>\n",
       "      <th>75%</th>\n",
       "      <td>48.00</td>\n",
       "      <td>1319.00</td>\n",
       "      <td>21.00</td>\n",
       "      <td>313.00</td>\n",
       "      <td>3.00</td>\n",
       "      <td>0.00</td>\n",
       "      <td>0.00</td>\n",
       "      <td>0.00</td>\n",
       "      <td>0.00</td>\n",
       "      <td>0.00</td>\n",
       "      <td>...</td>\n",
       "      <td>0.00</td>\n",
       "      <td>0.00</td>\n",
       "      <td>0.00</td>\n",
       "      <td>0.00</td>\n",
       "      <td>0.00</td>\n",
       "      <td>0.00</td>\n",
       "      <td>1.00</td>\n",
       "      <td>0.00</td>\n",
       "      <td>0.00</td>\n",
       "      <td>0.00</td>\n",
       "    </tr>\n",
       "    <tr>\n",
       "      <th>max</th>\n",
       "      <td>95.00</td>\n",
       "      <td>102127.00</td>\n",
       "      <td>31.00</td>\n",
       "      <td>4918.00</td>\n",
       "      <td>63.00</td>\n",
       "      <td>1.00</td>\n",
       "      <td>1.00</td>\n",
       "      <td>1.00</td>\n",
       "      <td>1.00</td>\n",
       "      <td>1.00</td>\n",
       "      <td>...</td>\n",
       "      <td>1.00</td>\n",
       "      <td>1.00</td>\n",
       "      <td>1.00</td>\n",
       "      <td>1.00</td>\n",
       "      <td>1.00</td>\n",
       "      <td>1.00</td>\n",
       "      <td>1.00</td>\n",
       "      <td>1.00</td>\n",
       "      <td>1.00</td>\n",
       "      <td>1.00</td>\n",
       "    </tr>\n",
       "  </tbody>\n",
       "</table>\n",
       "<p>8 rows × 37 columns</p>\n",
       "</div>"
      ],
      "text/plain": [
       "           age   balance      day  duration  campaign  job_blue-collar  \\\n",
       "count 40000.00  40000.00 40000.00  40000.00  40000.00         40000.00   \n",
       "mean     40.54   1274.28    16.02    254.82      2.88             0.23   \n",
       "std       9.64   2903.77     8.28    259.37      3.24             0.42   \n",
       "min      19.00  -8019.00     1.00      0.00      1.00             0.00   \n",
       "25%      33.00     54.00     8.00    100.00      1.00             0.00   \n",
       "50%      39.00    407.00    17.00    175.00      2.00             0.00   \n",
       "75%      48.00   1319.00    21.00    313.00      3.00             0.00   \n",
       "max      95.00 102127.00    31.00   4918.00     63.00             1.00   \n",
       "\n",
       "       job_entrepreneur  job_housemaid  job_management  job_retired  ...  \\\n",
       "count          40000.00       40000.00        40000.00     40000.00  ...   \n",
       "mean               0.04           0.03            0.20         0.04  ...   \n",
       "std                0.18           0.16            0.40         0.19  ...   \n",
       "min                0.00           0.00            0.00         0.00  ...   \n",
       "25%                0.00           0.00            0.00         0.00  ...   \n",
       "50%                0.00           0.00            0.00         0.00  ...   \n",
       "75%                0.00           0.00            0.00         0.00  ...   \n",
       "max                1.00           1.00            1.00         1.00  ...   \n",
       "\n",
       "       month_dec  month_feb  month_jan  month_jul  month_jun  month_mar  \\\n",
       "count   40000.00   40000.00   40000.00   40000.00   40000.00   40000.00   \n",
       "mean        0.00       0.06       0.03       0.16       0.12       0.01   \n",
       "std         0.02       0.23       0.17       0.37       0.32       0.08   \n",
       "min         0.00       0.00       0.00       0.00       0.00       0.00   \n",
       "25%         0.00       0.00       0.00       0.00       0.00       0.00   \n",
       "50%         0.00       0.00       0.00       0.00       0.00       0.00   \n",
       "75%         0.00       0.00       0.00       0.00       0.00       0.00   \n",
       "max         1.00       1.00       1.00       1.00       1.00       1.00   \n",
       "\n",
       "       month_may  month_nov  month_oct    y_yes  \n",
       "count   40000.00   40000.00   40000.00 40000.00  \n",
       "mean        0.34       0.09       0.00     0.07  \n",
       "std         0.47       0.29       0.04     0.26  \n",
       "min         0.00       0.00       0.00     0.00  \n",
       "25%         0.00       0.00       0.00     0.00  \n",
       "50%         0.00       0.00       0.00     0.00  \n",
       "75%         1.00       0.00       0.00     0.00  \n",
       "max         1.00       1.00       1.00     1.00  \n",
       "\n",
       "[8 rows x 37 columns]"
      ]
     },
     "execution_count": 11,
     "metadata": {},
     "output_type": "execute_result"
    }
   ],
   "source": [
    "data_dc.describe()"
   ]
  },
  {
   "cell_type": "code",
   "execution_count": 12,
   "id": "owned-breathing",
   "metadata": {},
   "outputs": [],
   "source": [
    "X = data_dc.drop(columns = ['y_yes'])\n",
    "y = data_dc['y_yes']"
   ]
  },
  {
   "cell_type": "code",
   "execution_count": 13,
   "id": "postal-hometown",
   "metadata": {},
   "outputs": [
    {
     "name": "stdout",
     "output_type": "stream",
     "text": [
      "(32000, 36)\n",
      "(8000, 36)\n"
     ]
    }
   ],
   "source": [
    "rs=12\n",
    "X_train, X_test, y_train, y_test = train_test_split(X, y, test_size = 0.2, random_state = rs)\n",
    "print(X_train.shape)           \n",
    "print(X_test.shape)"
   ]
  },
  {
   "cell_type": "code",
   "execution_count": 14,
   "id": "surprised-engineering",
   "metadata": {},
   "outputs": [],
   "source": [
    "#random oversampling\n",
    "ros = RandomOverSampler(random_state = rs)     \n",
    "X_ros, y_ros = ros.fit_resample(X_train, y_train) "
   ]
  },
  {
   "cell_type": "code",
   "execution_count": 15,
   "id": "smart-wells",
   "metadata": {},
   "outputs": [
    {
     "data": {
      "text/plain": [
       "1    29692\n",
       "0    29692\n",
       "Name: y_yes, dtype: int64"
      ]
     },
     "execution_count": 15,
     "metadata": {},
     "output_type": "execute_result"
    }
   ],
   "source": [
    "pd.value_counts(y_ros) "
   ]
  },
  {
   "cell_type": "code",
   "execution_count": 16,
   "id": "expected-neighborhood",
   "metadata": {},
   "outputs": [
    {
     "data": {
      "text/plain": [
       "[('AdaBoostClassifier', sklearn.ensemble._weight_boosting.AdaBoostClassifier),\n",
       " ('BaggingClassifier', sklearn.ensemble._bagging.BaggingClassifier),\n",
       " ('BernoulliNB', sklearn.naive_bayes.BernoulliNB),\n",
       " ('CalibratedClassifierCV', sklearn.calibration.CalibratedClassifierCV),\n",
       " ('CategoricalNB', sklearn.naive_bayes.CategoricalNB),\n",
       " ('DecisionTreeClassifier', sklearn.tree._classes.DecisionTreeClassifier),\n",
       " ('DummyClassifier', sklearn.dummy.DummyClassifier),\n",
       " ('ExtraTreeClassifier', sklearn.tree._classes.ExtraTreeClassifier),\n",
       " ('ExtraTreesClassifier', sklearn.ensemble._forest.ExtraTreesClassifier),\n",
       " ('GaussianNB', sklearn.naive_bayes.GaussianNB),\n",
       " ('KNeighborsClassifier',\n",
       "  sklearn.neighbors._classification.KNeighborsClassifier),\n",
       " ('LabelPropagation',\n",
       "  sklearn.semi_supervised._label_propagation.LabelPropagation),\n",
       " ('LabelSpreading', sklearn.semi_supervised._label_propagation.LabelSpreading),\n",
       " ('LinearDiscriminantAnalysis',\n",
       "  sklearn.discriminant_analysis.LinearDiscriminantAnalysis),\n",
       " ('LinearSVC', sklearn.svm._classes.LinearSVC),\n",
       " ('LogisticRegression', sklearn.linear_model._logistic.LogisticRegression),\n",
       " ('NearestCentroid', sklearn.neighbors._nearest_centroid.NearestCentroid),\n",
       " ('NuSVC', sklearn.svm._classes.NuSVC),\n",
       " ('PassiveAggressiveClassifier',\n",
       "  sklearn.linear_model._passive_aggressive.PassiveAggressiveClassifier),\n",
       " ('Perceptron', sklearn.linear_model._perceptron.Perceptron),\n",
       " ('QuadraticDiscriminantAnalysis',\n",
       "  sklearn.discriminant_analysis.QuadraticDiscriminantAnalysis),\n",
       " ('RandomForestClassifier', sklearn.ensemble._forest.RandomForestClassifier),\n",
       " ('RidgeClassifier', sklearn.linear_model._ridge.RidgeClassifier),\n",
       " ('RidgeClassifierCV', sklearn.linear_model._ridge.RidgeClassifierCV),\n",
       " ('SGDClassifier', sklearn.linear_model._stochastic_gradient.SGDClassifier),\n",
       " ('SVC', sklearn.svm._classes.SVC),\n",
       " ('StackingClassifier', sklearn.ensemble._stacking.StackingClassifier),\n",
       " ('XGBClassifier', xgboost.sklearn.XGBClassifier),\n",
       " ('LGBMClassifier', lightgbm.sklearn.LGBMClassifier)]"
      ]
     },
     "execution_count": 16,
     "metadata": {},
     "output_type": "execute_result"
    }
   ],
   "source": [
    "lazypredict.Supervised.CLASSIFIERS"
   ]
  },
  {
   "cell_type": "code",
   "execution_count": 17,
   "id": "studied-windsor",
   "metadata": {},
   "outputs": [
    {
     "name": "stdout",
     "output_type": "stream",
     "text": [
      "              precision    recall  f1-score   support\n",
      "\n",
      "           0       0.98      0.84      0.91      7412\n",
      "           1       0.28      0.77      0.41       588\n",
      "\n",
      "    accuracy                           0.84      8000\n",
      "   macro avg       0.63      0.81      0.66      8000\n",
      "weighted avg       0.93      0.84      0.87      8000\n",
      "\n"
     ]
    }
   ],
   "source": [
    "#logistic regression - ros\n",
    "logisticRegr = LogisticRegression()\n",
    "lr = logisticRegr.fit(X_ros, y_ros)\n",
    "y_pred=logisticRegr.predict(X_test)\n",
    "print(classification_report(y_test, y_pred))"
   ]
  },
  {
   "cell_type": "code",
   "execution_count": 18,
   "id": "outstanding-inventory",
   "metadata": {},
   "outputs": [
    {
     "name": "stdout",
     "output_type": "stream",
     "text": [
      "[[0.54566977 0.45433023]\n",
      " [0.00892116 0.99107884]\n",
      " [0.59851574 0.40148426]\n",
      " ...\n",
      " [0.7094422  0.2905578 ]\n",
      " [0.92941081 0.07058919]\n",
      " [0.90680469 0.09319531]]\n"
     ]
    }
   ],
   "source": [
    "# predict probabilities \n",
    "y_prob=logisticRegr.predict_proba(X_test)\n",
    "print(y_prob)"
   ]
  },
  {
   "cell_type": "code",
   "execution_count": 19,
   "id": "sought-passport",
   "metadata": {},
   "outputs": [],
   "source": [
    "# keep probabilities for the positive outcome only\n",
    "probs = y_prob[:, 1]"
   ]
  },
  {
   "cell_type": "code",
   "execution_count": 20,
   "id": "accredited-switch",
   "metadata": {},
   "outputs": [
    {
     "name": "stdout",
     "output_type": "stream",
     "text": [
      "0.897294009346858\n"
     ]
    }
   ],
   "source": [
    "# calculate roc auc\n",
    "auc = roc_auc_score(y_test, probs)\n",
    "print(auc)"
   ]
  },
  {
   "cell_type": "code",
   "execution_count": 21,
   "id": "related-money",
   "metadata": {},
   "outputs": [
    {
     "data": {
      "image/png": "[encoded data removed]",
      "text/plain": [
       "<Figure size 432x288 with 1 Axes>"
      ]
     },
     "metadata": {
      "needs_background": "light"
     },
     "output_type": "display_data"
    }
   ],
   "source": [
    "# calculate roc curve\n",
    "fpr, tpr, thresholds = roc_curve(y_test, probs)\n",
    "# plot no skill\n",
    "plt.plot([0, 1], [0, 1], linestyle='--')\n",
    "# plot the roc curve for the model\n",
    "plt.plot(fpr,tpr,label=\"AUC=\"+str(auc))\n",
    "plt.ylabel('True Positive Rate')\n",
    "plt.xlabel('False Positive Rate')\n",
    "plt.legend(loc=4)\n",
    "# show the plot\n",
    "plt.show()"
   ]
  },
  {
   "cell_type": "code",
   "execution_count": 22,
   "id": "published-identifier",
   "metadata": {},
   "outputs": [
    {
     "data": {
      "text/plain": [
       "array([0.83792203, 0.83834302, 0.82445062, 0.82099857, 0.82502526])"
      ]
     },
     "execution_count": 22,
     "metadata": {},
     "output_type": "execute_result"
    }
   ],
   "source": [
    "cross_val_score(logisticRegr, X_ros, y_ros, cv=5)"
   ]
  },
  {
   "cell_type": "code",
   "execution_count": 23,
   "id": "mechanical-engineer",
   "metadata": {},
   "outputs": [],
   "source": [
    "#smote balancing\n",
    "smo = SMOTE(random_state = rs)                      # Create an instance of SMOTE\n",
    "X_smo, y_smo = smo.fit_resample(X_train, y_train)           # Resample the training data"
   ]
  },
  {
   "cell_type": "code",
   "execution_count": 24,
   "id": "authorized-sponsorship",
   "metadata": {},
   "outputs": [
    {
     "data": {
      "text/plain": [
       "1    29692\n",
       "0    29692\n",
       "Name: y_yes, dtype: int64"
      ]
     },
     "execution_count": 24,
     "metadata": {},
     "output_type": "execute_result"
    }
   ],
   "source": [
    "pd.value_counts(y_smo)                                      # Get counts after class balancing"
   ]
  },
  {
   "cell_type": "code",
   "execution_count": 25,
   "id": "bored-boating",
   "metadata": {},
   "outputs": [
    {
     "name": "stdout",
     "output_type": "stream",
     "text": [
      "              precision    recall  f1-score   support\n",
      "\n",
      "           0       0.96      0.91      0.94      7412\n",
      "           1       0.35      0.57      0.43       588\n",
      "\n",
      "    accuracy                           0.89      8000\n",
      "   macro avg       0.65      0.74      0.68      8000\n",
      "weighted avg       0.92      0.89      0.90      8000\n",
      "\n"
     ]
    }
   ],
   "source": [
    "#logistic regression - smote\n",
    "logisticRegr = LogisticRegression()\n",
    "lr_smo = logisticRegr.fit(X_smo, y_smo)\n",
    "y_pred_smo=logisticRegr.predict(X_test)\n",
    "print(classification_report(y_test, y_pred_smo))"
   ]
  },
  {
   "cell_type": "code",
   "execution_count": 26,
   "id": "timely-remainder",
   "metadata": {},
   "outputs": [
    {
     "name": "stdout",
     "output_type": "stream",
     "text": [
      "[[8.93567859e-01 1.06432141e-01]\n",
      " [1.85878917e-03 9.98141211e-01]\n",
      " [9.03991110e-01 9.60088897e-02]\n",
      " ...\n",
      " [5.28130724e-01 4.71869276e-01]\n",
      " [9.99208745e-01 7.91254909e-04]\n",
      " [9.53902105e-01 4.60978949e-02]]\n"
     ]
    }
   ],
   "source": [
    "# predict probabilities \n",
    "y_prob_smo=logisticRegr.predict_proba(X_test)\n",
    "print(y_prob_smo)"
   ]
  },
  {
   "cell_type": "code",
   "execution_count": 27,
   "id": "closing-vector",
   "metadata": {},
   "outputs": [],
   "source": [
    "# keep probabilities for the positive outcome only\n",
    "probs = y_prob_smo[:, 1]"
   ]
  },
  {
   "cell_type": "code",
   "execution_count": 28,
   "id": "narrow-barrier",
   "metadata": {},
   "outputs": [
    {
     "name": "stdout",
     "output_type": "stream",
     "text": [
      "0.8685226384131635\n"
     ]
    }
   ],
   "source": [
    "# calculate roc auc\n",
    "auc = roc_auc_score(y_test, probs)\n",
    "print(auc)"
   ]
  },
  {
   "cell_type": "code",
   "execution_count": 29,
   "id": "complete-czech",
   "metadata": {},
   "outputs": [
    {
     "data": {
      "image/png": "[encoded data removed]",
      "text/plain": [
       "<Figure size 432x288 with 1 Axes>"
      ]
     },
     "metadata": {
      "needs_background": "light"
     },
     "output_type": "display_data"
    }
   ],
   "source": [
    "# calculate roc curve\n",
    "fpr, tpr, thresholds = roc_curve(y_test, probs)\n",
    "# plot no skill\n",
    "plt.plot([0, 1], [0, 1], linestyle='--')\n",
    "# plot the roc curve for the model\n",
    "plt.plot(fpr,tpr,label=\"AUC=\"+str(auc))\n",
    "plt.ylabel('True Positive Rate')\n",
    "plt.xlabel('False Positive Rate')\n",
    "plt.legend(loc=4)\n",
    "# show the plot\n",
    "plt.show()"
   ]
  },
  {
   "cell_type": "code",
   "execution_count": 30,
   "id": "creative-brunei",
   "metadata": {},
   "outputs": [
    {
     "data": {
      "text/plain": [
       "array([0.84651006, 0.91731919, 0.91336196, 0.91740338, 0.91478612])"
      ]
     },
     "execution_count": 30,
     "metadata": {},
     "output_type": "execute_result"
    }
   ],
   "source": [
    "cross_val_score(logisticRegr, X_smo, y_smo, cv=5) "
   ]
  },
  {
   "cell_type": "code",
   "execution_count": 31,
   "id": "logical-cream",
   "metadata": {},
   "outputs": [],
   "source": [
    "#random undersampling\n",
    "rus = RandomUnderSampler(random_state = rs)               # Create an instance of RandomUnderSampler\n",
    "X_rus, y_rus = rus.fit_resample(X_train, y_train)                 # Resample training data"
   ]
  },
  {
   "cell_type": "code",
   "execution_count": 32,
   "id": "reverse-english",
   "metadata": {},
   "outputs": [
    {
     "data": {
      "text/plain": [
       "1    2308\n",
       "0    2308\n",
       "Name: y_yes, dtype: int64"
      ]
     },
     "execution_count": 32,
     "metadata": {},
     "output_type": "execute_result"
    }
   ],
   "source": [
    "pd.value_counts(y_rus)"
   ]
  },
  {
   "cell_type": "code",
   "execution_count": 33,
   "id": "valued-montreal",
   "metadata": {},
   "outputs": [
    {
     "name": "stdout",
     "output_type": "stream",
     "text": [
      "              precision    recall  f1-score   support\n",
      "\n",
      "           0       0.98      0.85      0.91      7412\n",
      "           1       0.31      0.82      0.45       588\n",
      "\n",
      "    accuracy                           0.85      8000\n",
      "   macro avg       0.65      0.84      0.68      8000\n",
      "weighted avg       0.93      0.85      0.88      8000\n",
      "\n"
     ]
    }
   ],
   "source": [
    "#logistic regression - rus\n",
    "logisticRegr = LogisticRegression()\n",
    "lr_rus = logisticRegr.fit(X_rus, y_rus)\n",
    "y_pred_rus=logisticRegr.predict(X_test)\n",
    "print(classification_report(y_test, y_pred_rus))"
   ]
  },
  {
   "cell_type": "code",
   "execution_count": 34,
   "id": "strange-regular",
   "metadata": {},
   "outputs": [],
   "source": [
    "# predict probabilities \n",
    "y_prob_rus=logisticRegr.predict_proba(X_test)\n",
    "probs = y_prob_rus[:, 1]"
   ]
  },
  {
   "cell_type": "code",
   "execution_count": 35,
   "id": "capital-november",
   "metadata": {},
   "outputs": [
    {
     "name": "stdout",
     "output_type": "stream",
     "text": [
      "0.9144455947516621\n"
     ]
    }
   ],
   "source": [
    "auc = roc_auc_score(y_test, probs)\n",
    "print(auc)"
   ]
  },
  {
   "cell_type": "code",
   "execution_count": 36,
   "id": "capable-recall",
   "metadata": {},
   "outputs": [
    {
     "data": {
      "image/png": "[encoded data removed]",
      "text/plain": [
       "<Figure size 432x288 with 1 Axes>"
      ]
     },
     "metadata": {
      "needs_background": "light"
     },
     "output_type": "display_data"
    }
   ],
   "source": [
    "# calculate roc curve\n",
    "fpr, tpr, thresholds = roc_curve(y_test, probs)\n",
    "# plot no skill\n",
    "plt.plot([0, 1], [0, 1], linestyle='--')\n",
    "# plot the roc curve for the model\n",
    "plt.plot(fpr,tpr,label=\"AUC=\"+str(auc))\n",
    "plt.ylabel('True Positive Rate')\n",
    "plt.xlabel('False Positive Rate')\n",
    "plt.legend(loc=4)\n",
    "# show the plot\n",
    "plt.show()"
   ]
  },
  {
   "cell_type": "code",
   "execution_count": 37,
   "id": "multiple-equity",
   "metadata": {},
   "outputs": [
    {
     "data": {
      "text/plain": [
       "array([0.81060606, 0.83098592, 0.82881907, 0.81690141, 0.80173348])"
      ]
     },
     "execution_count": 37,
     "metadata": {},
     "output_type": "execute_result"
    }
   ],
   "source": [
    "cross_val_score(logisticRegr, X_rus, y_rus, cv=5) "
   ]
  },
  {
   "cell_type": "code",
   "execution_count": 38,
   "id": "compressed-standing",
   "metadata": {},
   "outputs": [],
   "source": [
    "#Given that F1 score and CV values are the best for SMOTE balancing, we would further build models using Smote values"
   ]
  },
  {
   "cell_type": "code",
   "execution_count": 39,
   "id": "alternate-acoustic",
   "metadata": {},
   "outputs": [],
   "source": [
    "#knn classifier - smote\n",
    "k_range = range(1,50)                                \n",
    "scores = {}                                          \n",
    "score_list = []                                     \n",
    "for k in k_range:                                    \n",
    "    knn = KNeighborsClassifier(n_neighbors = k)     \n",
    "    knn.fit(X_smo, y_smo)                        \n",
    "    y_pred_knn = knn.predict(X_test)                 \n",
    "    scores[k] = f1_score(y_test, y_pred_knn)         \n",
    "    score_list.append(f1_score(y_test, y_pred_knn))  \n"
   ]
  },
  {
   "cell_type": "code",
   "execution_count": 40,
   "id": "driven-focus",
   "metadata": {},
   "outputs": [
    {
     "data": {
      "image/png": "[encoded data removed]",
      "text/plain": [
       "<Figure size 432x288 with 1 Axes>"
      ]
     },
     "metadata": {
      "needs_background": "light"
     },
     "output_type": "display_data"
    }
   ],
   "source": [
    "#identifying k value for best accuracy\n",
    "%matplotlib inline\n",
    "import matplotlib.pyplot as plt\n",
    "plt.plot(k_range, score_list)                   \n",
    "plt.xlabel('k value')\n",
    "plt.ylabel('Accuracy')\n",
    "plt.title('KNN - Accuracy vs k value')\n",
    "plt.show()"
   ]
  },
  {
   "cell_type": "code",
   "execution_count": 41,
   "id": "drawn-possession",
   "metadata": {},
   "outputs": [
    {
     "name": "stdout",
     "output_type": "stream",
     "text": [
      "0.35399673735725934\n",
      "42\n"
     ]
    }
   ],
   "source": [
    "print(max(score_list))\n",
    "print(max(scores, key=scores.get))"
   ]
  },
  {
   "cell_type": "code",
   "execution_count": 42,
   "id": "excited-meeting",
   "metadata": {},
   "outputs": [
    {
     "name": "stdout",
     "output_type": "stream",
     "text": [
      "              precision    recall  f1-score   support\n",
      "\n",
      "           0       0.97      0.81      0.88      7412\n",
      "           1       0.23      0.74      0.35       588\n",
      "\n",
      "    accuracy                           0.80      8000\n",
      "   macro avg       0.60      0.77      0.62      8000\n",
      "weighted avg       0.92      0.80      0.84      8000\n",
      "\n"
     ]
    }
   ],
   "source": [
    "#building the final knn model with k=10\n",
    "knnc = KNeighborsClassifier(n_neighbors = 42)     \n",
    "knf = knnc.fit(X_smo, y_smo)                        \n",
    "y_pred_knn = knnc.predict(X_test) \n",
    "print(classification_report(y_test, y_pred_knn))"
   ]
  },
  {
   "cell_type": "code",
   "execution_count": 45,
   "id": "impressive-albany",
   "metadata": {},
   "outputs": [
    {
     "name": "stdout",
     "output_type": "stream",
     "text": [
      "              precision    recall  f1-score   support\n",
      "\n",
      "           0       0.98      0.85      0.91      7412\n",
      "           1       0.27      0.73      0.40       588\n",
      "\n",
      "    accuracy                           0.84      8000\n",
      "   macro avg       0.62      0.79      0.65      8000\n",
      "weighted avg       0.92      0.84      0.87      8000\n",
      "\n"
     ]
    }
   ],
   "source": [
    "#SVC - smote\n",
    "svc = SVC()                                                     # Create an instance of SVC\n",
    "svc.fit(X_smo, y_smo)                                           # Fit model with SMOTE oversampled training data\n",
    "print(classification_report(y_test, svc.predict(X_test)))       # Generate classification report"
   ]
  },
  {
   "cell_type": "code",
   "execution_count": 46,
   "id": "hazardous-convertible",
   "metadata": {},
   "outputs": [
    {
     "data": {
      "text/plain": [
       "array([0.80129662, 0.79472931, 0.80516966, 0.80146502, 0.80060626])"
      ]
     },
     "execution_count": 46,
     "metadata": {},
     "output_type": "execute_result"
    }
   ],
   "source": [
    "cross_val_score(svc, X_smo, y_smo, cv=5)"
   ]
  },
  {
   "cell_type": "code",
   "execution_count": 48,
   "id": "military-parcel",
   "metadata": {},
   "outputs": [
    {
     "name": "stdout",
     "output_type": "stream",
     "text": [
      "              precision    recall  f1-score   support\n",
      "\n",
      "           0       0.96      0.96      0.96      7412\n",
      "           1       0.50      0.54      0.52       588\n",
      "\n",
      "    accuracy                           0.93      8000\n",
      "   macro avg       0.73      0.75      0.74      8000\n",
      "weighted avg       0.93      0.93      0.93      8000\n",
      "\n"
     ]
    }
   ],
   "source": [
    "#Xgbc - smote\n",
    "xgbc = XGBClassifier()\n",
    "xgbc.fit(X_smo, y_smo)\n",
    "print(classification_report(y_test, xgbc.predict(X_test)))"
   ]
  },
  {
   "cell_type": "code",
   "execution_count": 49,
   "id": "electoral-tribute",
   "metadata": {},
   "outputs": [
    {
     "data": {
      "text/plain": [
       "array([0.83985855, 0.97516208, 0.97583565, 0.97398333, 0.97709667])"
      ]
     },
     "execution_count": 49,
     "metadata": {},
     "output_type": "execute_result"
    }
   ],
   "source": [
    "cross_val_score(xgbc, X_smo, y_smo, cv=5)"
   ]
  },
  {
   "cell_type": "code",
   "execution_count": 65,
   "id": "ranging-pittsburgh",
   "metadata": {},
   "outputs": [
    {
     "name": "stdout",
     "output_type": "stream",
     "text": [
      "              precision    recall  f1-score   support\n",
      "\n",
      "           0       0.97      0.95      0.96      7412\n",
      "           1       0.51      0.59      0.54       588\n",
      "\n",
      "    accuracy                           0.93      8000\n",
      "   macro avg       0.74      0.77      0.75      8000\n",
      "weighted avg       0.93      0.93      0.93      8000\n",
      "\n"
     ]
    }
   ],
   "source": [
    "#lgbm - smote\n",
    "lgbm = LGBMClassifier()                                         # Create an instance of LGBMClassifier\n",
    "lgbm.fit(X_smo, y_smo)                                          # Fit model with SMOTE oversampled training data\n",
    "print(classification_report(y_test, lgbm.predict(X_test)))      # Generate classification report"
   ]
  },
  {
   "cell_type": "code",
   "execution_count": 53,
   "id": "collected-terrace",
   "metadata": {},
   "outputs": [
    {
     "data": {
      "text/plain": [
       "array([0.83851141, 0.97154164, 0.97263619, 0.97036289, 0.9731391 ])"
      ]
     },
     "execution_count": 53,
     "metadata": {},
     "output_type": "execute_result"
    }
   ],
   "source": [
    "cross_val_score(lgbm, X_smo, y_smo, cv=5)"
   ]
  },
  {
   "cell_type": "code",
   "execution_count": 55,
   "id": "sharing-subcommittee",
   "metadata": {},
   "outputs": [
    {
     "name": "stdout",
     "output_type": "stream",
     "text": [
      "              precision    recall  f1-score   support\n",
      "\n",
      "           0       0.96      0.97      0.96      7412\n",
      "           1       0.52      0.43      0.47       588\n",
      "\n",
      "    accuracy                           0.93      8000\n",
      "   macro avg       0.74      0.70      0.72      8000\n",
      "weighted avg       0.92      0.93      0.93      8000\n",
      "\n"
     ]
    }
   ],
   "source": [
    "#RFC - smote\n",
    "rfc = RandomForestClassifier(n_jobs=2, random_state=rs)\n",
    "rfc.fit(X_smo, y_smo)\n",
    "print(classification_report(y_test, rfc.predict(X_test)))"
   ]
  },
  {
   "cell_type": "code",
   "execution_count": 67,
   "id": "tribal-judgment",
   "metadata": {},
   "outputs": [
    {
     "name": "stdout",
     "output_type": "stream",
     "text": [
      "              precision    recall  f1-score   support\n",
      "\n",
      "           0       0.99      0.86      0.92      7412\n",
      "           1       0.34      0.91      0.50       588\n",
      "\n",
      "    accuracy                           0.86      8000\n",
      "   macro avg       0.67      0.89      0.71      8000\n",
      "weighted avg       0.94      0.86      0.89      8000\n",
      "\n"
     ]
    }
   ],
   "source": [
    "#lgbm - rus\n",
    "lgbm = LGBMClassifier()                                         \n",
    "lgbm.fit(X_rus, y_rus)                                          \n",
    "print(classification_report(y_test, lgbm.predict(X_test)))    "
   ]
  },
  {
   "cell_type": "code",
   "execution_count": 68,
   "id": "smoking-centre",
   "metadata": {},
   "outputs": [
    {
     "data": {
      "text/plain": [
       "array([0.89177489, 0.8808234 , 0.89057421, 0.86673889, 0.87865655])"
      ]
     },
     "execution_count": 68,
     "metadata": {},
     "output_type": "execute_result"
    }
   ],
   "source": [
    "cross_val_score(lgbm, X_rus, y_rus, cv=5)"
   ]
  },
  {
   "cell_type": "code",
   "execution_count": 58,
   "id": "twenty-horse",
   "metadata": {},
   "outputs": [
    {
     "name": "stdout",
     "output_type": "stream",
     "text": [
      "              precision    recall  f1-score   support\n",
      "\n",
      "           0       0.99      0.86      0.92      7412\n",
      "           1       0.34      0.90      0.49       588\n",
      "\n",
      "    accuracy                           0.86      8000\n",
      "   macro avg       0.66      0.88      0.71      8000\n",
      "weighted avg       0.94      0.86      0.89      8000\n",
      "\n"
     ]
    }
   ],
   "source": [
    "#Xgbc - rus\n",
    "xgbc = XGBClassifier()\n",
    "xgbc.fit(X_rus, y_rus)\n",
    "print(classification_report(y_test, xgbc.predict(X_test)))"
   ]
  },
  {
   "cell_type": "code",
   "execution_count": 75,
   "id": "integrated-morgan",
   "metadata": {},
   "outputs": [
    {
     "data": {
      "image/png": "[encoded data removed]",
      "text/plain": [
       "<Figure size 1080x1080 with 1 Axes>"
      ]
     },
     "metadata": {
      "needs_background": "light"
     },
     "output_type": "display_data"
    }
   ],
   "source": [
    "ax = lightgbm.plot_importance(lgbm, max_num_features=40, figsize=(15,15))\n",
    "plt.show()"
   ]
  },
  {
   "cell_type": "code",
   "execution_count": 69,
   "id": "wireless-austin",
   "metadata": {},
   "outputs": [
    {
     "data": {
      "text/html": [
       "\n",
       "    <style>\n",
       "    table.eli5-weights tr:hover {\n",
       "        filter: brightness(85%);\n",
       "    }\n",
       "</style>\n",
       "\n",
       "\n",
       "\n",
       "    \n",
       "\n",
       "    \n",
       "\n",
       "    \n",
       "\n",
       "    \n",
       "\n",
       "    \n",
       "\n",
       "    \n",
       "\n",
       "\n",
       "    \n",
       "\n",
       "    \n",
       "\n",
       "    \n",
       "\n",
       "    \n",
       "\n",
       "    \n",
       "\n",
       "    \n",
       "\n",
       "\n",
       "    \n",
       "\n",
       "    \n",
       "\n",
       "    \n",
       "\n",
       "    \n",
       "\n",
       "    \n",
       "        <table class=\"eli5-weights eli5-feature-importances\" style=\"border-collapse: collapse; border: none; margin-top: 0em; table-layout: auto;\">\n",
       "    <thead>\n",
       "    <tr style=\"border: none;\">\n",
       "        <th style=\"padding: 0 1em 0 0.5em; text-align: right; border: none;\">Weight</th>\n",
       "        <th style=\"padding: 0 0.5em 0 0.5em; text-align: left; border: none;\">Feature</th>\n",
       "    </tr>\n",
       "    </thead>\n",
       "    <tbody>\n",
       "    \n",
       "        <tr style=\"background-color: hsl(120, 100.00%, 80.00%); border: none;\">\n",
       "            <td style=\"padding: 0 1em 0 0.5em; text-align: right; border: none;\">\n",
       "                0.0803\n",
       "                \n",
       "                    &plusmn; 0.0052\n",
       "                \n",
       "            </td>\n",
       "            <td style=\"padding: 0 0.5em 0 0.5em; text-align: left; border: none;\">\n",
       "                duration\n",
       "            </td>\n",
       "        </tr>\n",
       "    \n",
       "        <tr style=\"background-color: hsl(120, 100.00%, 85.36%); border: none;\">\n",
       "            <td style=\"padding: 0 1em 0 0.5em; text-align: right; border: none;\">\n",
       "                0.0514\n",
       "                \n",
       "                    &plusmn; 0.0030\n",
       "                \n",
       "            </td>\n",
       "            <td style=\"padding: 0 0.5em 0 0.5em; text-align: left; border: none;\">\n",
       "                contact_unknown\n",
       "            </td>\n",
       "        </tr>\n",
       "    \n",
       "        <tr style=\"background-color: hsl(120, 100.00%, 87.20%); border: none;\">\n",
       "            <td style=\"padding: 0 1em 0 0.5em; text-align: right; border: none;\">\n",
       "                0.0424\n",
       "                \n",
       "                    &plusmn; 0.0024\n",
       "                \n",
       "            </td>\n",
       "            <td style=\"padding: 0 0.5em 0 0.5em; text-align: left; border: none;\">\n",
       "                month_aug\n",
       "            </td>\n",
       "        </tr>\n",
       "    \n",
       "        <tr style=\"background-color: hsl(120, 100.00%, 87.22%); border: none;\">\n",
       "            <td style=\"padding: 0 1em 0 0.5em; text-align: right; border: none;\">\n",
       "                0.0423\n",
       "                \n",
       "                    &plusmn; 0.0062\n",
       "                \n",
       "            </td>\n",
       "            <td style=\"padding: 0 0.5em 0 0.5em; text-align: left; border: none;\">\n",
       "                day\n",
       "            </td>\n",
       "        </tr>\n",
       "    \n",
       "        <tr style=\"background-color: hsl(120, 100.00%, 88.41%); border: none;\">\n",
       "            <td style=\"padding: 0 1em 0 0.5em; text-align: right; border: none;\">\n",
       "                0.0368\n",
       "                \n",
       "                    &plusmn; 0.0023\n",
       "                \n",
       "            </td>\n",
       "            <td style=\"padding: 0 0.5em 0 0.5em; text-align: left; border: none;\">\n",
       "                month_jul\n",
       "            </td>\n",
       "        </tr>\n",
       "    \n",
       "        <tr style=\"background-color: hsl(120, 100.00%, 93.67%); border: none;\">\n",
       "            <td style=\"padding: 0 1em 0 0.5em; text-align: right; border: none;\">\n",
       "                0.0155\n",
       "                \n",
       "                    &plusmn; 0.0012\n",
       "                \n",
       "            </td>\n",
       "            <td style=\"padding: 0 0.5em 0 0.5em; text-align: left; border: none;\">\n",
       "                month_nov\n",
       "            </td>\n",
       "        </tr>\n",
       "    \n",
       "        <tr style=\"background-color: hsl(120, 100.00%, 94.29%); border: none;\">\n",
       "            <td style=\"padding: 0 1em 0 0.5em; text-align: right; border: none;\">\n",
       "                0.0134\n",
       "                \n",
       "                    &plusmn; 0.0019\n",
       "                \n",
       "            </td>\n",
       "            <td style=\"padding: 0 0.5em 0 0.5em; text-align: left; border: none;\">\n",
       "                month_may\n",
       "            </td>\n",
       "        </tr>\n",
       "    \n",
       "        <tr style=\"background-color: hsl(120, 100.00%, 94.64%); border: none;\">\n",
       "            <td style=\"padding: 0 1em 0 0.5em; text-align: right; border: none;\">\n",
       "                0.0122\n",
       "                \n",
       "                    &plusmn; 0.0009\n",
       "                \n",
       "            </td>\n",
       "            <td style=\"padding: 0 0.5em 0 0.5em; text-align: left; border: none;\">\n",
       "                month_jan\n",
       "            </td>\n",
       "        </tr>\n",
       "    \n",
       "        <tr style=\"background-color: hsl(120, 100.00%, 95.02%); border: none;\">\n",
       "            <td style=\"padding: 0 1em 0 0.5em; text-align: right; border: none;\">\n",
       "                0.0110\n",
       "                \n",
       "                    &plusmn; 0.0009\n",
       "                \n",
       "            </td>\n",
       "            <td style=\"padding: 0 0.5em 0 0.5em; text-align: left; border: none;\">\n",
       "                month_feb\n",
       "            </td>\n",
       "        </tr>\n",
       "    \n",
       "        <tr style=\"background-color: hsl(120, 100.00%, 95.79%); border: none;\">\n",
       "            <td style=\"padding: 0 1em 0 0.5em; text-align: right; border: none;\">\n",
       "                0.0087\n",
       "                \n",
       "                    &plusmn; 0.0023\n",
       "                \n",
       "            </td>\n",
       "            <td style=\"padding: 0 0.5em 0 0.5em; text-align: left; border: none;\">\n",
       "                housing_yes\n",
       "            </td>\n",
       "        </tr>\n",
       "    \n",
       "        <tr style=\"background-color: hsl(120, 100.00%, 96.45%); border: none;\">\n",
       "            <td style=\"padding: 0 1em 0 0.5em; text-align: right; border: none;\">\n",
       "                0.0068\n",
       "                \n",
       "                    &plusmn; 0.0005\n",
       "                \n",
       "            </td>\n",
       "            <td style=\"padding: 0 0.5em 0 0.5em; text-align: left; border: none;\">\n",
       "                month_jun\n",
       "            </td>\n",
       "        </tr>\n",
       "    \n",
       "        <tr style=\"background-color: hsl(120, 100.00%, 99.02%); border: none;\">\n",
       "            <td style=\"padding: 0 1em 0 0.5em; text-align: right; border: none;\">\n",
       "                0.0011\n",
       "                \n",
       "                    &plusmn; 0.0017\n",
       "                \n",
       "            </td>\n",
       "            <td style=\"padding: 0 0.5em 0 0.5em; text-align: left; border: none;\">\n",
       "                campaign\n",
       "            </td>\n",
       "        </tr>\n",
       "    \n",
       "        <tr style=\"background-color: hsl(120, 100.00%, 99.14%); border: none;\">\n",
       "            <td style=\"padding: 0 1em 0 0.5em; text-align: right; border: none;\">\n",
       "                0.0009\n",
       "                \n",
       "                    &plusmn; 0.0006\n",
       "                \n",
       "            </td>\n",
       "            <td style=\"padding: 0 0.5em 0 0.5em; text-align: left; border: none;\">\n",
       "                month_mar\n",
       "            </td>\n",
       "        </tr>\n",
       "    \n",
       "        <tr style=\"background-color: hsl(120, 100.00%, 99.21%); border: none;\">\n",
       "            <td style=\"padding: 0 1em 0 0.5em; text-align: right; border: none;\">\n",
       "                0.0008\n",
       "                \n",
       "                    &plusmn; 0.0008\n",
       "                \n",
       "            </td>\n",
       "            <td style=\"padding: 0 0.5em 0 0.5em; text-align: left; border: none;\">\n",
       "                loan_yes\n",
       "            </td>\n",
       "        </tr>\n",
       "    \n",
       "        <tr style=\"background-color: hsl(120, 100.00%, 99.22%); border: none;\">\n",
       "            <td style=\"padding: 0 1em 0 0.5em; text-align: right; border: none;\">\n",
       "                0.0008\n",
       "                \n",
       "                    &plusmn; 0.0006\n",
       "                \n",
       "            </td>\n",
       "            <td style=\"padding: 0 0.5em 0 0.5em; text-align: left; border: none;\">\n",
       "                marital_married\n",
       "            </td>\n",
       "        </tr>\n",
       "    \n",
       "        <tr style=\"background-color: hsl(120, 100.00%, 99.28%); border: none;\">\n",
       "            <td style=\"padding: 0 1em 0 0.5em; text-align: right; border: none;\">\n",
       "                0.0007\n",
       "                \n",
       "                    &plusmn; 0.0008\n",
       "                \n",
       "            </td>\n",
       "            <td style=\"padding: 0 0.5em 0 0.5em; text-align: left; border: none;\">\n",
       "                job_management\n",
       "            </td>\n",
       "        </tr>\n",
       "    \n",
       "        <tr style=\"background-color: hsl(120, 100.00%, 99.41%); border: none;\">\n",
       "            <td style=\"padding: 0 1em 0 0.5em; text-align: right; border: none;\">\n",
       "                0.0005\n",
       "                \n",
       "                    &plusmn; 0.0017\n",
       "                \n",
       "            </td>\n",
       "            <td style=\"padding: 0 0.5em 0 0.5em; text-align: left; border: none;\">\n",
       "                age\n",
       "            </td>\n",
       "        </tr>\n",
       "    \n",
       "        <tr style=\"background-color: hsl(120, 100.00%, 99.51%); border: none;\">\n",
       "            <td style=\"padding: 0 1em 0 0.5em; text-align: right; border: none;\">\n",
       "                0.0004\n",
       "                \n",
       "                    &plusmn; 0.0005\n",
       "                \n",
       "            </td>\n",
       "            <td style=\"padding: 0 0.5em 0 0.5em; text-align: left; border: none;\">\n",
       "                month_oct\n",
       "            </td>\n",
       "        </tr>\n",
       "    \n",
       "        <tr style=\"background-color: hsl(120, 100.00%, 99.67%); border: none;\">\n",
       "            <td style=\"padding: 0 1em 0 0.5em; text-align: right; border: none;\">\n",
       "                0.0002\n",
       "                \n",
       "                    &plusmn; 0.0002\n",
       "                \n",
       "            </td>\n",
       "            <td style=\"padding: 0 0.5em 0 0.5em; text-align: left; border: none;\">\n",
       "                job_student\n",
       "            </td>\n",
       "        </tr>\n",
       "    \n",
       "        <tr style=\"background-color: hsl(120, 100.00%, 99.73%); border: none;\">\n",
       "            <td style=\"padding: 0 1em 0 0.5em; text-align: right; border: none;\">\n",
       "                0.0002\n",
       "                \n",
       "                    &plusmn; 0.0007\n",
       "                \n",
       "            </td>\n",
       "            <td style=\"padding: 0 0.5em 0 0.5em; text-align: left; border: none;\">\n",
       "                job_technician\n",
       "            </td>\n",
       "        </tr>\n",
       "    \n",
       "    \n",
       "        \n",
       "            <tr style=\"background-color: hsl(120, 100.00%, 99.73%); border: none;\">\n",
       "                <td colspan=\"2\" style=\"padding: 0 0.5em 0 0.5em; text-align: center; border: none; white-space: nowrap;\">\n",
       "                    <i>&hellip; 16 more &hellip;</i>\n",
       "                </td>\n",
       "            </tr>\n",
       "        \n",
       "    \n",
       "    </tbody>\n",
       "</table>\n",
       "    \n",
       "\n",
       "    \n",
       "\n",
       "\n",
       "    \n",
       "\n",
       "    \n",
       "\n",
       "    \n",
       "\n",
       "    \n",
       "\n",
       "    \n",
       "\n",
       "    \n",
       "\n",
       "\n",
       "\n"
      ],
      "text/plain": [
       "<IPython.core.display.HTML object>"
      ]
     },
     "execution_count": 69,
     "metadata": {},
     "output_type": "execute_result"
    }
   ],
   "source": [
    "import eli5\n",
    "from eli5.sklearn import PermutationImportance\n",
    "\n",
    "perm_lgbm = PermutationImportance(lgbm, random_state=rs).fit(X_test, y_test)\n",
    "eli5.show_weights(perm_lgbm, feature_names = X_test.columns.tolist())"
   ]
  },
  {
   "cell_type": "code",
   "execution_count": null,
   "id": "multiple-advantage",
   "metadata": {},
   "outputs": [],
   "source": []
  }
 ],
 "metadata": {
  "kernelspec": {
   "display_name": "Python 3",
   "language": "python",
   "name": "python3"
  },
  "language_info": {
   "codemirror_mode": {
    "name": "ipython",
    "version": 3
   },
   "file_extension": ".py",
   "mimetype": "text/x-python",
   "name": "python",
   "nbconvert_exporter": "python",
   "pygments_lexer": "ipython3",
   "version": "3.8.3"
  }
 },
 "nbformat": 4,
 "nbformat_minor": 5
}
